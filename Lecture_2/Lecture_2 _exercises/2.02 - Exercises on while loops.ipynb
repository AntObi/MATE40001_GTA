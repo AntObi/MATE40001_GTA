{
 "cells": [
  {
   "cell_type": "markdown",
   "metadata": {},
   "source": [
    "**IMPORTANT NOTE:** \n",
    "In order to do some of these exercises, you might have to dig into the lecture notes in the relevant section. \n",
    "\n",
    "**Quick summary**\n",
    "In this notebook, we will explore the use of so called \"conditional statements\", covered in Section 2 of the lecture notes. So-called `while` loops are used to keep repeating a series of instructions until a certain condition is valid. Think about something like this:  \n",
    "1. Take a spoon of flour and add it to water\n",
    "2. Keep repeating instruction 1. until you obtain and almost solid mixture\n",
    "\n",
    "The typical structure of a while loop has of the form:  \n",
    "\n",
    "```Python\n",
    "while ( some condition ):\n",
    "    some instruction to be repeated\n",
    "```\n",
    "\n",
    "As for the `if` command, (some condition) can be **any** logical statement that returns a `True / False` value"
   ]
  },
  {
   "cell_type": "code",
   "execution_count": null,
   "metadata": {},
   "outputs": [],
   "source": [
    "# A simple example. Run the intepreter to check what happens\n",
    "\n",
    "a = 0\n",
    "while a < 10:\n",
    "    print( 'The value of a is {0:d}'.format(a) )\n",
    "    a = a + 1\n",
    "\n"
   ]
  },
  {
   "cell_type": "code",
   "execution_count": null,
   "metadata": {
    "scrolled": false
   },
   "outputs": [],
   "source": [
    "# Remember that in a while loop the \"some instruction to \n",
    "# be repeated\" must somehow be able to change the condition, \n",
    "# or you can get into an 'infinite loop' that never terminates...\n",
    "# check the difference between the following and the example \n",
    "# above: What happens?  \n",
    "# NOTE: Use the black square button above next to the run command \n",
    "# if you want to stop Python executing the program...\n",
    "\n",
    "a = 0\n",
    "while a < 10:\n",
    "    print( 'The value of a is {0:d}'.format(a) )\n"
   ]
  },
  {
   "cell_type": "code",
   "execution_count": null,
   "metadata": {},
   "outputs": [],
   "source": [
    "# ...if you have understood the logic, you should be able to \n",
    "# do the following exercises easily!\n",
    "\n",
    "# Replace the ??? in the program below so that the program \n",
    "# prints the names in the list \"invited\" below until the name \n",
    "# 'Jamie' is met.\n",
    "# Remember that to access the i-th element of the list 'a' \n",
    "# you can write a[i]\n",
    "\n",
    "invited = [ \"Mark\", \"Mandy\", \"Holly\", \"Jamie\", \"Lucas\", \"Kevin\" ]\n",
    "i = 0\n",
    "\n",
    "while ( ??? ):\n",
    "    print( 'The name of the invited person is: {0:s}'.format( invited[i] ) ) \n",
    "    i = i + 1\n",
    "    "
   ]
  },
  {
   "cell_type": "code",
   "execution_count": null,
   "metadata": {},
   "outputs": [],
   "source": [
    "# Replace the ??? in the program below so that the program \n",
    "# prints the numbers in the list until a negative number is found\n",
    "\n",
    "myList = [ 95, 1, 44, 54, 67, -9, 10, 21, 456 ]\n",
    "counter = 0\n",
    "\n",
    "while ( ??? ):\n",
    "    print( 'The number in position {0:d} in the list is {1:d}'.format( counter, myList[ counter ] ) ) \n",
    "    counter = counter + 1\n",
    "    "
   ]
  },
  {
   "cell_type": "code",
   "execution_count": null,
   "metadata": {},
   "outputs": [],
   "source": [
    "# Repeat the same as in the cell above, but now start \n",
    "# from the last number in the list and go backward...\n",
    "\n",
    "myList = [ 95, 1, 44, 54, 67, -9, 10, 21, 456 ]\n",
    "counter = ???\n",
    "\n",
    "while ( ??? ):\n",
    "    print( 'The number is {0:d}'.format( myList[ counter ] ) ) \n",
    "    counter = ???\n",
    "    "
   ]
  },
  {
   "cell_type": "code",
   "execution_count": null,
   "metadata": {},
   "outputs": [],
   "source": [
    "# This is maybe slightly more complicated...\n",
    "# Complete the program below by modifying where you find \n",
    "# the ??? sign to print the number pi with an increasing \n",
    "# number of digits until 20 are given (note how we use the \n",
    "# \"format\" here!)\n",
    "\n",
    "i = 0\n",
    "import math\n",
    "pi = math.pi  #This is the number pi\n",
    "\n",
    "while ???:\n",
    "    print( 'the value of pi is {0:.{1:d}f}'.format( math.pi, i ))\n",
    "    i = ???"
   ]
  },
  {
   "cell_type": "markdown",
   "metadata": {},
   "source": [
    "We now introduce the `continue` command\n",
    "\n",
    "Sometime in `while` loops we would like to skip some operations when some conditions \n",
    "is encountered, but without terminating the loop. This can be done via the \n",
    "`continue` command combined with an `if` statement.\n",
    "\n",
    "The synthax is:\n",
    "\n",
    "```Python\n",
    "while ( some condition ):\n",
    "    if ( some other condition ):\n",
    "       continue    \n",
    "    some instructions for the while loop \n",
    "```\n",
    "\n",
    "If 'some other condition' is met, the instructions in the while loop are **not** executed, and instead\n",
    "the program restart from the beginning of the loop at the while above.\n",
    "\n",
    "You can check also [this link](https://www.tutorialspoint.com/python3/python_continue_statement.htm)"
   ]
  },
  {
   "cell_type": "code",
   "execution_count": null,
   "metadata": {
    "scrolled": true
   },
   "outputs": [],
   "source": [
    "# Let's check this with a simple example ( here we want \n",
    "# to print all numbers in the list but not negative ones ).\n",
    "\n",
    "myList = [ 95, 1, 44, -4, 67, -9, 10, 21, 456 ]\n",
    "i = 0\n",
    "length = len( myList )  # The command len( list ) returns \n",
    "                        # the length of the list\n",
    "\n",
    "while ( i < length ):\n",
    "    if myList[ i ] < 0:\n",
    "        i += 1\n",
    "        continue\n",
    "    print( 'The number at position {0:d} is {1:d}'.format( i, myList[ i ] ) )\n",
    "    i += 1\n"
   ]
  },
  {
   "cell_type": "code",
   "execution_count": null,
   "metadata": {},
   "outputs": [],
   "source": [
    "# Copy-paste the program above and modify it so that: \n",
    "# numbers are printed as long as the number 10 is found\n",
    "# only negative numbers are printed\n",
    "\n",
    "myList = [ 95, 1, 44, -4, 67, -9, 10, 21, 456 ]\n",
    "i = 0\n",
    "length = len( myList )  # The command len( list ) returns the \n",
    "                        # length of the list\n",
    "\n",
    "# Start here!\n",
    "\n",
    "\n",
    "\n"
   ]
  },
  {
   "cell_type": "code",
   "execution_count": null,
   "metadata": {},
   "outputs": [],
   "source": [
    "# Write a while loop that contains the continue command \n",
    "# to print out all even numbers smaller than 50.\n",
    "# Run the Python interpreter to check if it works!\n",
    "\n",
    "\n",
    "\n"
   ]
  },
  {
   "cell_type": "markdown",
   "metadata": {},
   "source": [
    "Let us talk about the `break` command.  \n",
    "\n",
    "This is used in case one finds a certain condition, different from that governing the while loop, \n",
    "to tell us to stop the loop and exit it. This is exactly the use of the 'break' command, again\n",
    "combined with an 'if' statement.  \n",
    "\n",
    "The synthax is:  \n",
    "\n",
    "```Python\n",
    "while ( some condition ):\n",
    "    if ( some other condition ):\n",
    "        break\n",
    "    some instructions for the while loop \n",
    "```\n",
    "\n",
    "If `some other condition` is met, the program exit the loop immediately **whithout** performing the \n",
    "instructions following in the main body of the loop"
   ]
  },
  {
   "cell_type": "code",
   "execution_count": null,
   "metadata": {},
   "outputs": [],
   "source": [
    "# Let's check this with a simple example. \n",
    "# FYI: The function np.random.rand() returns a (pseudo-)random \n",
    "#      number between 0 and 1\n",
    "# FYI: The function np.random.seed( mySeed ) use mySeed to \n",
    "#      initiate a series of (pseudo-)random numbers\n",
    "#      Once mySeed is set, the sequence of number is actually \n",
    "#      always the same. Try!\n",
    "#   For further info: \n",
    "#   https://en.wikipedia.org/wiki/Random_number_generation\n",
    "\n",
    "import numpy as np\n",
    "seed = 10 \n",
    "np.random.seed( seed )\n",
    "\n",
    "while True:\n",
    "    nn = np.random.rand()\n",
    "    if nn > 0.80:\n",
    "        print( 'The random number generated is {0:.5f}, larger than 0.8 and the program will stop'.format( nn ) )      \n",
    "        break\n",
    "    print( 'The random number now is {0:.5f}'.format( nn ) )        "
   ]
  },
  {
   "cell_type": "code",
   "execution_count": null,
   "metadata": {},
   "outputs": [],
   "source": [
    "# The function pick_random_name( myList ) returns a random \n",
    "# name in the list \"myList\"\n",
    "# Write a while loop that contains the break statement to print \n",
    "# out 10 of these names (repetitions are allowed) but make \n",
    "# the program stop if the name \"Mister X\" is found.\n",
    "\n",
    "# Run the Python interpreter to check if it works!\n",
    "\n",
    "import numpy as np\n",
    "\n",
    "def pick_random_name( myList ):\n",
    "    num = int( np.random.rand() * len( myList ) )\n",
    "    return myList[ num ]\n",
    "\n",
    "myList = [ \"Marie Curie\", \"Jeff Jefferson\", \"Mister X\", \"Miss Marble\", \"Albert Einstein\", \"Lars Onsager\" ]\n",
    "# Write your program here!\n",
    "\n",
    "i = 0\n",
    "while ???:\n",
    "    name = pick_random_name( myList )\n",
    "    i += 1\n",
    "    if ???:\n",
    "        print( \"Stopping the list: name Mister X was found\" )        \n",
    "        ???\n",
    "    print( \"The name extracted is: {0:s}\".format( name ) )"
   ]
  },
  {
   "cell_type": "code",
   "execution_count": null,
   "metadata": {},
   "outputs": [],
   "source": [
    "import numpy as np\n",
    "\n",
    "# Using a combination of while and break statement, write \n",
    "# a program so that the program prints all pairs of random\n",
    "# numbers it extracts, but stops once the first number is \n",
    "# more than 10 times the second one a random number x between \n",
    "# 0 (excluded) and 1000 (included) can be generated using \n",
    "# the command:\n",
    "\n",
    "# x = int( np.random.rand() * 1000 ) + 1\n",
    "\n",
    "\n",
    "    \n",
    "\n"
   ]
  }
 ],
 "metadata": {
  "kernelspec": {
   "display_name": "Python 3",
   "language": "python",
   "name": "python3"
  },
  "language_info": {
   "codemirror_mode": {
    "name": "ipython",
    "version": 3
   },
   "file_extension": ".py",
   "mimetype": "text/x-python",
   "name": "python",
   "nbconvert_exporter": "python",
   "pygments_lexer": "ipython3",
   "version": "3.7.2"
  }
 },
 "nbformat": 4,
 "nbformat_minor": 2
}
