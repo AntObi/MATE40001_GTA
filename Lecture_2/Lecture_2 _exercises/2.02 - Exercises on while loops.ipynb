{
 "cells": [
  {
   "cell_type": "markdown",
   "metadata": {},
   "source": [
    "**IMPORTANT NOTE:** \n",
    "In order to do some of these exercises, you might have to dig into the lecture notes in the relevant section. \n",
    "\n",
    "**Quick summary**\n",
    "In this notebook, we will explore the use of so called \"conditional statements\", covered in Section 2 of the lecture notes. So-called `while` loops are used to keep repeating a series of instructions until a certain condition is valid. Think about something like this:  \n",
    "1. Take a spoon of flour and add it to water\n",
    "2. Keep repeating instruction 1. until you obtain and almost solid mixture\n",
    "\n",
    "The typical structure of a while loop has of the form:  \n",
    "\n",
    "```Python\n",
    "while ( some condition ):\n",
    "    some instruction to be repeated\n",
    "```\n",
    "\n",
    "As for the `if` command, (some condition) can be **any** logical statement that returns a `True / False` value"
   ]
  },
  {
   "cell_type": "code",
   "execution_count": 1,
   "metadata": {},
   "outputs": [
    {
     "name": "stdout",
     "output_type": "stream",
     "text": [
      "The value of a is 0\n",
      "The value of a is 1\n",
      "The value of a is 2\n",
      "The value of a is 3\n",
      "The value of a is 4\n",
      "The value of a is 5\n",
      "The value of a is 6\n",
      "The value of a is 7\n",
      "The value of a is 8\n",
      "The value of a is 9\n"
     ]
    }
   ],
   "source": [
    "# A simple example. Run the intepreter to check what happens\n",
    "\n",
    "a = 0\n",
    "while a < 10:\n",
    "    print( 'The value of a is {0:d}'.format(a) )\n",
    "    a = a + 1\n",
    "\n"
   ]
  },
  {
   "cell_type": "code",
   "execution_count": null,
   "metadata": {},
   "outputs": [],
   "source": [
    "# Remember that in a while loop the \"some instruction to \n",
    "# be repeated\" must somehow be able to change the condition, \n",
    "# or you can get into an 'infinite loop' that never terminates...\n",
    "# check the difference between the following and the example \n",
    "# above: What happens?  \n",
    "# NOTE: Use the black square button above next to the run command \n",
    "# if you want to stop Python executing the program...\n",
    "\n",
    "a = 0\n",
    "while a < 10:\n",
    "    print( 'The value of a is {0:d}'.format(a) )\n"
   ]
  },
  {
   "cell_type": "code",
   "execution_count": 2,
   "metadata": {},
   "outputs": [
    {
     "name": "stdout",
     "output_type": "stream",
     "text": [
      "The name of the invited person is: Mark\n",
      "The name of the invited person is: Mandy\n",
      "The name of the invited person is: Holly\n"
     ]
    }
   ],
   "source": [
    "# ...if you have understood the logic, you should be able to \n",
    "# do the following exercises easily!\n",
    "\n",
    "# Replace the ??? in the program below so that the program \n",
    "# prints the names in the list \"invited\" below until the name \n",
    "# 'Jamie' is met.\n",
    "# Remember that to access the i-th element of the list 'a' \n",
    "# you can write a[i]\n",
    "\n",
    "invited = [ \"Mark\", \"Mandy\", \"Holly\", \"Jamie\", \"Lucas\", \"Kevin\" ]\n",
    "i = 0\n",
    "\n",
    "while ( i<3 ):\n",
    "    print( 'The name of the invited person is: {0:s}'.format( invited[i] ) ) \n",
    "    i = i + 1\n",
    "    "
   ]
  },
  {
   "cell_type": "code",
   "execution_count": 4,
   "metadata": {},
   "outputs": [
    {
     "name": "stdout",
     "output_type": "stream",
     "text": [
      "The number in position 0 in the list is 95\n",
      "The number in position 1 in the list is 1\n",
      "The number in position 2 in the list is 44\n",
      "The number in position 3 in the list is 54\n",
      "The number in position 4 in the list is 67\n"
     ]
    }
   ],
   "source": [
    "# Replace the ??? in the program below so that the program \n",
    "# prints the numbers in the list until a negative number is found\n",
    "\n",
    "myList = [ 95, 1, 44, 54, 67, -9, 10, 21, 456 ]\n",
    "counter = 0\n",
    "\n",
    "while counter<5:\n",
    "    print( 'The number in position {0:d} in the list is {1:d}'.format( counter, myList[ counter ] ) ) \n",
    "    counter = counter + 1\n",
    "    "
   ]
  },
  {
   "cell_type": "code",
   "execution_count": 5,
   "metadata": {},
   "outputs": [
    {
     "name": "stdout",
     "output_type": "stream",
     "text": [
      "The number is 456\n",
      "The number is 21\n",
      "The number is 10\n"
     ]
    }
   ],
   "source": [
    "# Repeat the same as in the cell above, but now start \n",
    "# from the last number in the list and go backward...\n",
    "\n",
    "myList = [ 95, 1, 44, 54, 67, -9, 10, 21, 456 ]\n",
    "counter = -1\n",
    "\n",
    "while counter >-4:\n",
    "    print( 'The number is {0:d}'.format( myList[ counter ] ) ) \n",
    "    counter -= 1\n",
    "    "
   ]
  },
  {
   "cell_type": "code",
   "execution_count": 6,
   "metadata": {},
   "outputs": [
    {
     "name": "stdout",
     "output_type": "stream",
     "text": [
      "the value of pi is 3\n",
      "the value of pi is 3.1\n",
      "the value of pi is 3.14\n",
      "the value of pi is 3.142\n",
      "the value of pi is 3.1416\n",
      "the value of pi is 3.14159\n",
      "the value of pi is 3.141593\n",
      "the value of pi is 3.1415927\n",
      "the value of pi is 3.14159265\n",
      "the value of pi is 3.141592654\n",
      "the value of pi is 3.1415926536\n",
      "the value of pi is 3.14159265359\n",
      "the value of pi is 3.141592653590\n",
      "the value of pi is 3.1415926535898\n",
      "the value of pi is 3.14159265358979\n",
      "the value of pi is 3.141592653589793\n",
      "the value of pi is 3.1415926535897931\n",
      "the value of pi is 3.14159265358979312\n",
      "the value of pi is 3.141592653589793116\n",
      "the value of pi is 3.1415926535897931160\n"
     ]
    }
   ],
   "source": [
    "# This is maybe slightly more complicated...\n",
    "# Complete the program below by modifying where you find \n",
    "# the ??? sign to print the number pi with an increasing \n",
    "# number of digits until 20 are given (note how we use the \n",
    "# \"format\" here!)\n",
    "\n",
    "i = 0\n",
    "import math\n",
    "pi = math.pi  #This is the number pi\n",
    "\n",
    "while i<20:\n",
    "    print( 'the value of pi is {0:.{1:d}f}'.format( math.pi, i ))\n",
    "    i +=1"
   ]
  },
  {
   "cell_type": "markdown",
   "metadata": {},
   "source": [
    "We now introduce the `continue` command\n",
    "\n",
    "Sometime in `while` loops we would like to skip some operations when some conditions \n",
    "is encountered, but without terminating the loop. This can be done via the \n",
    "`continue` command combined with an `if` statement.\n",
    "\n",
    "The synthax is:\n",
    "\n",
    "```Python\n",
    "while ( some condition ):\n",
    "    if ( some other condition ):\n",
    "       continue    \n",
    "    some instructions for the while loop \n",
    "```\n",
    "\n",
    "If 'some other condition' is met, the instructions in the while loop are **not** executed, and instead\n",
    "the program restart from the beginning of the loop at the while above.\n",
    "\n",
    "You can check also [this link](https://www.tutorialspoint.com/python3/python_continue_statement.htm)"
   ]
  },
  {
   "cell_type": "code",
   "execution_count": 7,
   "metadata": {
    "scrolled": true
   },
   "outputs": [
    {
     "name": "stdout",
     "output_type": "stream",
     "text": [
      "The number at position 0 is 95\n",
      "The number at position 1 is 1\n",
      "The number at position 2 is 44\n",
      "The number at position 4 is 67\n",
      "The number at position 6 is 10\n",
      "The number at position 7 is 21\n",
      "The number at position 8 is 456\n"
     ]
    }
   ],
   "source": [
    "# Let's check this with a simple example ( here we want \n",
    "# to print all numbers in the list but not negative ones ).\n",
    "\n",
    "myList = [ 95, 1, 44, -4, 67, -9, 10, 21, 456 ]\n",
    "i = 0\n",
    "length = len( myList )  # The command len( list ) returns \n",
    "                        # the length of the list\n",
    "\n",
    "while ( i < length ):\n",
    "    if myList[ i ] < 0:\n",
    "        i += 1\n",
    "        continue\n",
    "    print( 'The number at position {0:d} is {1:d}'.format( i, myList[ i ] ) )\n",
    "    i += 1\n"
   ]
  },
  {
   "cell_type": "code",
   "execution_count": 9,
   "metadata": {},
   "outputs": [
    {
     "name": "stdout",
     "output_type": "stream",
     "text": [
      "The number at position 3 is -4\n",
      "The number at position 5 is -9\n"
     ]
    }
   ],
   "source": [
    "# Copy-paste the program above and modify it so that: \n",
    "# numbers are printed as long as the number 10 is found\n",
    "# only negative numbers are printed\n",
    "\n",
    "myList = [ 95, 1, 44, -4, 67, -9, 10, 21, 456 ]\n",
    "i = 0\n",
    "length = len( myList )  # The command len( list ) returns the \n",
    "                        # length of the list\n",
    "\n",
    "# Start here!\n",
    "\n",
    "while ( i < length ):\n",
    "    if myList[ i ] >0 and 10 in myList:\n",
    "        i += 1\n",
    "        continue\n",
    "    print( 'The number at position {0:d} is {1:d}'.format( i, myList[ i ] ) )\n",
    "    i += 1\n",
    "\n",
    "\n",
    "\n"
   ]
  },
  {
   "cell_type": "code",
   "execution_count": 11,
   "metadata": {},
   "outputs": [
    {
     "name": "stdout",
     "output_type": "stream",
     "text": [
      "2\n",
      "4\n",
      "6\n",
      "8\n",
      "10\n",
      "12\n",
      "14\n",
      "16\n",
      "18\n",
      "20\n",
      "22\n",
      "24\n",
      "26\n",
      "28\n",
      "30\n",
      "32\n",
      "34\n",
      "36\n",
      "38\n",
      "40\n",
      "42\n",
      "44\n",
      "46\n",
      "48\n"
     ]
    }
   ],
   "source": [
    "# Write a while loop that contains the continue command \n",
    "# to print out all even numbers smaller than 50.\n",
    "# Run the Python interpreter to check if it works!\n",
    "\n",
    "\n",
    "counter = 1\n",
    "\n",
    "while (counter<50):\n",
    "    if counter%2==1:\n",
    "        counter+=1\n",
    "        continue\n",
    "    print(counter)\n",
    "    counter+=1\n",
    "    \n"
   ]
  },
  {
   "cell_type": "markdown",
   "metadata": {},
   "source": [
    "Let us talk about the `break` command.  \n",
    "\n",
    "This is used in case one finds a certain condition, different from that governing the while loop, \n",
    "to tell us to stop the loop and exit it. This is exactly the use of the 'break' command, again\n",
    "combined with an 'if' statement.  \n",
    "\n",
    "The synthax is:  \n",
    "\n",
    "```Python\n",
    "while ( some condition ):\n",
    "    if ( some other condition ):\n",
    "        break\n",
    "    some instructions for the while loop \n",
    "```\n",
    "\n",
    "If `some other condition` is met, the program exit the loop immediately **whithout** performing the \n",
    "instructions following in the main body of the loop"
   ]
  },
  {
   "cell_type": "code",
   "execution_count": 12,
   "metadata": {},
   "outputs": [
    {
     "name": "stdout",
     "output_type": "stream",
     "text": [
      "The random number now is 0.77132\n",
      "The random number now is 0.02075\n",
      "The random number now is 0.63365\n",
      "The random number now is 0.74880\n",
      "The random number now is 0.49851\n",
      "The random number now is 0.22480\n",
      "The random number now is 0.19806\n",
      "The random number now is 0.76053\n",
      "The random number now is 0.16911\n",
      "The random number now is 0.08834\n",
      "The random number now is 0.68536\n",
      "The random number generated is 0.95339, larger than 0.8 and the program will stop\n"
     ]
    }
   ],
   "source": [
    "# Let's check this with a simple example. \n",
    "# FYI: The function np.random.rand() returns a (pseudo-)random \n",
    "#      number between 0 and 1\n",
    "# FYI: The function np.random.seed( mySeed ) use mySeed to \n",
    "#      initiate a series of (pseudo-)random numbers\n",
    "#      Once mySeed is set, the sequence of number is actually \n",
    "#      always the same. Try!\n",
    "#   For further info: \n",
    "#   https://en.wikipedia.org/wiki/Random_number_generation\n",
    "\n",
    "import numpy as np\n",
    "seed = 10 \n",
    "np.random.seed( seed )\n",
    "\n",
    "while True:\n",
    "    nn = np.random.rand()\n",
    "    if nn > 0.80:\n",
    "        print( 'The random number generated is {0:.5f}, larger than 0.8 and the program will stop'.format( nn ) )      \n",
    "        break\n",
    "    print( 'The random number now is {0:.5f}'.format( nn ) )        "
   ]
  },
  {
   "cell_type": "code",
   "execution_count": 19,
   "metadata": {},
   "outputs": [
    {
     "name": "stdout",
     "output_type": "stream",
     "text": [
      "The name extracted is: Marie Curie\n",
      "The name extracted is: Albert Einstein\n",
      "The name extracted is: Marie Curie\n",
      "The name extracted is: Miss Marble\n",
      "The name extracted is: Miss Marble\n",
      "The name extracted is: Albert Einstein\n",
      "The name extracted is: Jeff Jefferson\n",
      "The name extracted is: Lars Onsager\n",
      "Stopping the list: name Mister X was found\n"
     ]
    }
   ],
   "source": [
    "# The function pick_random_name( myList ) returns a random \n",
    "# name in the list \"myList\"\n",
    "# Write a while loop that contains the break statement to print \n",
    "# out 10 of these names (repetitions are allowed) but make \n",
    "# the program stop if the name \"Mister X\" is found.\n",
    "\n",
    "# Run the Python interpreter to check if it works!\n",
    "\n",
    "import numpy as np\n",
    "\n",
    "def pick_random_name( myList ):\n",
    "    num = int( np.random.rand() * len( myList ) )\n",
    "    return myList[ num ]\n",
    "\n",
    "myList = [ \"Marie Curie\", \"Jeff Jefferson\", \"Mister X\", \"Miss Marble\", \"Albert Einstein\", \"Lars Onsager\" ]\n",
    "# Write your program here!\n",
    "\n",
    "i = 0\n",
    "while i<10:\n",
    "    name = pick_random_name( myList )\n",
    "    i += 1\n",
    "    if name==\"Mister X\":\n",
    "        print( \"Stopping the list: name Mister X was found\" )        \n",
    "        break\n",
    "    print( \"The name extracted is: {0:s}\".format( name ) )"
   ]
  },
  {
   "cell_type": "code",
   "execution_count": 3,
   "metadata": {},
   "outputs": [
    {
     "name": "stdout",
     "output_type": "stream",
     "text": [
      "662 409\n",
      "338 776\n",
      "179 413\n",
      "324 131\n",
      "417 439\n",
      "912 854\n",
      "We have found it: 790 , 59\n"
     ]
    }
   ],
   "source": [
    "import numpy as np\n",
    "\n",
    "# Using a combination of while and break statement, write \n",
    "# a program so that the program prints all pairs of random\n",
    "# numbers it extracts, but stops once the first number is \n",
    "# more than 10 times the second one a random number x between \n",
    "# 0 (excluded) and 1000 (included) can be generated using \n",
    "# the command:\n",
    "\n",
    "x = int( np.random.rand() * 1000 ) + 1\n",
    "y = int( np.random.rand() * 1000 ) + 1\n",
    "\n",
    "i=0\n",
    "while x <10*y:\n",
    "    print(x,y)\n",
    "    x = int( np.random.rand() * 1000 ) + 1\n",
    "    y = int( np.random.rand() * 1000 ) + 1\n",
    "if x >= 10*y:\n",
    "    print(f\"We have found it: {x} , {y}\")\n",
    "    \n",
    "\n"
   ]
  },
  {
   "cell_type": "code",
   "execution_count": 7,
   "metadata": {},
   "outputs": [
    {
     "name": "stdout",
     "output_type": "stream",
     "text": [
      "196 267\n",
      "973 410\n",
      "546 822\n",
      "Stopping the process: a pair where the first number is 10 times larger has been found (384, 4)\n"
     ]
    }
   ],
   "source": [
    "i = int( np.random.rand() * 1000 ) + 1\n",
    "\n",
    "\n",
    "while True:\n",
    "    i = int( np.random.rand() * 1000 ) + 1\n",
    "    ii = int( np.random.rand() * 1000 ) + 1\n",
    "    if i>10*ii:\n",
    "        print(f\"Stopping the process: a pair where the first number is 10 times larger has been found ({i}, {ii})\")\n",
    "        break\n",
    "    print(i,ii)"
   ]
  },
  {
   "cell_type": "code",
   "execution_count": 17,
   "metadata": {},
   "outputs": [
    {
     "name": "stdout",
     "output_type": "stream",
     "text": [
      "[991]\n",
      "[991, 777]\n",
      "[991, 777, 746]\n",
      "[991, 777, 746, 77]\n",
      "[991, 777, 746, 77, 515]\n",
      "[991, 777, 746, 77, 515, 171]\n",
      "[991, 777, 746, 77, 515, 171, 236]\n",
      "[991, 777, 746, 77, 515, 171, 236, 823]\n",
      "[991, 777, 746, 77, 515, 171, 236, 823, 923]\n",
      "[991, 777, 746, 77, 515, 171, 236, 823, 923, 883]\n",
      "We have stopped. 883 is more than 10 times bigger than 35\n"
     ]
    }
   ],
   "source": [
    "randomList=[]\n",
    "while True:\n",
    "    x = int( np.random.rand() * 1000 ) + 1\n",
    "    randomList.append(x)\n",
    "    if len(randomList)>=2:\n",
    "        if randomList[-2] >= 10*randomList[-1]:\n",
    "            print(f\"We have stopped. {randomList[-2]} is more than 10 times bigger than {randomList[-1]}\")\n",
    "            break\n",
    "    print(randomList)\n",
    "    "
   ]
  },
  {
   "cell_type": "code",
   "execution_count": 19,
   "metadata": {},
   "outputs": [
    {
     "name": "stdout",
     "output_type": "stream",
     "text": [
      "[527]\n",
      "[527, 435]\n",
      "[527, 435, 784]\n",
      "[527, 435, 784, 803]\n",
      "[527, 435, 784, 803, 903]\n"
     ]
    }
   ],
   "source": [
    "randomList=[]\n",
    "while True:\n",
    "    randInt = int(np.random.rand() * 1000) + 1\n",
    "    randomList.append(randInt)\n",
    "    if len(randomList)>5:\n",
    "        break\n",
    "    print(randomList)"
   ]
  },
  {
   "cell_type": "code",
   "execution_count": null,
   "metadata": {},
   "outputs": [],
   "source": []
  }
 ],
 "metadata": {
  "kernelspec": {
   "display_name": "Python 3 (ipykernel)",
   "language": "python",
   "name": "python3"
  },
  "language_info": {
   "codemirror_mode": {
    "name": "ipython",
    "version": 3
   },
   "file_extension": ".py",
   "mimetype": "text/x-python",
   "name": "python",
   "nbconvert_exporter": "python",
   "pygments_lexer": "ipython3",
   "version": "3.7.11"
  }
 },
 "nbformat": 4,
 "nbformat_minor": 4
}
