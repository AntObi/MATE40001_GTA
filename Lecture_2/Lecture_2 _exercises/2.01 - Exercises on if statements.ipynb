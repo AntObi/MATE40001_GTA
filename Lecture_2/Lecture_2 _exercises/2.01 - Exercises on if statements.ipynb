{
 "cells": [
  {
   "cell_type": "markdown",
   "metadata": {},
   "source": [
    "***IMPORTANT NOTE***\n",
    "In order to do some of these exercises, you might have to dig into \n",
    "the lecture notes in the relevant section.  \n",
    "\n",
    "**Quick Summary**\n",
    "In this notebook, we will explore the use of so called \"conditional statements\", covered in Section 2 of the lecture notes. Conditional statements are used in Python to make sure a series of instructions are executed **if** a certain condition is met, but not otherwise. It is one of the main ingredients to build a program!  \n",
    "\n",
    "The typical structure of these statements is of the form:\n",
    "\n",
    "```Python\n",
    "if ( some condition ):\n",
    "    some instruction\n",
    "elif (another condition):\n",
    "    some different instruction\n",
    "else:   \n",
    "    something else to do\n",
    "```\n",
    "\n",
    "Note that `( some condition )` can be **any** logical statement that returns a `True`/`False` value. These can be built by using the logical operators:  \n",
    "\n",
    "- `&` / `and` : the logical AND operator\n",
    "- `!` / `not` : the NOT (negation) operator\n",
    "- `|` / `or` : the logical OR operator\n",
    "- `==` : comparison  (as in `A == B` checks if A is equal to B and in this case returns True, False otherwise )\n",
    "\n",
    "If you are not familiar with the way logical operators work and they way to combine them, have a look on Wikipedia clicking [here]{https://en.wikipedia.org/wiki/Truth_table}. An elementary math textbook, however, might be clearer :P!\n"
   ]
  },
  {
   "cell_type": "code",
   "execution_count": 1,
   "metadata": {},
   "outputs": [
    {
     "name": "stdout",
     "output_type": "stream",
     "text": [
      "a is negative\n"
     ]
    }
   ],
   "source": [
    "# A simple example. Change the value of the variables a and b \n",
    "# below and check what happens in the different cases:\n",
    "\n",
    "a = 0\n",
    "\n",
    "if a > 0:\n",
    "    print( 'a is a positive number')\n",
    "else:\n",
    "    print('a is negative')        "
   ]
  },
  {
   "cell_type": "code",
   "execution_count": 2,
   "metadata": {},
   "outputs": [
    {
     "name": "stdout",
     "output_type": "stream",
     "text": [
      "6\n"
     ]
    }
   ],
   "source": [
    "# Be careful with the syntax. First read the instruction \n",
    "# in the current and next cell in the notebook and write \n",
    "# down what you would expect to be printed in both cases, \n",
    "# then check. What does this suggest you? Think!\n",
    "\n",
    "# Part 1\n",
    "\n",
    "a = 0\n",
    "b = 4 \n",
    "c = 5\n",
    "\n",
    "if a > 0:\n",
    "    print( 'a is a positive number')\n",
    "    c = a + b     \n",
    "c = c + 1\n",
    "\n",
    "print( '{0:d}'.format( c ) )"
   ]
  },
  {
   "cell_type": "code",
   "execution_count": 3,
   "metadata": {},
   "outputs": [
    {
     "name": "stdout",
     "output_type": "stream",
     "text": [
      "5\n"
     ]
    }
   ],
   "source": [
    "# Part 2\n",
    "\n",
    "a = 0\n",
    "b = 4 \n",
    "c = 5\n",
    "\n",
    "if a > 0:\n",
    "    print( 'a is a positive number')\n",
    "    c = a + b     \n",
    "    c = c + 1\n",
    "\n",
    "print( '{0:d}'.format( c ) )"
   ]
  },
  {
   "cell_type": "markdown",
   "metadata": {},
   "source": [
    "Let us have a look at the meaning of the `elif` command. This is used always together with another if statement and it tells the program to execute some command in case the previous one under the `if` was not.\n",
    "\n",
    "Be careful at how it works exactly...As before, read the next 3 cells (Part 1, 2 and 3) and write down in each of the three cases what you might expect to see as an output, then run the Python interpreter to check this is indeed what you get!"
   ]
  },
  {
   "cell_type": "code",
   "execution_count": 4,
   "metadata": {},
   "outputs": [
    {
     "name": "stdout",
     "output_type": "stream",
     "text": [
      "a is a positive number\n"
     ]
    }
   ],
   "source": [
    "# Part 1\n",
    "\n",
    "a = 4\n",
    "\n",
    "if a > 0:\n",
    "    print( 'a is a positive number')\n",
    "    a += 1    # NOTE: a += 1 is a short hand notation for the \n",
    "              # line: a = a + 1. You can do the same with all other\n",
    "              # operations, so you have -=  *=  /=\n",
    "elif a > 2:\n",
    "    a += 1\n",
    "    print( 'a is larger than 2')\n",
    "\n",
    "elif a > 3:\n",
    "    a += 1\n",
    "    print( 'a is larger than 3')\n",
    "    "
   ]
  },
  {
   "cell_type": "code",
   "execution_count": 5,
   "metadata": {},
   "outputs": [
    {
     "name": "stdout",
     "output_type": "stream",
     "text": [
      "a is larger than 2\n"
     ]
    }
   ],
   "source": [
    "# Part 2\n",
    "\n",
    "a = 4\n",
    "\n",
    "if a > 2:\n",
    "    print( 'a is larger than 2')\n",
    "    a += 1    # NOTE: a += 1 is a short hand notation \n",
    "              # for the line: a = a + 1. You can do the \n",
    "              # same with all other operations, so \n",
    "              # you have -=  *=  /=\n",
    "elif a > 0:\n",
    "    a += 1\n",
    "    print( 'a is a positive number')\n",
    "\n",
    "elif a > 3:\n",
    "    a += 1\n",
    "    print( 'a is larger than 3')\n",
    "\n"
   ]
  },
  {
   "cell_type": "code",
   "execution_count": 6,
   "metadata": {},
   "outputs": [
    {
     "name": "stdout",
     "output_type": "stream",
     "text": [
      "a is larger than 2\n",
      "a is a positive number\n",
      "a is larger than 3\n"
     ]
    }
   ],
   "source": [
    "# Part 3\n",
    "\n",
    "a = 4\n",
    "\n",
    "if a > 2:\n",
    "    print( 'a is larger than 2')\n",
    "    a += 1    # NOTE: a += 1 is a short hand notation \n",
    "              # for the line: a = a + 1. You can do the \n",
    "              # same with all other operations, so you \n",
    "              # have -=  *=  /=\n",
    "if a > 0:\n",
    "    a += 1\n",
    "    print( 'a is a positive number')\n",
    "\n",
    "if a > 3:\n",
    "    a += 1\n",
    "    print( 'a is larger than 3')\n",
    "\n"
   ]
  },
  {
   "cell_type": "code",
   "execution_count": 7,
   "metadata": {},
   "outputs": [
    {
     "name": "stdout",
     "output_type": "stream",
     "text": [
      "True\n"
     ]
    }
   ],
   "source": [
    "# Conditional statements can be made quite complex by \n",
    "# combining the various logical operators...try to \n",
    "# guess what the program will print once you execute it, \n",
    "# then check your answer!\n",
    "\n",
    "# Change the following declarations so that the output \n",
    "# is 0 or 1\n",
    "\n",
    "a = 0\n",
    "b = 0\n",
    "\n",
    "statement = ( a and b != 0 ) or ( a or b == 0 )\n",
    "\n",
    "print( statement )"
   ]
  },
  {
   "cell_type": "code",
   "execution_count": 8,
   "metadata": {},
   "outputs": [
    {
     "name": "stdout",
     "output_type": "stream",
     "text": [
      "My name is David\n"
     ]
    }
   ],
   "source": [
    "# Note that 'else' and 'elif' are not equivalent!\n",
    "# First run the cell and check its output. Then change \n",
    "# elif into else and see what happens...\n",
    "# Based on this, write a comment on the notebook to \n",
    "# describe the difference between elif and else\n",
    "\n",
    "# Part 1\n",
    "myName = 'David'\n",
    "\n",
    "if myName == 'Stefano':\n",
    "    print( 'My name is {0:s}'.format( myName ) )\n",
    "else:\n",
    "    print( 'My name is David' )\n"
   ]
  },
  {
   "cell_type": "code",
   "execution_count": 9,
   "metadata": {},
   "outputs": [
    {
     "name": "stdout",
     "output_type": "stream",
     "text": [
      "My name is Marco\n"
     ]
    }
   ],
   "source": [
    "myName = 'Marco'\n",
    "\n",
    "# Part 2\n",
    "if myName == 'Stefano':\n",
    "    print( 'My name is {0:s}'.format( myName ) )\n",
    "elif myName == 'Marco':\n",
    "    print( 'My name is Marco' )\n"
   ]
  },
  {
   "cell_type": "code",
   "execution_count": 10,
   "metadata": {},
   "outputs": [
    {
     "name": "stdout",
     "output_type": "stream",
     "text": [
      "a is larger than 10\n",
      "a is larger than 90\n"
     ]
    }
   ],
   "source": [
    "# Indentation of commands when using conditional \n",
    "# statements is important. Only those commands under \n",
    "# the same indentation will surely be executed. \n",
    "# For this cell and the next, check what happens \n",
    "# when you write the Python interpreter!\n",
    "\n",
    "# Part 1\n",
    "\n",
    "a = 100\n",
    "\n",
    "if ( a > 10 ):\n",
    "    print( 'a is larger than 10' )\n",
    "    if ( a > 90 ):\n",
    "            print( 'a is larger than 90' )"
   ]
  },
  {
   "cell_type": "code",
   "execution_count": 11,
   "metadata": {},
   "outputs": [
    {
     "name": "stdout",
     "output_type": "stream",
     "text": [
      "a is larger than 10\n",
      "a is larger than 90\n"
     ]
    }
   ],
   "source": [
    "# Part 2\n",
    "\n",
    "a = 100\n",
    "\n",
    "if ( a > 10 ):\n",
    "    print( 'a is larger than 10' )\n",
    "if ( a > 90 ):\n",
    "        print( 'a is larger than 90' )"
   ]
  },
  {
   "cell_type": "code",
   "execution_count": 12,
   "metadata": {},
   "outputs": [],
   "source": [
    "# Conditional statements can be made complex by \n",
    "# playing with the logical operators. \n",
    "\n",
    "# Substitute 'some condition' with a command so \n",
    "# that the string 'the condition is met' is printed \n",
    "# in the following cases:\n",
    "\n",
    "# Both a and b are positive\n",
    "# Either a or b are positive\n",
    "# a is positive but b is not\n",
    "\n",
    "a = -3\n",
    "b = 4\n",
    "\n",
    "if ( a >0 and b >0):\n",
    "    print( 'The condition is met.' )"
   ]
  },
  {
   "cell_type": "code",
   "execution_count": 14,
   "metadata": {},
   "outputs": [
    {
     "name": "stdout",
     "output_type": "stream",
     "text": [
      "The letter \"a\" is present in the string\n"
     ]
    }
   ],
   "source": [
    "# The condition in a if statement can be ANYTHING \n",
    "# that returns a True/False value.\n",
    "\n",
    "# Substitute 'some condition' with a command so that \n",
    "# the string 'the condition is met' is printed if the \n",
    "# letter 'a' appears in the string 'myName' somewhere:\n",
    "\n",
    "myName = 'Attila'\n",
    "\n",
    "if ( \"a\" in myName ):\n",
    "    print( 'The letter \"a\" is present in the string' )"
   ]
  },
  {
   "cell_type": "code",
   "execution_count": 18,
   "metadata": {
    "scrolled": true
   },
   "outputs": [
    {
     "name": "stdout",
     "output_type": "stream",
     "text": [
      "True\n",
      "True\n",
      "True\n"
     ]
    }
   ],
   "source": [
    "# Let's mix it up with what we learnt last week. \n",
    "# 'Translate' the conditions below into Python language \n",
    "# by replacing 'some' with the correct command.\n",
    "# If correct, the following statements will print \n",
    "# out True:\n",
    "\n",
    "a = [ 1,2,3,4,5 ]\n",
    "\n",
    "# Condition1: some = The fourth element of the list \"a\" is 4\n",
    "if ( a[3]==4 ):\n",
    "    print('True')\n",
    "else:\n",
    "    print('False')\n",
    "\n",
    "# Condition2: some = The last three elements of the list \"a\" \n",
    "# are the list [3,4,5]\n",
    "if ( [3,4,5]==a[-3:] ):\n",
    "    print('True')\n",
    "else:\n",
    "    print('False')\n",
    "    \n",
    "#  Condition3: some = The number 2 is present in the list \"a\"\n",
    "if ( 2 in a ):\n",
    "    print('True')\n",
    "else:\n",
    "    print('False')"
   ]
  },
  {
   "cell_type": "markdown",
   "metadata": {},
   "source": [
    "Another control flow command is the so-called 'while' loop. This has the form:\n",
    "\n",
    "```Python\n",
    "while ( some condition ):\n",
    "    a list of command\n",
    "```\n",
    "\n",
    "In this case \"a list of command\" is executed as long as 'some condition' is valid.  \n",
    "**NOTE**: As for the case of `if` statements only those command indented after the while statement are executed! \n",
    "You will make more exercises on this in the next notebook, but here just have a quick look"
   ]
  },
  {
   "cell_type": "code",
   "execution_count": null,
   "metadata": {},
   "outputs": [],
   "source": [
    "# A simple example. Run the intepreter to check what happens\n",
    "\n",
    "a = 0\n",
    "while a < 10:\n",
    "    print( 'The value of a is {0:d}'.format(a) )"
   ]
  },
  {
   "cell_type": "markdown",
   "metadata": {},
   "source": [
    "...if you have understood the logic, you should be able to code the instruction at the top of the following cell:"
   ]
  },
  {
   "cell_type": "code",
   "execution_count": 23,
   "metadata": {},
   "outputs": [
    {
     "name": "stdout",
     "output_type": "stream",
     "text": [
      "D\n",
      "e\n",
      "c\n",
      "e\n",
      "m\n",
      "e\n",
      "r\n"
     ]
    }
   ],
   "source": [
    "# Using the properties of strings, write a short program that:\n",
    "# 1) Assigns the value 'December' to the variable month\n",
    "# 2) Starting from the first letter of the string month, \n",
    "#    check if this is equal to the character 'b'. If not, \n",
    "#    print the letter, otherwise don't\n",
    "\n",
    "# You can use the len( string ) command to return the number \n",
    "# of characters in the string \n",
    "\n",
    "# If your program is correct, you should print out exactly \n",
    "# this letters: 'D','e','c','e','m','e','r'\n",
    "\n",
    "month=\"December\"\n",
    "i=0\n",
    "while  i<len(month):\n",
    "    if month[i]!=\"b\":\n",
    "        print(month[i])\n",
    "    i+=1\n"
   ]
  },
  {
   "cell_type": "code",
   "execution_count": null,
   "metadata": {},
   "outputs": [],
   "source": []
  }
 ],
 "metadata": {
  "kernelspec": {
   "display_name": "Python 3 (ipykernel)",
   "language": "python",
   "name": "python3"
  },
  "language_info": {
   "codemirror_mode": {
    "name": "ipython",
    "version": 3
   },
   "file_extension": ".py",
   "mimetype": "text/x-python",
   "name": "python",
   "nbconvert_exporter": "python",
   "pygments_lexer": "ipython3",
   "version": "3.7.11"
  }
 },
 "nbformat": 4,
 "nbformat_minor": 4
}
