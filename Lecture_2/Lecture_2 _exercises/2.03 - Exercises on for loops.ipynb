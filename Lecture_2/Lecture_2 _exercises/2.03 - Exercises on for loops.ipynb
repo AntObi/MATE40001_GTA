{
 "cells": [
  {
   "cell_type": "markdown",
   "metadata": {},
   "source": [
    "**IMPORTANT NOTE:**  \n",
    "In order to do some of these exercises, you might have to dig into the lecture notes in the relevant section. \n",
    "\n",
    "**Quick summary**  \n",
    "In this notebook, we will explore the use of so called `for` loops, covered in Section 2 of the lecture notes.\n",
    "`For` loops are used in Python to repeat a certain operation for all elements inside a general series of elements. \n",
    "This series can actually be a list, a set, a dictionary and so on...\n",
    "\n",
    "The typical structure of these statements is of the form:\n",
    "\n",
    "```Python\n",
    "for i in ( some series ):\n",
    "    some instruction\n",
    "```\n",
    "\n",
    "where `i` is just an \"iterator\", or in simpler word a variable that takes the values inside `some series`. Let us now have a look at this..."
   ]
  },
  {
   "cell_type": "code",
   "execution_count": null,
   "metadata": {},
   "outputs": [],
   "source": [
    "# As usual, let us start with a simple example:\n",
    "# run the Python interpreter to see what happens!\n",
    "\n",
    "mySeries = [ 1, 2, 3, 4 ,5 ]\n",
    "\n",
    "for i in mySeries:\n",
    "    print(i)"
   ]
  },
  {
   "cell_type": "code",
   "execution_count": null,
   "metadata": {},
   "outputs": [],
   "source": [
    "# In jargon, series can be any 'iterable object': \n",
    "# so this is tuples, lists, sets and dictionaries\n",
    "# Again, run the Python interpreter and check it for yourself, by \n",
    "# replacing ??? with any of these possible data types\n",
    "\n",
    "mySeries = ??? # This is now a set!\n",
    "\n",
    "for ele in mySeries:\n",
    "    print( ele )\n",
    "\n",
    "\n"
   ]
  },
  {
   "cell_type": "markdown",
   "metadata": {},
   "source": [
    "A very useful Python function often used in conjunction\n",
    "with a for loop is the `range` or `xrange` function. \n",
    "\n",
    "```Python\n",
    "range( first, last [, every] )\n",
    "```\n",
    "\n",
    "returns a list of integers that start with \"first\" and increase by \"every\" until the \"last\" (not included). \n",
    "if only two arguments are given (example: range( 1, 20) , implicitly they are considered to be \"first\" and \"last\" and \"every\" is 1 by default.   \n",
    "If only one argument is given, then that is considered to be \"last\", \"every\" is one by default is \"first\" is zero by default.  \n",
    "\n",
    "**NOTE**:  \n",
    "in Python 3 there is **only** the `range` function, which is actually equivalent to the `xrange` function in Python 2. In general, if you need to iterate over a long list of numbers, xrange is much faster) Check [here](https://www.geeksforgeeks.org/range-vs-xrange-python/) for details.\n",
    "\n",
    "Try its effect by running the following three cells:"
   ]
  },
  {
   "cell_type": "code",
   "execution_count": null,
   "metadata": {},
   "outputs": [],
   "source": [
    "# Case 1\n",
    "\n",
    "for i in range( 5 ):\n",
    "    print( i )"
   ]
  },
  {
   "cell_type": "code",
   "execution_count": null,
   "metadata": {},
   "outputs": [],
   "source": [
    "# Case 2\n",
    "\n",
    "for j in range( 5, 10 ):\n",
    "    print( j )\n",
    "    "
   ]
  },
  {
   "cell_type": "code",
   "execution_count": null,
   "metadata": {},
   "outputs": [],
   "source": [
    "# Case 3\n",
    "\n",
    "for kk in range( 5, 10, 2 ):\n",
    "    print( kk )\n",
    "    "
   ]
  },
  {
   "cell_type": "code",
   "execution_count": null,
   "metadata": {},
   "outputs": [],
   "source": [
    "# Note that as for the \"while\" loop, ALL instructions indented \n",
    "# after the \"for\" are executed, but not those that are not \n",
    "# indented!. \n",
    "# First, read the code below and write down somewhere what you \n",
    "# would expect the values of i and j to be for each repetition, \n",
    "# only THEN run the Python interpreter to check!\n",
    "\n",
    "j = 1\n",
    "\n",
    "for i in range( 1, 4 ):\n",
    "    j = j * i\n",
    "    print( \"The value of i is: {0:d} and that of j is {1:d}\".format( i, j ) )\n",
    "print( \"The loop is finished\" )\n",
    "    \n",
    "\n"
   ]
  },
  {
   "cell_type": "code",
   "execution_count": null,
   "metadata": {},
   "outputs": [],
   "source": [
    "# Modify the code above to print the first 5 powers of 2.\n",
    "# Reminder: i**j is i to the power of j\n",
    "\n"
   ]
  },
  {
   "cell_type": "markdown",
   "metadata": {},
   "source": [
    "You can make a loop also using dictionaries. In this case, you typically want to iterate / repeat some instruction for all its keys, or values. In the next three cells below, replace ??? with the correct command, using dictionaries operations as seen last week, to make the program print one by one:\n",
    "\n",
    "1. its keys \n",
    "2. its values\n",
    "3. its key:value pairs (remember, they are called \"items\")\n",
    "\n",
    "**NOTE:**  \n",
    "You need to run this cell first to let the Python interpreter know what is the value of `mySeries`"
   ]
  },
  {
   "cell_type": "code",
   "execution_count": null,
   "metadata": {},
   "outputs": [],
   "source": [
    "mySeries = { \"a\":1, \"b\":2, \"c\":3, \"d\":4 }\n",
    "\n",
    "#1)\n",
    "for i in ???:\n",
    "    print(i)\n",
    "    "
   ]
  },
  {
   "cell_type": "code",
   "execution_count": null,
   "metadata": {},
   "outputs": [],
   "source": [
    "#2)\n",
    "for i in ???:\n",
    "    print(i)\n",
    "    "
   ]
  },
  {
   "cell_type": "code",
   "execution_count": null,
   "metadata": {},
   "outputs": [],
   "source": [
    "#3)\n",
    "for i in ???:\n",
    "    print(i)\n",
    "    "
   ]
  },
  {
   "cell_type": "code",
   "execution_count": null,
   "metadata": {},
   "outputs": [],
   "source": [
    "# When you are using loops, the iterator goes over the elements \n",
    "# inside the series. If each element is actually a tuple, you can\n",
    "# use the operation called 'UNPACKING': basically, you have a \n",
    "# declaration like:\n",
    "\n",
    "# for i, j in [ ( a, b ), ( c, d ), ( e, f ) ]:\n",
    "#    do something\n",
    "\n",
    "# the values of i and j are set to a and b in the first iteration, \n",
    "# then c and d, then e and f...\n",
    "# An example might be easier. Again, read the code below and try \n",
    "# to write down what you think it will happen, then run it to check \n",
    "# if this is indeed the behaviour observed.\n",
    "\n",
    "for i,j in [ (1,2), (2,4), (4,8) ]:\n",
    "    \n",
    "    print( i, j )"
   ]
  },
  {
   "cell_type": "code",
   "execution_count": null,
   "metadata": {},
   "outputs": [],
   "source": [
    "# dictionary.items() returns the list of key:value pairs in \n",
    "# dictionary as tuples.\n",
    "# Use this fact and the unpacking technique to complete the \n",
    "# code below so that it prints the set of key:value pairs in \n",
    "# the dictionary \"mySeries\"\n",
    "\n",
    "mySeries = { \"a\":1, \"b\":2, \"c\":3, \"d\":4 }\n",
    "\n",
    "for ???:\n",
    "    \n",
    "    print( i, j )\n"
   ]
  },
  {
   "cell_type": "code",
   "execution_count": null,
   "metadata": {},
   "outputs": [],
   "source": [
    "# Complete the code below by replacing ??? so that at it \n",
    "# prints out:\n",
    "# 1) at each iteration, the value of 2**i. This should be done \n",
    "#    for i that goes from 0 to the value of X set below.\n",
    "# 2) At the end of the cycle, it should print out the sum of all \n",
    "#   those powers\n",
    "\n",
    "total = 0\n",
    "X = 10\n",
    "\n",
    "for i in ???:\n",
    "    total += ???\n",
    "    print( \"2 to the power of {0:d} is: {1:d}\".format( ???, ??? ) )\n",
    "    \n",
    "print( \"The total sum of the first {0:d} powers of 2 is {1:d}\".format( ???, ??? ) )"
   ]
  },
  {
   "cell_type": "markdown",
   "metadata": {},
   "source": [
    "There is a nice technique in Python to declare lists in a fast way: you can do that by writing:\n",
    "\n",
    "```Python\n",
    "    myList = [ f(i) for i in (some series) ]\n",
    "```\n",
    "\n",
    "where f is **any** function you want. Let's make an example. In the next cell, I am writing the command to make a list with the first 10 powers of three. Run and check!"
   ]
  },
  {
   "cell_type": "code",
   "execution_count": null,
   "metadata": {},
   "outputs": [],
   "source": [
    "list1 = [ 3**i for i in range( 10 ) ]\n",
    "\n",
    "print( list1 )"
   ]
  },
  {
   "cell_type": "code",
   "execution_count": null,
   "metadata": {},
   "outputs": [],
   "source": [
    "# Use the for loop in a list to write in list2 the series \n",
    "# \"1/n\" for \"n\" that goes from 1 to 10.\n",
    "# NOTE: You need to make sure the 1/n is given as a floating \n",
    "# point number or...think about it\n",
    "\n",
    "list2 = ???"
   ]
  }
 ],
 "metadata": {
  "kernelspec": {
   "display_name": "Python 3",
   "language": "python",
   "name": "python3"
  },
  "language_info": {
   "codemirror_mode": {
    "name": "ipython",
    "version": 3
   },
   "file_extension": ".py",
   "mimetype": "text/x-python",
   "name": "python",
   "nbconvert_exporter": "python",
   "pygments_lexer": "ipython3",
   "version": "3.7.2"
  }
 },
 "nbformat": 4,
 "nbformat_minor": 2
}
