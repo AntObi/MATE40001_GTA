{
 "cells": [
  {
   "cell_type": "markdown",
   "metadata": {},
   "source": [
    "**IMPORTANT NOTE: To properly use these notes you need to open them as a Jupyter Notebook. A .pdf form will not allow you to run some of the exercises contained inside the notes!**\n",
    "\n",
    "## Classes: defining new Python objects from scratch\n",
    "\n",
    "In this notebook, we will learn how to define new Python \"objects\", or so-called \"classes\". \n",
    "\n",
    "A Python object is nothing but a **new data type, that can be generated\n",
    "from those which you are already familiar with** ( lists, dictionaries, tuples, sets, ...)\n",
    "or, more generally, any previously defined object. For example, you can first define\n",
    "a class, then use it inside some other class's definition. \n",
    "\n",
    "The possibility to define arbitrary objects/data types is what makes Python and other object-oriented languages extremely powerful and flexible!  \n",
    "\n",
    "### Minimal declaration, the `__init__` function and data attributes\n",
    "\n",
    "The **minimal** definition of a class should have the following form (with some caveats, see later in the final remarks):  \n",
    "\n",
    "```Python\n",
    "class myNewClass( ):\n",
    "\n",
    "   def __init__( self, input1, input2, ..., keywordArg1 = X, keywordArg2 = Y , ...):\n",
    "     self.dataAttributeX = input1 \n",
    "     self.dataAttributeY = input2\n",
    "     ...\n",
    "     self.aDefaultAttribute = value1\n",
    "     self.anotherDefaultAttribute = value2\n",
    "     return()\n",
    "```\n",
    "\n",
    "where `self` is literally the word `self`, whereas dataAttributeX, \n",
    "dataAttributeY, ... are so called *data attributes* of the class and `myNewClass` \n",
    "is the name of the new object we just defined. Note that attributeX, attributeY, ..., \n",
    "myNewClass could be any valid name of your choice. For example, I could have written \n",
    "`self.var1` instead of `self.dataAttributeX` and I could have called the class \n",
    "`bestObjectEver` instead of `myNewClass`. \n",
    "\n",
    "Another thing to notice is that because \n",
    "the input to the `__init__` function (\"double underscore init double underscore\") are \n",
    "used to define values that will differ between between different instances of the same class\n",
    "(different variables of the same type of class), a class can also be provided with some \n",
    "default value that is general to all of them (the `value1` and `value2` in the declaration above.\n",
    "\n",
    "A practical and simple example:\n",
    "\n",
    "```Python\n",
    "class person():\n",
    "    \n",
    "    def __init__( self, input1, input2, name = \"Stefano\" ):\n",
    "        self.myAge = input1\n",
    "        self.myGender = input2       \n",
    "        self.name = name\n",
    "        self.money = 100         \n",
    "      \n",
    "        return\n",
    "```\n",
    "\n",
    "**Important note**: the `__init__` function of a class should not provide any return value, so the \n",
    "last line is literally **only** `return`, and **nothing** else.\n",
    "\n",
    "Once a class has been defined, you can create a variable with that data type. In Python jargon, the associated variable is called an  \n",
    "**instance** of the class (and similarly you can say the class has been \"instantiated\" once you assigned it to a specific variable). In other words, we created a Python object with the properties \n",
    "of the class. \n",
    "\n",
    "The general declaration for instatiation goes like this:\n",
    "\n",
    "```Python\n",
    " varName = nameOfClass( input1, input2 )\n",
    "```\n",
    "\n",
    "so in our case, referring to the previous example:\n",
    "\n",
    "```Python\n",
    "person1 = person( 33, 'female', name = \"Sandrine\"  )\n",
    "```\n",
    "\n",
    "What we are doing in this way is to declare that `person1` is an instance of the object of type \"person\". Also, by this declaration we have assigned the value 33 to `input1`, the value\n",
    " \"female\" to input2 and we have over-written the default value of `name` with \"Sandrine\". \n",
    " \n",
    " Once an object has been instantiated, we can retrieve the values of any data attribute with the general\n",
    " declaration:\n",
    "\n",
    "```Python\n",
    " nameOfclassInstance.attributeName\n",
    "```\n",
    "\n",
    "or, taking again the example from above (and assuming with have created the variable `person1` of type\n",
    "`person` as previously defined), `print( person1.name )` would print out \"Sandrine\", or `person1.age + 2` would give as a result `35`.\n",
    "\n",
    "#### What about the value of `self`???\n",
    " \n",
    "In the previous example of class instantiation, you might have thought there was an error: the input values\n",
    "of the `__init__` function were `self, input1, input2, name`, but we have said the first value used in the class \n",
    "instantiation would be assigned to `input1` and the second to `input2` and you might wonder...what is the value of `self`? \n",
    "\n",
    "The fact is that, for the `__init__` function (and, actually *any* class-specific function, which we will see later) the first value in the function *declaration* is always the word `self`. However, when you make an *instance* of the class you **do not** need to provide its input value because `self` is automatically taken to be *the variable to which the class was instantiated*. \n",
    "\n",
    "Confused? An example is better than a thousand words, so let's see one! First, read, and then run the cell below:"
   ]
  },
  {
   "cell_type": "code",
   "execution_count": 2,
   "metadata": {},
   "outputs": [],
   "source": [
    "class superClass():\n",
    "    \n",
    "    def __init__( self, input1, input2, input3 = \"Hello\" ):\n",
    "        self.firstValue = input1\n",
    "        self.second = input2\n",
    "        self.some = input3\n",
    "        \n",
    "        return\n",
    "\n",
    "var1 = superClass( 1, 2 )"
   ]
  },
  {
   "cell_type": "markdown",
   "metadata": {},
   "source": [
    "with the example above in mind, the value of `self` is now `var1`, whereas the values of the data attributes `firstValue` and `second` are 1 and 2, respectively. The data attribute `some` instead takes the default value of input3, which is thus `\"Hello\"`. Run the cell below to check this by yourself!"
   ]
  },
  {
   "cell_type": "code",
   "execution_count": 3,
   "metadata": {},
   "outputs": [
    {
     "name": "stdout",
     "output_type": "stream",
     "text": [
      "1\n",
      "2\n",
      "Hello\n",
      "44\n",
      "55\n",
      "66\n"
     ]
    }
   ],
   "source": [
    "print( var1.firstValue )\n",
    "print( var1.second )\n",
    "print( var1.some )\n",
    "\n",
    "var2 = superClass( 44, 55, 66 )\n",
    "\n",
    "print( var2.firstValue )\n",
    "print( var2.second )\n",
    "print( var2.some )"
   ]
  },
  {
   "cell_type": "markdown",
   "metadata": {},
   "source": [
    "In practice, associating the name of the variable used for the class instantiation to the variable `self` is a useful way to be able to retrieve the data attributes of the class for that specific instantiation.  \n",
    "\n",
    "#### An example\n",
    "\n",
    "Ok, let us now make a quick and simple exercise. In the next cell:\n",
    "- Declare a new class whose name is \"myFirstClass\". \n",
    "- This class must have 2 data attributes, one which we will call 'year' and an attribute which we will call 'length', with a default value of 5 \n",
    "- After the class declaration, make an instance of the class myFirstClass and call it 'thisClass'\n",
    "\n",
    "If you do it correctly, when you run the next cells you should not get any error, and after the first cell, print out the value of the attribute 'length' (whatever value you have chosen when you declare the instance 'thisClass'), followed by 5. After running the second cell, you should see printed out the value 444, follow by the value of 'length'."
   ]
  },
  {
   "cell_type": "code",
   "execution_count": 6,
   "metadata": {},
   "outputs": [
    {
     "name": "stdout",
     "output_type": "stream",
     "text": [
      "10\n",
      "2021\n",
      "10\n",
      "444\n"
     ]
    }
   ],
   "source": [
    "class myFirstClass():\n",
    "    \n",
    "    def __init__(self, thisYear, length=5):\n",
    "        self.thisYear=thisYear\n",
    "        self.length=length\n",
    "        return\n",
    "\n",
    "thisClass = myFirstClass(thisYear=2021, length=10)\n",
    "\n",
    "print( thisClass.length )\n",
    "print( thisClass.thisYear )\n",
    "\n",
    "thisClass = myFirstClass( thisClass.length, 444 )\n",
    "print( thisClass.thisYear )\n",
    "print( thisClass.length )\n",
    "\n"
   ]
  },
  {
   "cell_type": "markdown",
   "metadata": {},
   "source": [
    "One thing you should notice is that in giving you the previous exercise, I did not have to know the internal details of the class. In other words I did **not have to know exactly how \n",
    "you coded it up**! I just needed to know its data attributes, that's it. \n",
    "\n",
    "The **idea of object-oriented programming** is \n",
    "somehow exactly what we just described: You should be **able to use an object just knowing the class attributes \n",
    "(assuming they have been coded correctly!), without needing to read the way it is constructed**. \n",
    "\n",
    "This type of \"coding phylosophy\" is very powerful especially when different people collaborate on large projects. If I need to use some specific class coded by another person, the only thing we have to agree upon at the beginning is which attributes the class possesses, after that, I can start writing a piece of code using it even before the class has been defined!\n",
    "\n",
    "### Method attributes\n",
    "\n",
    "Ok, so far, it was probably a bit...dull. I know. Let's see something more complex and introduce so called **method attributes** of a class.\n",
    "\n",
    "*Method attributes* (or methods for short) are nothing but *functions \n",
    "that specifically apply to objects of the class*.  \n",
    "If the variable `var1` is an instance of the class `nameOfTheClass`, i.e., if we have declared:\n",
    "\n",
    "```Python\n",
    " var1 = nameOfTheClass( list of required inputs )\n",
    "```\n",
    "\n",
    "and `nameOfTheClass` has some method attribute named `myMethod`, you can invoke it with the declaration\n",
    "\n",
    "```Python\n",
    "var1.myMethod( list of inputs for the method, if needed )\n",
    "```\n",
    "\n",
    "Notice this is basically the same way in which one can call a data attribute. However, since the latter\n",
    "is **not** a function, we do not need to call it with the parenthesis () - which indeed indicate a function - nor insert any input values inside them.  \n",
    "\n",
    "Actually, you should have noticed that *we have already seen one method attribute that **all** classes should have*: \n",
    "The function `__init__`  ( which is a short for \"Initialize\", as it defines the initial attributes of the class). In fact, the `__init__` method is special because unlike other methods of a class, it is always called as soon as you make an instance of that class. Other class methods instead must be explicitly invoked.    \n",
    "\n",
    "Let us extend the typical declaration of a class to see how it all works. This is the general construct:\n",
    "\n",
    "```Python\n",
    "class generalClass3():\n",
    "\n",
    "    def __init__( self, input1, ... ):\n",
    "        self.var1 = input1\n",
    "        return\n",
    "\n",
    "    def methodX( self, MethodInput1, ... ):  # Note that this is nothing but a normal function!\n",
    "        instruction1\n",
    "        instruction2\n",
    "        ...\n",
    "        return( outputValue ) \n",
    "```\n",
    "\n",
    "and let us also make immediately an explicit example in the cell below. \n",
    "\n",
    "**After** reading the class declaration and the code below, **think about what you expect as outcome first**, then run the cell to see if this is indeed what you expected!"
   ]
  },
  {
   "cell_type": "code",
   "execution_count": 7,
   "metadata": {},
   "outputs": [
    {
     "name": "stdout",
     "output_type": "stream",
     "text": [
      "-1\n",
      "0\n",
      "3\n",
      "7\n",
      "24\n",
      "29\n",
      "End of List\n",
      "2\n",
      "3\n",
      "6\n",
      "10\n",
      "27\n",
      "32\n",
      "End of List\n"
     ]
    }
   ],
   "source": [
    "class aComplexClass():\n",
    "\n",
    "    def __init__( self, myList ):\n",
    "        self.internal =  myList\n",
    "        return\n",
    "\n",
    "    def sortAndPrint( self ):\n",
    "        '''Takes internal (a data attribute), supposed to be a list object, \n",
    "        then sort it and print it'''\n",
    "        self.internal.sort()\n",
    "        for i in self.internal:\n",
    "            print( '{0}'.format( i ) )\n",
    "        print( 'End of List' )\n",
    "        \n",
    "        return\n",
    "            \n",
    "    def addAndPrint( self, myValue ):\n",
    "        '''Takes internal (a data attribute), supposed to be a list object, \n",
    "        and add \"value\" to all the elements'''\n",
    "        for i in self.internal:\n",
    "            i += myValue\n",
    "            print( '{0}'.format( i ) )\n",
    "        print( 'End of List' )\n",
    "        return\n",
    "\n",
    "        \n",
    "\n",
    "aaa = aComplexClass( [ 3, 29, -1, 0, 24, 7 ] )\n",
    "\n",
    "aaa.sortAndPrint()\n",
    "aaa.addAndPrint( 3 )\n"
   ]
  },
  {
   "cell_type": "markdown",
   "metadata": {},
   "source": [
    "A few important things to notice here:\n",
    "\n",
    "- As also previously stated, when defining a method attribute, you **always** need to have the word `self` as the first argument(...but see the final remark at the end of these notes for a clarification). However, when *using* the method, the value of \"self\" is never read, because `self` is automatically given the name of the variable instantiated to the class.\n",
    " \n",
    "- **Method attributes can use data attributes of the function previously assigned**. For example, the `sortAndPrint` method used the value of self.internal, which was previously assigned during instantiation\n",
    "\n",
    "- **Method attributes can modify data attributes**. For example, because internal is a list, you can use the command \"sort\" on it. Sort also modifies the list itself permanently, once we later use the method \"addAndPrint\", this is being applied to the modified list, not the one given at instantiation.\n",
    "\n",
    "- As any normal function, class methods *might* require additional inputs. For example, addAndPrint required you to also input the value of `myValue`.\n",
    "\n",
    "- Generally speaking...we have seen classes before! In fact, we have used a few of the method attributes of objects of the class list, for example, the method \".sort()\" was one. Similarly, all the functions / commands that we have been applying on lists, strings, dictionaries and so on are available because someone else has previously coded these classes for you!\n",
    "\n",
    "#### A more complex exercise:\n",
    "\n",
    "A somewhat complex exercise: Try to fill in the cell below to define an extra method, call it `sortAndElevate`, for the `aComplexClass` object. This method takes as input value `var1` and then:  \n",
    "1. sort the data attribute \"internal\" in ascending order\n",
    "2. elevates all the elements of the ordered list to the power of var1 (without printing them)\n",
    "3. return as output value the ordered and power-elevated list  \n",
    "\n",
    "However, after calling this method, \"internal\" must be exactly as the original, unsorted version initially provided during instantiation. If correct, when running the following cell it should print `List one: 1, 4, 9, 16` and then `Internal list: 2, 3, 1, 4`.\n"
   ]
  },
  {
   "cell_type": "code",
   "execution_count": 11,
   "metadata": {},
   "outputs": [
    {
     "name": "stdout",
     "output_type": "stream",
     "text": [
      "List one [1, 4, 9, 16]\n",
      "Internal list: [2, 3, 1, 4]\n"
     ]
    }
   ],
   "source": [
    "class aComplexClass2():\n",
    "\n",
    "    def __init__( self, myList ):\n",
    "        self.internal =  myList\n",
    "        return\n",
    "\n",
    "    def sortAndPrint( self ):\n",
    "        '''Takes internal (a data attribute), supposed to be a list object, \n",
    "        then sort it and print it'''\n",
    "        self.internal.sort()\n",
    "        for i in self.internal:\n",
    "            print( '{0}'.format( i ) )\n",
    "        print( 'End of List' )\n",
    "        \n",
    "        return\n",
    "            \n",
    "    def addAndPrint( self, myValue ):\n",
    "        '''Takes internal (a data attribute), supposed to be a list object, \n",
    "        and add \"value\" to all the elements'''\n",
    "        for i in self.internal:\n",
    "            i += myValue\n",
    "            print( '{0}'.format( i ) )\n",
    "        print( 'End of List' )\n",
    "        return\n",
    "    \n",
    "    def sortAndElevate( self, var1 ):\n",
    "        '''Takes internal (a data attribute), supposed to be a list object,\n",
    "        then sort it and raises each element to the power of var1'''\n",
    "        internalCopy=self.internal.copy()\n",
    "        internalCopy.sort()\n",
    "        powerInternal=[i**var1 for i in internalCopy]\n",
    "        return powerInternal\n",
    "\n",
    "bbb = aComplexClass2( [ 2, 3, 1, 4 ] )\n",
    "#aaa = aComplexClass2.sortAndElevate( 2 )\n",
    "\n",
    "print( 'List one', bbb.sortAndElevate( 2 ) )\n",
    "print( 'Internal list:', bbb.internal )"
   ]
  },
  {
   "cell_type": "markdown",
   "metadata": {},
   "source": [
    "### The concept of \"inheritance\". \n",
    "\n",
    "**Inheritance** in Python is a **very powerful tool to build new objects**, usually called *derived classes*, **based on properties of other objects** that have already been defined, without having to do all the work of re-writing the code. The general declaration is:\n",
    "\n",
    "```Python\n",
    "class nameOfDerivedClass( nameOfBasesClass ):\n",
    "```\n",
    "\n",
    "where `nameOfBasesClass` is any previously defined class. Let us immediately have a look at a simple example. Read the code and run the cell to see what happens (always think first, what do you expect?)"
   ]
  },
  {
   "cell_type": "code",
   "execution_count": 12,
   "metadata": {},
   "outputs": [
    {
     "name": "stdout",
     "output_type": "stream",
     "text": [
      "The 1th pair of this dictionary is (1, 2)\n",
      "The 2th pair of this dictionary is (2, 4)\n",
      "The 3th pair of this dictionary is (3, 'a')\n",
      "This dictionary is reversed order is element:-1 = (3, 'a')\n",
      "This dictionary is reversed order is element:-2 = (2, 4)\n",
      "This dictionary is reversed order is element:-3 = (1, 2)\n"
     ]
    }
   ],
   "source": [
    "class classOne():\n",
    "    \n",
    "    def __init__( self, myDictionary ):\n",
    "        self.var1 = myDictionary\n",
    "        return\n",
    "        \n",
    "    def printAllDef( self ):\n",
    "        num = 1\n",
    "        for i in self.var1.items():\n",
    "            print( \"The {0:d}th pair of this dictionary is {1}\".format( num, i ) )\n",
    "            num += 1\n",
    "        return\n",
    "    \n",
    "class classTwo( classOne ):\n",
    "    \n",
    "    def printReverse( self ):\n",
    "        myCopy = self.var1.copy()\n",
    "        for i in range( len( self.var1 ) ):\n",
    "            b = self.var1.popitem()\n",
    "            print( \"This dictionary is reversed order is element:{0} = {1}\".format( -1-i, b ) )\n",
    "        return\n",
    "    \n",
    "a = classOne( { 1:2, 2:4, 3:\"a\" } )\n",
    "b = classTwo( { 1:2, 2:4, 3:\"a\" } )\n",
    "\n",
    "b.printAllDef()\n",
    "b.printReverse()"
   ]
  },
  {
   "cell_type": "markdown",
   "metadata": {},
   "source": [
    "Note how we do not have to define any `__init__` method for a derived class, because it\n",
    "inherits it (as well as all other methods!) from the base class, also called parent class (and thus the derived class can be called its child). \n",
    "\n",
    "The inherited methods can be used exactly in the same way they were used in the parent class. However, we can add new methods attributes, and extra data attributes too!\n",
    "\n",
    "#### Re-defining methods in a derived class\n",
    "\n",
    "At this point, you should ask yourself: what happens if we redefine a method (including `__init__`) ? \n",
    "\n",
    "In practice, if you call a method for a specific object, the **first** thing the Python interpreter does is to look into the class definition. If it does not find anything, it looks into **any** class from which the object is derived, recursively (recursively because we can make a whole genealogic tree of classes, and make a derived class out of another derived class). **The first definition** of a method that is found in this search is the one used.  \n",
    "\n",
    "#### Another example\n",
    "\n",
    "Let us make an example with some objects that you know quite well: lists! \n",
    "\n",
    "Lists have a set of properties that you should remember. In the next example, we want to add some new ones in a new class that we will call \"specialList\", as well as re-defining the method \"append\" found in lists. \n",
    "\n",
    "Read the class definition then run the cell below and check what happens."
   ]
  },
  {
   "cell_type": "code",
   "execution_count": 13,
   "metadata": {},
   "outputs": [
    {
     "name": "stdout",
     "output_type": "stream",
     "text": [
      "Intercalated lists: ['a', 1, 'b', 2, 'c', 3, 'd', 4]\n",
      "New value of special ['a', 'b', 'c', 'e', 'e', 'e']\n",
      "['a', 'c', 'e']\n"
     ]
    }
   ],
   "source": [
    "class specialList( list ):\n",
    "    \n",
    "    def intercalate( self, anotherList ):\n",
    "        ''' Intercalates this list with the list anotherList. \n",
    "        Example if you intercalate [1,2,3] and [4,5,6]\n",
    "        you should expect to obtain [ 1, 4, 2, 5, 3, 6 ]. If the two lists have \n",
    "        different lengths, return an error.\n",
    "        '''\n",
    "        if len( self ) != len( anotherList ):\n",
    "            print( \"Two lists can only be intercalated if of equal length!\" )\n",
    "            raise ValueError\n",
    "            \n",
    "        aaa = []\n",
    "        for i in range( len( self ) ):\n",
    "            aaa.append( self[ i ] )\n",
    "            aaa.append( anotherList[ i ] )\n",
    "        return(aaa)\n",
    "    \n",
    "    def append( self, x, number ):\n",
    "        #Here we actually REDEFINE a method that already exists in \n",
    "        #lists...check later what happens. Note that in normal lists\n",
    "        #nameOfList.append( x ) takes x, whatever it is, and put it as the\n",
    "        #last element of nameOfList...here we are doing something different,\n",
    "        #check       \n",
    "        for i in range( number ):\n",
    "            self += [ x ]\n",
    "        return\n",
    "            \n",
    "special = specialList([ \"a\", \"b\", \"c\", \"d\" ])\n",
    "\n",
    "second = [ 1, 2, 3, 4 ]\n",
    "\n",
    "print( \"Intercalated lists:\", special.intercalate( second ) )\n",
    "\n",
    "special.remove( \"d\" ) #Note we never defined this method attribute for specialList, but it is \n",
    "                      #inherited from the list class from which it was derived!\n",
    "\n",
    "special.append( \"e\", 3 ) #Note that this type of append is NOT the same as for a normal list, because\n",
    "                      #we have redefined it for specialList\n",
    "\n",
    "print( \"New value of special\", special )\n",
    "\n",
    "print( special[::2]) #Even in this case, we are using a property of lists without ever defining it for \n",
    "                     #the class specialList!"
   ]
  },
  {
   "cell_type": "markdown",
   "metadata": {},
   "source": [
    "### A few extra remarks about classes\n",
    "\n",
    "1. Be careful: **data attributes definitions override method attributes**. In other words, if a data attribute and a method attribute have the same name, the Python interpreter will always treat it following the definition of the data attribute. For this reason **make sure you never have a method and data attribute with the same name**! To clarify this point, see what happens when you run the following cell:"
   ]
  },
  {
   "cell_type": "code",
   "execution_count": 15,
   "metadata": {},
   "outputs": [
    {
     "name": "stdout",
     "output_type": "stream",
     "text": [
      "4\n"
     ]
    }
   ],
   "source": [
    "# Read and run this cell\n",
    "\n",
    "class dangerousNaming():\n",
    "    \n",
    "    def __init__( self, x ):\n",
    "        self.myX = x\n",
    "        return\n",
    "    \n",
    "    def myX( self ):\n",
    "        print( self.myX**2 )\n",
    "        return\n",
    "    \n",
    "    \n",
    "var3 = dangerousNaming( 4 )\n",
    "\n",
    "print( var3.myX)"
   ]
  },
  {
   "cell_type": "markdown",
   "metadata": {},
   "source": [
    "The previous program returns an error \"int object is not callable\"...have you understood why? The problem is that `myX` is a **data attribute** and **not** a method because. Because it is not a function, Python complains because you cannot call it with the parenthesis () at the end of its name! The mistake was that in the class declaration we had defined both a method and a data attribute with the name `myX`, but the data attribute takes precedence and over-rides the function definition. \n",
    "\n",
    "If you did not really understand what is written above or are still confused, replace the command `print( var3.myX() )` with `print( var3.myX )` in the cell above and see what happens when you run it!"
   ]
  },
  {
   "cell_type": "markdown",
   "metadata": {},
   "source": [
    "2. **Once you have instantiated a class object, you can add data attributes if you want**. However, these attributes will just belong to that specific instance, not to the general class itself. Read the cell below then run it to see an example (look at the error message to understand what is happening)!"
   ]
  },
  {
   "cell_type": "code",
   "execution_count": 16,
   "metadata": {},
   "outputs": [
    {
     "name": "stdout",
     "output_type": "stream",
     "text": [
      "10\n"
     ]
    },
    {
     "ename": "AttributeError",
     "evalue": "'anExample' object has no attribute 'mySecondX'",
     "output_type": "error",
     "traceback": [
      "\u001b[0;31m--------------------------------------------------------------------\u001b[0m",
      "\u001b[0;31mAttributeError\u001b[0m                     Traceback (most recent call last)",
      "\u001b[0;32m<ipython-input-16-b6f92bcbad5e>\u001b[0m in \u001b[0;36m<module>\u001b[0;34m\u001b[0m\n\u001b[1;32m     13\u001b[0m \u001b[0mprint\u001b[0m\u001b[0;34m(\u001b[0m \u001b[0mvar4\u001b[0m\u001b[0;34m.\u001b[0m\u001b[0mmySecondX\u001b[0m \u001b[0;34m)\u001b[0m\u001b[0;34m\u001b[0m\u001b[0;34m\u001b[0m\u001b[0m\n\u001b[1;32m     14\u001b[0m \u001b[0;34m\u001b[0m\u001b[0m\n\u001b[0;32m---> 15\u001b[0;31m \u001b[0mprint\u001b[0m\u001b[0;34m(\u001b[0m \u001b[0mvar5\u001b[0m\u001b[0;34m.\u001b[0m\u001b[0mmySecondX\u001b[0m \u001b[0;34m)\u001b[0m\u001b[0;34m\u001b[0m\u001b[0;34m\u001b[0m\u001b[0m\n\u001b[0m\u001b[1;32m     16\u001b[0m \u001b[0;34m\u001b[0m\u001b[0m\n",
      "\u001b[0;31mAttributeError\u001b[0m: 'anExample' object has no attribute 'mySecondX'"
     ]
    }
   ],
   "source": [
    "\n",
    "class anExample():\n",
    "    \n",
    "    def __init__( self, x ):\n",
    "        self.myX = x\n",
    "        return\n",
    "    \n",
    "var4 = anExample( 4 )\n",
    "\n",
    "var4.mySecondX = 10\n",
    "\n",
    "var5 = anExample( 4 )\n",
    "\n",
    "print( var4.mySecondX )\n",
    "\n",
    "print( var5.mySecondX )\n",
    "    "
   ]
  },
  {
   "cell_type": "markdown",
   "metadata": {},
   "source": [
    "3. If you have not noticed already before, **methods inside a class definition may call other methods defined for the same class** by using method attributes of the \"self\" argument. Read and then run the next cell to see an example."
   ]
  },
  {
   "cell_type": "code",
   "execution_count": 17,
   "metadata": {},
   "outputs": [
    {
     "name": "stdout",
     "output_type": "stream",
     "text": [
      "1000000\n"
     ]
    }
   ],
   "source": [
    "class anotherExample():\n",
    "    \n",
    "    def __init__( self, x ):\n",
    "        self.myX = x\n",
    "        return\n",
    "    \n",
    "    def power2( self, input1 ):\n",
    "        x = self.myX**2\n",
    "        return x\n",
    "    \n",
    "    def power6( self, input1 ):\n",
    "        j = self.power2( input1 )**3\n",
    "        return j\n",
    "        \n",
    "    \n",
    "var4 = anotherExample( x = 10 )\n",
    "\n",
    "print( var4.power6( 10 ) )\n"
   ]
  },
  {
   "cell_type": "markdown",
   "metadata": {},
   "source": [
    "4. A final remark...just to be precise. I have previously told you that the first argument of a method must be the word `self`...but this is actually a (white, small) lie! In reality, the use of the word `self` is nothing more than a convention: the name `self` has absolutely no special meaning to Python (and in fact it is not a protected word).  \n",
    "However, if you do not follow this convention, your code may be less readable to other Python programmers because **`self` is generally accepted by the Python community** as the first input to any class method. In this regard, you should notice that a \"class browser program\" that scans Python code looking for classes (for example, to optimise them), might be written relying upon such convention and thus fail to work with your code!"
   ]
  }
 ],
 "metadata": {
  "kernelspec": {
   "display_name": "Python 3",
   "language": "python",
   "name": "python3"
  },
  "language_info": {
   "codemirror_mode": {
    "name": "ipython",
    "version": 3
   },
   "file_extension": ".py",
   "mimetype": "text/x-python",
   "name": "python",
   "nbconvert_exporter": "python",
   "pygments_lexer": "ipython3",
   "version": "3.8.8"
  }
 },
 "nbformat": 4,
 "nbformat_minor": 4
}
