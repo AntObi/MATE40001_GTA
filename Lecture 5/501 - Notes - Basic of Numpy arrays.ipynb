{
 "cells": [
  {
   "cell_type": "markdown",
   "metadata": {},
   "source": [
    "## Introduction to the Numpy library \n",
    "\n",
    "In this lecture, we will learn a few features of the **Numpy** library (from Numerical Python). \n",
    "\n",
    "Together with Scipy of which we will see more next year (but you should now be able to read its documentation and learn about it on the [project page]()!), these are possibly the two most important libraries in Python when it comes to scientific computing. Note also that many other various libraries, for example for Machine Learning, are built relying on some of the functions and objects defined in Numpy!\n",
    "\n",
    "In general, NumPy contains, among other things:\n",
    "- A powerful object, the **numpy array**. It is so ubiquitous that we will just call it array, without further specifications. Arrays are possibly the most important part of the Numpy package, especially considering that almost any other package having to do any sort of heavy computation is actually built on them. The reason for their widespread usage is that numpy arrays allow very fast [vectorized computation](https://www.pythonlikeyoumeanit.com/Module3_IntroducingNumpy/VectorizedOperations.html). \n",
    "- Sophisticated mathematical functions\n",
    "- Packages for linear algebra, random number generation (which we will see in the next lecture!) and Fourier transform.\n",
    "\n",
    "Another aspect to keep in mind is that, although we would not cover this aspect in this course, Numpy contains tools for interfacing other coding languages such as C/C++ (\"Cyton\") and Fortran (\"F2Py\") with Python, which is useful to combine the (much better) computational performance of these other programming languages with the ease and flexibility of Python.\n",
    "\n",
    "### An important note\n",
    "\n",
    "The Numpy library is gigantic and **we will not cover all of it in the short time we have**. In fact, we will concentrate on *numpy arrays* and on the sub-library that allows us to generate random numbers (because it is quite important for different kind of computational modelling techniques, such as Monte Carlo simulations). However, you can find the most comprehensive documentation describing the whole Numpy library in the [Numpy project page](https://numpy.org/devdocs/reference/index.html).  \n",
    "\n",
    "I also suggest you to read this recent [review appeared on the journal Nature](https://www.nature.com/articles/s41586-020-2649-2) specifically on numpy Arrays, which besides providing an historical perspective on their development it describes the direction in which the Python community is pushing this project."
   ]
  },
  {
   "cell_type": "markdown",
   "metadata": {},
   "source": [
    "### The Numpy arrays class: attributes and selected methods\n",
    "\n",
    "A numpy array or simply array (the actual exact Python name being *ndarray*) is a **n-dimensional array of homogeneous data types**, for example, an ordered sequence of numbers. \n",
    "\n",
    "Superficially, it might simply look like a less flexible Python list, because its elements *must* be of the same type (this is what we mean by homogeneous) instead of being a (potentially) heterogeneous collection like lists. There are indeed some useful properties of lists that have also been copied by numpy arrays, in particular with respect to the way we manipulate them. For example, each element of an array `a` can be retrieved by providing the set of indexes corresponding to its position. Similarly, pieces of a numpy array can be taken by slicing it as we do in lists and numpy arrays are also copied by reference. However, this is possibly where the similarities stop and important differences begin. Let us see a few of them:\n",
    "\n",
    "- Operations on numpy array are performed in compiled code (instead of being executed line by line like in a Python list), which drastically accelerates performance. \n",
    "\n",
    "- Numpy arrays have a fixed size at creation, unlike lists which can be increased on the fly ( reminder: using the `.append()` method ). If instead you try to change the size of an array, what happens is that a new array is created and the original is deleted.\n",
    "\n",
    "- Numpy arrays are required to contain elements of the same data type\n",
    "\n",
    "- Numpy arrays speed up certain basic mathematical operations on a large number of data through \"vectorization\" (more later below), whereas lists operate sequentially. This is possible because any operation on numpy arrays is defined element-wise, which helps writing much more more compact and easy to read codes, in many cases substituting loops.\n",
    "\n",
    "If what is written in the list above is not clear, do not worry. We will have a look at some examples to illustrate all these concepts!"
   ]
  },
  {
   "cell_type": "markdown",
   "metadata": {},
   "source": [
    "#### Creating a Numpy array\n",
    "\n",
    "The standard way to instantiate ( = create ) a one-dimensional numpy array is the following:\n",
    "   \n",
    "```Python\n",
    "myArray = np.array( [a list of objects of the same type] )\n",
    "```\n",
    "for example:\n",
    "\n",
    "```Python \n",
    "myArray = np.array( [1.0, 2.0, 3.0, 4.0 ])\n",
    "myArray = np.array( [1, 2, 3, 4 ], dtype = float )\n",
    "```\n",
    "where in the second case we have added the optional argument `dtype = typeOfData`, where `typeOfData` can be any valid data type, for example, `float` or `int`, although Python typically recognises which data type you want to use by the form in which it is provided in the list.\n",
    "\n",
    "We will now see a few examples of how numpy arrays work, including similarities and differences with lists. **Read and run the cells below to see what happens**. As usual, before running them *think about what you expect to see*.\n"
   ]
  },
  {
   "cell_type": "code",
   "execution_count": 1,
   "metadata": {},
   "outputs": [],
   "source": [
    "import numpy as np"
   ]
  },
  {
   "cell_type": "markdown",
   "metadata": {},
   "source": [
    "Let us first see some similarities with lists:"
   ]
  },
  {
   "cell_type": "code",
   "execution_count": 2,
   "metadata": {},
   "outputs": [
    {
     "name": "stdout",
     "output_type": "stream",
     "text": [
      "[0 1 2 3 4 5 6 7 8 9]\n",
      "[ 0 -4  0  3  4  5  6  7  8  9]\n",
      "[-4  0  3]\n",
      "[-4  3  5  7  9]\n"
     ]
    }
   ],
   "source": [
    "aa = np.array( range( 10 ) )\n",
    "\n",
    "print(aa)\n",
    "\n",
    "# You can see we can access an array as if it was a list\n",
    "aa[ 1 ] = -4\n",
    "aa[ 2 ] = 0\n",
    "print(aa)\n",
    "\n",
    "# Whereas this examplify the use of splicing techniques!\n",
    "print( aa[ 1:4 ] )\n",
    "print( aa[ 1::2 ] )"
   ]
  },
  {
   "cell_type": "markdown",
   "metadata": {},
   "source": [
    "...and now some differences:"
   ]
  },
  {
   "cell_type": "code",
   "execution_count": 3,
   "metadata": {},
   "outputs": [
    {
     "name": "stdout",
     "output_type": "stream",
     "text": [
      "This is the results with arrays [0 2 4 6 8]\n",
      "This is the results with lists [0, 1, 2, 3, 4, 0, 1, 2, 3, 4]\n"
     ]
    }
   ],
   "source": [
    "aa = np.array( range( 5 ) )\n",
    "bb = np.array( range( 5 ) )\n",
    "\n",
    "aa2 = list( range( 5 ) )\n",
    "bb2 = list( range( 5 ) )\n",
    "\n",
    "print( \"This is the results with arrays {}\".format( aa + bb ) )\n",
    "print( \"This is the results with lists {}\".format( aa2 + bb2 ) )"
   ]
  },
  {
   "cell_type": "markdown",
   "metadata": {},
   "source": [
    "The previous cell illustrates an example of what we mean by the fact that operations on arrays are performed element-wise (which is also called vectorisation). For example, the sum of two arrays `a` and `b` is another array `c` whose elements c[i] = a[i] + b[i], similarly to what you would have with your everyday array found in your Math lectures (although they are *not* exactly the same thing!).\n",
    "\n",
    "Run the next cells to see what happens and compare the results between lists and (numpy) arrays:"
   ]
  },
  {
   "cell_type": "code",
   "execution_count": 4,
   "metadata": {},
   "outputs": [
    {
     "name": "stdout",
     "output_type": "stream",
     "text": [
      "This is the results with arrays [ 0  2  4  6  8 10 12 14 16 18]\n",
      "This is the results with lists [0, 1, 2, 3, 4, 5, 6, 7, 8, 9, 0, 1, 2, 3, 4, 5, 6, 7, 8, 9]\n"
     ]
    }
   ],
   "source": [
    "# Multiplication of an array for a scalar. Before running this cell ask yourself: What do you expect?\n",
    "\n",
    "aa = np.array( range( 10 ) )\n",
    "aa2 = list( range( 10 ) )\n",
    "\n",
    "aa *= 2\n",
    "aa2 *= 2\n",
    "\n",
    "print( \"This is the results with arrays {}\".format( aa ) )\n",
    "print( \"This is the results with lists {}\".format( aa2 ) )"
   ]
  },
  {
   "cell_type": "code",
   "execution_count": 5,
   "metadata": {},
   "outputs": [
    {
     "name": "stdout",
     "output_type": "stream",
     "text": [
      "This is the results with arrays [ 0  1  4  9 16 25 36 49 64 81]\n"
     ]
    },
    {
     "ename": "TypeError",
     "evalue": "can't multiply sequence by non-int of type 'list'",
     "output_type": "error",
     "traceback": [
      "\u001b[0;31m---------------------------------------------------------------------------\u001b[0m",
      "\u001b[0;31mTypeError\u001b[0m                                 Traceback (most recent call last)",
      "\u001b[0;32m<ipython-input-5-685756acdc4c>\u001b[0m in \u001b[0;36m<module>\u001b[0;34m\u001b[0m\n\u001b[1;32m      7\u001b[0m \u001b[0;34m\u001b[0m\u001b[0m\n\u001b[1;32m      8\u001b[0m \u001b[0mprint\u001b[0m\u001b[0;34m(\u001b[0m \u001b[0;34m\"This is the results with arrays {}\"\u001b[0m\u001b[0;34m.\u001b[0m\u001b[0mformat\u001b[0m\u001b[0;34m(\u001b[0m \u001b[0maa\u001b[0m \u001b[0;34m*\u001b[0m \u001b[0mbb\u001b[0m \u001b[0;34m)\u001b[0m \u001b[0;34m)\u001b[0m\u001b[0;34m\u001b[0m\u001b[0;34m\u001b[0m\u001b[0m\n\u001b[0;32m----> 9\u001b[0;31m \u001b[0mprint\u001b[0m\u001b[0;34m(\u001b[0m \u001b[0;34m\"This is the results with lists {}\"\u001b[0m\u001b[0;34m.\u001b[0m\u001b[0mformat\u001b[0m\u001b[0;34m(\u001b[0m \u001b[0maa2\u001b[0m \u001b[0;34m*\u001b[0m \u001b[0mbb2\u001b[0m \u001b[0;34m)\u001b[0m \u001b[0;34m)\u001b[0m\u001b[0;34m\u001b[0m\u001b[0;34m\u001b[0m\u001b[0m\n\u001b[0m",
      "\u001b[0;31mTypeError\u001b[0m: can't multiply sequence by non-int of type 'list'"
     ]
    }
   ],
   "source": [
    "# Multiplication of two arrays...What do you expect?\n",
    "aa = np.array( range( 10 ) )\n",
    "bb = np.array( range( 10 ) )\n",
    "\n",
    "aa2 = list( range( 10 ) )\n",
    "bb2 = list( range( 10 ) )\n",
    "\n",
    "print( \"This is the results with arrays {}\".format( aa * bb ) )\n",
    "print( \"This is the results with lists {}\".format( aa2 * bb2 ) )"
   ]
  },
  {
   "cell_type": "markdown",
   "metadata": {},
   "source": [
    "Because operation on arrays are performed element-wise, summing or multiplying two arrays is only possible when they have the same length. In fact, you will get an error when `a` and `b` have different length. Check below!"
   ]
  },
  {
   "cell_type": "code",
   "execution_count": 6,
   "metadata": {},
   "outputs": [
    {
     "name": "stdout",
     "output_type": "stream",
     "text": [
      "The product of two arrays of different length is:\n"
     ]
    },
    {
     "ename": "ValueError",
     "evalue": "operands could not be broadcast together with shapes (10,) (20,) ",
     "output_type": "error",
     "traceback": [
      "\u001b[0;31m---------------------------------------------------------------------------\u001b[0m",
      "\u001b[0;31mValueError\u001b[0m                                Traceback (most recent call last)",
      "\u001b[0;32m<ipython-input-6-9c1554f7c717>\u001b[0m in \u001b[0;36m<module>\u001b[0;34m\u001b[0m\n\u001b[1;32m      3\u001b[0m \u001b[0;34m\u001b[0m\u001b[0m\n\u001b[1;32m      4\u001b[0m \u001b[0mprint\u001b[0m\u001b[0;34m(\u001b[0m \u001b[0;34m\"The product of two arrays of different length is:\"\u001b[0m \u001b[0;34m)\u001b[0m\u001b[0;34m\u001b[0m\u001b[0;34m\u001b[0m\u001b[0m\n\u001b[0;32m----> 5\u001b[0;31m \u001b[0mprint\u001b[0m\u001b[0;34m(\u001b[0m \u001b[0maa\u001b[0m \u001b[0;34m*\u001b[0m \u001b[0mbb\u001b[0m \u001b[0;34m)\u001b[0m\u001b[0;34m\u001b[0m\u001b[0;34m\u001b[0m\u001b[0m\n\u001b[0m",
      "\u001b[0;31mValueError\u001b[0m: operands could not be broadcast together with shapes (10,) (20,) "
     ]
    }
   ],
   "source": [
    "aa = np.array( range( 10 ) )\n",
    "bb = np.array( range( 20 ) )\n",
    "\n",
    "print( \"The product of two arrays of different length is:\" )\n",
    "print( aa * bb )"
   ]
  },
  {
   "cell_type": "code",
   "execution_count": 7,
   "metadata": {},
   "outputs": [
    {
     "name": "stdout",
     "output_type": "stream",
     "text": [
      "The product of the list\n",
      "[0, 1, 2, 3, 4, 5, 6, 7, 8, 9]\n",
      "with the list\n",
      "[0, 1, 2, 3, 4, 5, 6, 7, 8, 9]\n",
      "is:\n"
     ]
    },
    {
     "ename": "TypeError",
     "evalue": "can't multiply sequence by non-int of type 'list'",
     "output_type": "error",
     "traceback": [
      "\u001b[0;31m---------------------------------------------------------------------------\u001b[0m",
      "\u001b[0;31mTypeError\u001b[0m                                 Traceback (most recent call last)",
      "\u001b[0;32m<ipython-input-7-406f6d3ab402>\u001b[0m in \u001b[0;36m<module>\u001b[0;34m\u001b[0m\n\u001b[1;32m      9\u001b[0m \u001b[0mprint\u001b[0m\u001b[0;34m(\u001b[0m \u001b[0mbb\u001b[0m \u001b[0;34m)\u001b[0m\u001b[0;34m\u001b[0m\u001b[0;34m\u001b[0m\u001b[0m\n\u001b[1;32m     10\u001b[0m \u001b[0mprint\u001b[0m\u001b[0;34m(\u001b[0m \u001b[0;34m\"is:\"\u001b[0m \u001b[0;34m)\u001b[0m\u001b[0;34m\u001b[0m\u001b[0;34m\u001b[0m\u001b[0m\n\u001b[0;32m---> 11\u001b[0;31m \u001b[0mprint\u001b[0m\u001b[0;34m(\u001b[0m \u001b[0maa\u001b[0m \u001b[0;34m*\u001b[0m \u001b[0mbb\u001b[0m \u001b[0;34m)\u001b[0m\u001b[0;34m\u001b[0m\u001b[0;34m\u001b[0m\u001b[0m\n\u001b[0m",
      "\u001b[0;31mTypeError\u001b[0m: can't multiply sequence by non-int of type 'list'"
     ]
    }
   ],
   "source": [
    "# Again, clearly this would not work with lists, for which multiplication \n",
    "# is not even defined! Check by running this cell\n",
    "aa = list( range( 10 ) )\n",
    "bb = list( range( 10 ) )\n",
    "\n",
    "print( \"The product of the list\" )\n",
    "print( aa )\n",
    "print( \"with the list\" )\n",
    "print( bb )\n",
    "print( \"is:\" )\n",
    "print( aa * bb )\n"
   ]
  },
  {
   "cell_type": "markdown",
   "metadata": {},
   "source": [
    "As we have previouls said, numpy arrays are copied *by reference*. If you want to make a \"proper\" hard copy (so that you can modify the elements of the copy independently), as in list this can be done via the .copy() method, which exists also for numpy arrays!"
   ]
  },
  {
   "cell_type": "markdown",
   "metadata": {},
   "source": [
    "Let us now look at a few useful command to create certain specific numpy arrays. Read the comments in each of the subsequent cells and then run them to see. "
   ]
  },
  {
   "cell_type": "code",
   "execution_count": 8,
   "metadata": {},
   "outputs": [
    {
     "name": "stdout",
     "output_type": "stream",
     "text": [
      "[1. 1. 1. 1.]\n",
      "[0. 0. 0. 0.]\n"
     ]
    }
   ],
   "source": [
    "#  If we want to create arrays with all elements equal to zero or one, \n",
    "#  this can be done via the .zeros(N)  and .ones(N) method, `N` being the \n",
    "#  number of elements you want to create. Have a look!\n",
    "\n",
    "xx = np.ones( 4 )\n",
    "yy = np.zeros( 4 )\n",
    "print( xx )\n",
    "print( yy )"
   ]
  },
  {
   "cell_type": "code",
   "execution_count": 9,
   "metadata": {},
   "outputs": [
    {
     "name": "stdout",
     "output_type": "stream",
     "text": [
      "[0 1 2 3]\n"
     ]
    }
   ],
   "source": [
    "# The function `np.arange()` is instead the equivalent to the declaration \n",
    "# np.array( range( x ) ) and thus creates an arrays of numbers from 0 to x-1. \n",
    "# Run the next cell and see!\n",
    "\n",
    "xx = np.arange( 4 )\n",
    "print( xx )"
   ]
  },
  {
   "cell_type": "code",
   "execution_count": 10,
   "metadata": {},
   "outputs": [
    {
     "name": "stdout",
     "output_type": "stream",
     "text": [
      "[1.  1.5 2.  2.5 3.  3.5 4.  4.5 5. ]\n"
     ]
    }
   ],
   "source": [
    "# The function np.linspace( x1, x2, N ) creates an array of N elements equally \n",
    "# spaced, from x1 to x2, both included\n",
    "\n",
    "xx = np.linspace( 1, 5, 9 )\n",
    "print( xx )"
   ]
  },
  {
   "cell_type": "code",
   "execution_count": 11,
   "metadata": {},
   "outputs": [
    {
     "name": "stdout",
     "output_type": "stream",
     "text": [
      "[1.00000000e+01 3.72759372e+01 1.38949549e+02 5.17947468e+02\n",
      " 1.93069773e+03 7.19685673e+03 2.68269580e+04 1.00000000e+05]\n",
      "The first element is 10.0\n",
      "The last element is 100000.0\n",
      "The ratios are\n",
      "37.2759372031494/ 10.0 = 3.72759372031494\n",
      "138.94954943731375/ 37.2759372031494 = 3.7275937203149403\n",
      "517.9474679231213/ 138.94954943731375 = 3.7275937203149416\n",
      "1930.6977288832495/ 517.9474679231213 = 3.7275937203149376\n"
     ]
    }
   ],
   "source": [
    "# The function np.logspace( x1, x2, N ) creates an array of N elements from 10^x1 \n",
    "# to 10^x2. This is similar to linspace, but elements are equally spaced in \n",
    "# logarithmic space, so that the RATIO between consecutive elements is constant\n",
    "\n",
    "xx = np.logspace( 1, 5, 8 )\n",
    "print( xx )\n",
    "print( \"The first element is {0}\".format( xx[ 0 ] ) )\n",
    "print( \"The last element is {0}\".format( xx[ -1 ] ) )\n",
    "print( \"The ratios are\" )\n",
    "print( \"{0}/ {1} = {2}\".format( xx[1], xx[0], xx[1]/xx[0] ) )\n",
    "print( \"{0}/ {1} = {2}\".format( xx[2], xx[1], xx[2]/xx[1] ) )\n",
    "print( \"{0}/ {1} = {2}\".format( xx[3], xx[2], xx[3]/xx[2] ) )\n",
    "print( \"{0}/ {1} = {2}\".format( xx[4], xx[3], xx[4]/xx[3] ) )"
   ]
  },
  {
   "cell_type": "markdown",
   "metadata": {},
   "source": [
    "Let us now have a look at a few typical method attributes (= object-specific functions) of numpy arrays. \n",
    "\n",
    "Read the documentation for this method, for example, by using the help command in Jupyter, or the documentation trick shown to your in the very first lecture notes about data types!). After reading the documentation, run the following cells to see what happens. \n",
    "\n",
    "You might want to take note of these methods, as you should become familiar with them for the exercises provided in the other Jupyter notebook!"
   ]
  },
  {
   "cell_type": "code",
   "execution_count": 12,
   "metadata": {},
   "outputs": [
    {
     "name": "stdout",
     "output_type": "stream",
     "text": [
      "10\n"
     ]
    }
   ],
   "source": [
    "# the .sum() command\n",
    "\n",
    "a = np.array( [1, 2, 3, 4 ] )\n",
    "\n",
    "print( a.sum() )"
   ]
  },
  {
   "cell_type": "code",
   "execution_count": 13,
   "metadata": {},
   "outputs": [
    {
     "name": "stdout",
     "output_type": "stream",
     "text": [
      "2.5\n"
     ]
    }
   ],
   "source": [
    "# the .mean() command\n",
    "\n",
    "a = np.array( [1, 2, 3, 4 ] )\n",
    "\n",
    "print( a.mean() )"
   ]
  },
  {
   "cell_type": "code",
   "execution_count": 14,
   "metadata": {},
   "outputs": [
    {
     "name": "stdout",
     "output_type": "stream",
     "text": [
      "0.5\n",
      "0.0\n"
     ]
    }
   ],
   "source": [
    "# the .std() command\n",
    "\n",
    "a = np.array( [1, 0, 1, 0 ] )\n",
    "b = np.array( [1, 1, 1, 1 ] )\n",
    "\n",
    "print( a.std() )\n",
    "print( b.std() )\n",
    "\n"
   ]
  },
  {
   "cell_type": "code",
   "execution_count": 15,
   "metadata": {},
   "outputs": [
    {
     "name": "stdout",
     "output_type": "stream",
     "text": [
      "4\n",
      "5\n",
      "6\n"
     ]
    }
   ],
   "source": [
    "# the .size() command\n",
    "\n",
    "a = np.array( [1, 2, 3, 4 ] )\n",
    "b = np.array( [1, 2, 3, 4, 10 ] )\n",
    "c = np.array( [1, 2, 3, 4, 22, -19 ] )\n",
    "\n",
    "print( a.size )\n",
    "print( b.size )\n",
    "print( c.size )"
   ]
  },
  {
   "cell_type": "markdown",
   "metadata": {},
   "source": [
    "Sometimes it is useful to check if a condition is satisfied for all elements of an array. This can be done using the `.all()` and `.any()` method. \n",
    "\n",
    "Run this cell and check what happens in the examples. You can also check using the numpy documentation (either online or printing the relative `__doc__` for the method...)."
   ]
  },
  {
   "cell_type": "code",
   "execution_count": 16,
   "metadata": {},
   "outputs": [
    {
     "name": "stdout",
     "output_type": "stream",
     "text": [
      "False\n",
      "True\n",
      "True\n",
      "False\n"
     ]
    }
   ],
   "source": [
    "# the .all( ) command...\n",
    "a = np.array( [ True, True, True, False ] )\n",
    "b = np.array( [ True, True, True, True ] )\n",
    "\n",
    "print( a.all()  )\n",
    "print( b.all() )\n",
    "\n",
    "a = np.array( [ 1, 1, 1, 1 ] )\n",
    "b = np.array( [ 1, 0, 1, 1 ] )\n",
    "\n",
    "print( a.all() )\n",
    "print( b.all() )\n",
    "\n"
   ]
  },
  {
   "cell_type": "markdown",
   "metadata": {},
   "source": [
    "In practice, what you should realise from the previous examples is that the `.all()` method returns `True` if *all the elements of the array* are `True` and `False` otherwise. It is equivalent to connecting all input values via a logical `AND`"
   ]
  },
  {
   "cell_type": "code",
   "execution_count": 17,
   "metadata": {},
   "outputs": [
    {
     "name": "stdout",
     "output_type": "stream",
     "text": [
      "True\n",
      "False\n",
      "True\n",
      "True\n"
     ]
    }
   ],
   "source": [
    "# the .any( ) command\n",
    "\n",
    "# the .all( ) command...\n",
    "a = np.array( [ False, True, False ] )\n",
    "b = np.array( [ False, False, False ] )\n",
    "\n",
    "print( a.any()  )\n",
    "print( b.any()  )\n",
    "\n",
    "a = np.array( [ 1, 1, 1, 1 ] )\n",
    "b = np.array( [ 1, 0, 1, 1 ] )\n",
    "\n",
    "print( a.any()  )\n",
    "print( b.any()  )"
   ]
  },
  {
   "cell_type": "markdown",
   "metadata": {},
   "source": [
    "In practice, the `.any()` command returns `True` if *at least one element* of the array is `True` and `False` otherwise. It is like connecting all the array values via a logical `OR`.  \n",
    "\n",
    "When you think about arrays, you might have in mind operations like the dot or cross product between two of them. These operations can be implemented via numpy arrays but they are slightly different then the usual mathematical definition. Let us see with an example."
   ]
  },
  {
   "cell_type": "code",
   "execution_count": 18,
   "metadata": {},
   "outputs": [
    {
     "name": "stdout",
     "output_type": "stream",
     "text": [
      "6\n",
      "6\n"
     ]
    }
   ],
   "source": [
    "# the .dot( anotherArray ) command (to understand, you can experiment with other input values by changing the lists below in the array declaration...)\n",
    "\n",
    "a = np.array( [1, 2, 3, 4 ] )\n",
    "b = np.array( [0, 1, 0, 1 ] )\n",
    "\n",
    "#As you shall see, this does not give the dot product as defined in math...but it can be defined from it!\n",
    "print( a.dot( b ) )\n",
    "\n",
    "c = a * b \n",
    "print( c.sum() )\n"
   ]
  },
  {
   "cell_type": "code",
   "execution_count": 19,
   "metadata": {},
   "outputs": [
    {
     "name": "stdout",
     "output_type": "stream",
     "text": [
      "[0 1 0]\n",
      "[ 0 -1  0]\n",
      "[0 0 0]\n"
     ]
    }
   ],
   "source": [
    "# But if you want to do the cross product, you need the np.cross(array1, array2) of the numpy\n",
    "# library\n",
    "\n",
    "a = np.array( [ 0, 0, 1 ] )\n",
    "b = np.array( [ 1, 0, 0 ] )\n",
    "\n",
    "print( np.cross( a, b ) )\n",
    "print( np.cross( b, a ) )\n",
    "\n",
    "aa = np.array( [ 3, 0, 0 ] )\n",
    "bb = np.array( [ 1, 0, 0 ] )\n",
    "\n",
    "print( np.cross( aa, bb ) )"
   ]
  },
  {
   "cell_type": "markdown",
   "metadata": {},
   "source": [
    "#### Arrays and functions \n",
    "\n",
    "Let us now see something extremely powerful that you can do with numpy arrays. \n",
    "\n",
    "If you have defined *any* function that takes an element and transforms it, you can literally apply the same function using a numpy array and the function is applied element-wise! In other words, when you apply a function to an array the return value is another array, where the function has been applied to each of its elements.  \n",
    "\n",
    "This way of applying functions to arrays is true for (almost) any function, including arithmetic operators such as +, -, but also sin, cos, tan and any mathematical function.\n",
    "\n",
    "Look at the following example by running the cell below:"
   ]
  },
  {
   "cell_type": "code",
   "execution_count": 20,
   "metadata": {},
   "outputs": [
    {
     "name": "stdout",
     "output_type": "stream",
     "text": [
      "6\n",
      "-6\n",
      "[-9 -6 90]\n"
     ]
    }
   ],
   "source": [
    "def myFunction( x ):\n",
    "    \"\"\"This function takes the square of a number and subtract 10\"\"\"\n",
    "    x *= x\n",
    "    x -= 10\n",
    "    return x\n",
    "    \n",
    "a = 4\n",
    "b = -2\n",
    "aaa = np.array( [ 1, 2, 10 ] )\n",
    "print( myFunction( a ) )\n",
    "print( myFunction( b ) )\n",
    "print( myFunction( aaa ) )"
   ]
  },
  {
   "cell_type": "markdown",
   "metadata": {},
   "source": [
    "There is an exception to the rule above, or, better, **a certain class of functions cannot be applied to arrays**. These are functions that, within their body, **contain a conditional (if) statement**. \n",
    "\n",
    "Have a look and see what happens by running this cell:"
   ]
  },
  {
   "cell_type": "code",
   "execution_count": 21,
   "metadata": {},
   "outputs": [
    {
     "name": "stdout",
     "output_type": "stream",
     "text": [
      "4\n",
      "-6\n"
     ]
    },
    {
     "ename": "ValueError",
     "evalue": "The truth value of an array with more than one element is ambiguous. Use a.any() or a.all()",
     "output_type": "error",
     "traceback": [
      "\u001b[0;31m---------------------------------------------------------------------------\u001b[0m",
      "\u001b[0;31mValueError\u001b[0m                                Traceback (most recent call last)",
      "\u001b[0;32m<ipython-input-21-79c63e2c71a4>\u001b[0m in \u001b[0;36m<module>\u001b[0;34m\u001b[0m\n\u001b[1;32m     14\u001b[0m \u001b[0mprint\u001b[0m\u001b[0;34m(\u001b[0m \u001b[0mmyFunction2\u001b[0m\u001b[0;34m(\u001b[0m \u001b[0ma\u001b[0m \u001b[0;34m)\u001b[0m \u001b[0;34m)\u001b[0m\u001b[0;34m\u001b[0m\u001b[0;34m\u001b[0m\u001b[0m\n\u001b[1;32m     15\u001b[0m \u001b[0mprint\u001b[0m\u001b[0;34m(\u001b[0m \u001b[0mmyFunction2\u001b[0m\u001b[0;34m(\u001b[0m \u001b[0mb\u001b[0m \u001b[0;34m)\u001b[0m \u001b[0;34m)\u001b[0m\u001b[0;34m\u001b[0m\u001b[0;34m\u001b[0m\u001b[0m\n\u001b[0;32m---> 16\u001b[0;31m \u001b[0mprint\u001b[0m\u001b[0;34m(\u001b[0m \u001b[0mmyFunction2\u001b[0m\u001b[0;34m(\u001b[0m \u001b[0maaa\u001b[0m \u001b[0;34m)\u001b[0m \u001b[0;34m)\u001b[0m\u001b[0;34m\u001b[0m\u001b[0;34m\u001b[0m\u001b[0m\n\u001b[0m",
      "\u001b[0;32m<ipython-input-21-79c63e2c71a4>\u001b[0m in \u001b[0;36mmyFunction2\u001b[0;34m(xx)\u001b[0m\n\u001b[1;32m      1\u001b[0m \u001b[0;32mdef\u001b[0m \u001b[0mmyFunction2\u001b[0m\u001b[0;34m(\u001b[0m \u001b[0mxx\u001b[0m \u001b[0;34m)\u001b[0m\u001b[0;34m:\u001b[0m\u001b[0;34m\u001b[0m\u001b[0;34m\u001b[0m\u001b[0m\n\u001b[1;32m      2\u001b[0m     \u001b[0;34m\"\"\"This function takes the square of a number and subtract 10\"\"\"\u001b[0m\u001b[0;34m\u001b[0m\u001b[0;34m\u001b[0m\u001b[0m\n\u001b[0;32m----> 3\u001b[0;31m     \u001b[0;32mif\u001b[0m \u001b[0mxx\u001b[0m \u001b[0;34m<\u001b[0m \u001b[0;36m0\u001b[0m\u001b[0;34m:\u001b[0m\u001b[0;34m\u001b[0m\u001b[0;34m\u001b[0m\u001b[0m\n\u001b[0m\u001b[1;32m      4\u001b[0m         \u001b[0mxx\u001b[0m \u001b[0;34m*=\u001b[0m \u001b[0mxx\u001b[0m\u001b[0;34m\u001b[0m\u001b[0;34m\u001b[0m\u001b[0m\n\u001b[1;32m      5\u001b[0m         \u001b[0mxx\u001b[0m \u001b[0;34m-=\u001b[0m \u001b[0;36m10\u001b[0m\u001b[0;34m\u001b[0m\u001b[0;34m\u001b[0m\u001b[0m\n",
      "\u001b[0;31mValueError\u001b[0m: The truth value of an array with more than one element is ambiguous. Use a.any() or a.all()"
     ]
    }
   ],
   "source": [
    "\n",
    "def myFunction2( xx ):\n",
    "    \"\"\"This function takes the square of a number and subtract 10\"\"\"\n",
    "    if xx < 0:\n",
    "        xx *= xx\n",
    "        xx -= 10\n",
    "    else:\n",
    "        pass\n",
    "    \n",
    "    return xx\n",
    "    \n",
    "a = 4\n",
    "b = -2\n",
    "aaa = np.array( [ 1, 2, 10 ] )\n",
    "print( myFunction2( a ) )\n",
    "print( myFunction2( b ) )\n",
    "print( myFunction2( aaa ) )"
   ]
  },
  {
   "cell_type": "markdown",
   "metadata": {},
   "source": [
    "#### Some special numpy functions\n",
    "\n",
    "Numpy comes with almost all mathematical functions that you possibly know: for example, you can call sine, cosine, tangent and exponential simply via\n",
    "\n",
    "- np.sin( x )\n",
    "- np.cos( x )\n",
    "- np.tan( x )\n",
    "- np.exp( x )\n",
    "\n",
    "You can look it up in the documentation at the link given in the first cell if you are interested in knowing all of them...or just try to use these functions little by little when building new programs! \n",
    "\n",
    "Here I just want to present a few which you should definitely know because of \n",
    "their very general usefullness in analysing data. In this regard, let us look at a  couple of special, non-aritmetic functions to manipulate data. For example, functions for sorting data and looking through long sets of data...run the cells below and see what happens!"
   ]
  },
  {
   "cell_type": "code",
   "execution_count": 22,
   "metadata": {},
   "outputs": [
    {
     "name": "stdout",
     "output_type": "stream",
     "text": [
      "[    -1      3     23     45    312   5983  43095 434897]\n"
     ]
    }
   ],
   "source": [
    "# The np.sort( x ) function. Run to see what it does.\n",
    "\n",
    "x = np.array( [-1,5983,3,434897,43095,312,23,45 ] )\n",
    "print( np.sort( x ) )\n",
    "\n"
   ]
  },
  {
   "cell_type": "code",
   "execution_count": 23,
   "metadata": {},
   "outputs": [
    {
     "name": "stdout",
     "output_type": "stream",
     "text": [
      "3\n",
      "434897\n"
     ]
    }
   ],
   "source": [
    "# The np.argmax( x ) function...what does it do? Run and see, or check\n",
    "# the documentation of the argmax method\n",
    "x = np.array( [-1,5983,3,434897,43095,312,23,45 ] )\n",
    "indexOfMax = np.argmax( x )\n",
    "\n",
    "print( indexOfMax )\n",
    "print( x[ indexOfMax ] )\n"
   ]
  },
  {
   "cell_type": "code",
   "execution_count": 24,
   "metadata": {},
   "outputs": [
    {
     "name": "stdout",
     "output_type": "stream",
     "text": [
      "6\n",
      "-23\n"
     ]
    }
   ],
   "source": [
    "# Or the opposite, the np.argmin( x ) function...(this returns the index of the minimum\n",
    "# value in the array )\n",
    "x = np.array( [ 1, 5983, 3, 434897, 43095, 312, -23, 45 ] )\n",
    "indexOfMin = np.argmin( x )\n",
    "\n",
    "print( indexOfMin )\n",
    "print( x[ indexOfMin ] )"
   ]
  },
  {
   "cell_type": "code",
   "execution_count": 25,
   "metadata": {},
   "outputs": [],
   "source": [
    "# Finally, the extract function\n",
    "#\n",
    "# np.extract( condition, array )\n",
    "#\n",
    "# which returns the elements satisfying a certain condition\n",
    "#\n",
    "x = np.array( [ 0, 1, 1, 2, 0 ,1 ] )\n",
    "\n"
   ]
  },
  {
   "cell_type": "markdown",
   "metadata": {},
   "source": [
    "Remember that operations are applied elementwise to arrays and the return function is an array containing their result. Hence, the following creates an array of the same size as `x` above, where if the condition is satisfied there will be a `True`, or `False` otherwise. \n",
    "\n",
    "Look at the following code:"
   ]
  },
  {
   "cell_type": "code",
   "execution_count": 26,
   "metadata": {},
   "outputs": [
    {
     "name": "stdout",
     "output_type": "stream",
     "text": [
      "[False  True  True  True False  True]\n",
      "[1 1 2 1]\n"
     ]
    }
   ],
   "source": [
    "condition = x > 0 \n",
    "print( condition )\n",
    "z = np.extract( condition, x )\n",
    "print(z)"
   ]
  },
  {
   "cell_type": "markdown",
   "metadata": {},
   "source": [
    "#### Masked Arrays\n",
    " \n",
    "Masked arrays are a slightly different type of object from normal numpy arrays (in fact, they have been derived from it, in the sense that they **inherited** most of standard arrays functionalities).    \n",
    "\n",
    "In general, masked arrays have been developed to work with arrays that may have missing or invalid entries, a common situation when dealing with large dataset. For example, a sensor may have failed to record a data, or recorded a negative value due to malfunctioning for a quantity like the absolute temperature, which we know can only be positive.  \n",
    "\n",
    "In order to use masked arrays, we need to import the `numpy.ma` module of the standard numpy library:\n",
    "\n",
    "```Python\n",
    "import numpy.ma as ma  # (we load the subpackage numpy.ma, this has to be done once only)\n",
    "```\n",
    "\n",
    "Then we can instantiate masked arrays. \n",
    "\n",
    "In practice, a masked array is the combination of a standard numpy array and a **mask**. When instantiating a masked array, this mask can be set to `nomask`, indicating that no value of the associated array is invalid, or it can be another array, of the same length, containing booleans values (`True/1` or `False/0`) that determine, for each element of the associated array, whether the value is valid or not.  \n",
    "\n",
    "It might be a bit counterintuitive but actually **when an element of the mask is `False`, the corresponding element of the associated array is valid** and is said to be **unmasked**. When an element of the mask is `True`, the corresponding element of the associated array is said to be **masked** (invalid).  \n",
    "\n",
    "The general declaration to instantiate (create a variable of type) masked arrays is:\n",
    "\n",
    "```Python\n",
    "var = ma.masked_array( array, mask )\n",
    "```\n",
    "\n",
    "where `array` is a numpy array and `mask` an array of boolean (`True` or `False`) values, which for obvious reasons must be of the same length as `array`.  \n",
    "\n",
    "Let's make an example (read until the end then run the cell to see what happens). Here, we wish to mark all negative values as invalid and then take the average of the remaining ones. With a masked array, this can be done easily via:"
   ]
  },
  {
   "cell_type": "code",
   "execution_count": 29,
   "metadata": {},
   "outputs": [
    {
     "name": "stdout",
     "output_type": "stream",
     "text": [
      "12.125\n"
     ]
    }
   ],
   "source": [
    "import numpy.ma as ma\n",
    "#This is our example array\n",
    "x = np.array( [1, -2, 3, -1, 5, -30, 45, 1, 18, -12, 0, -21, 24 ] ) \n",
    "\n",
    "condition = x < 0  # Remember we want to mask/hide all the values that are INVALID\n",
    "masked = ma.masked_array( x, mask = condition )\n",
    "\n",
    "#We can now compute the mean of the dataset, without considering the invalid data:\n",
    "print( masked.mean() )"
   ]
  },
  {
   "cell_type": "code",
   "execution_count": 30,
   "metadata": {},
   "outputs": [],
   "source": [
    "# In  this cell, write a code to do the same job but using normal numpy arrays...\n",
    "# can you see how masked arrays make a more compact way to do it!\n",
    "\n"
   ]
  },
  {
   "cell_type": "markdown",
   "metadata": {},
   "source": [
    "In general, all operations that are normally done on a numpy array will be done also on the masked version, but in this case the masked (True) elements will be automatically excluded and not be taken into account.\n",
    "\n",
    "The mask of a masked array can be seen with the `.mask` data attribute of the object masked array. Read and run this cell to see what happens"
   ]
  },
  {
   "cell_type": "code",
   "execution_count": 31,
   "metadata": {},
   "outputs": [
    {
     "name": "stdout",
     "output_type": "stream",
     "text": [
      "[False False  True]\n",
      "[False  True False]\n"
     ]
    }
   ],
   "source": [
    "x = np.array([1, 2, 3])\n",
    "myMask = [ 0, 0, 1 ]\n",
    "myMask2 = [ False, True, False ]\n",
    "\n",
    "# Remember that in Python 0 == False and 1 == True!\n",
    "\n",
    "masked = ma.masked_array( x, myMask )\n",
    "print( masked.mask )\n",
    "\n",
    "masked = ma.masked_array( x, myMask2 )\n",
    "print( masked.mask )"
   ]
  },
  {
   "cell_type": "markdown",
   "metadata": {},
   "source": [
    "Another powerful method to generate masks without actually using the `np.extract()` method is to use implicit `list` declarations to mask specific elements. You should remember the construct:\n",
    "\n",
    "```Python\n",
    "i = [ valueOfAFunction(i) for i in someRangeOfValues]\n",
    "```\n",
    "\n",
    "```Python\n",
    "i = [ i**2 for i in range( 4 ) ] ==> [ 0, 1, 4, 9 ]\n",
    "```\n",
    "\n",
    "We can thus use these lists to generate a mask of booleans to check if a condition in our numpy array is satisfied for each element. To see a practical example, read and run the next cell but as usual think: what did you expect to see?"
   ]
  },
  {
   "cell_type": "code",
   "execution_count": 32,
   "metadata": {},
   "outputs": [
    {
     "name": "stdout",
     "output_type": "stream",
     "text": [
      "My array is\n",
      "[0 1 2 3 4 5 6 7 8 9]\n",
      "The square would be\n",
      "[ 0  1  4  9 16 25 36 49 64 81]\n",
      "The mask is True if the square of the element is less than 9, False otherwise\n",
      "[False, False, False, False, True, True, True, True, True, True]\n",
      "Now we take the mean considering only UNmasked elements, that is, for which the mask is False!\n",
      "Do it by end to check! The result computed here is:\n",
      "1.5\n"
     ]
    }
   ],
   "source": [
    "x = np.arange( 10 )\n",
    "mask = [ True if x[ i ]**2 > 9 else False for i in range( len(x ) ) ]\n",
    "\n",
    "print( \"My array is\")\n",
    "print(x)\n",
    "print( \"The square would be\")\n",
    "y = x**2\n",
    "print(y)\n",
    "\n",
    "print( \"The mask is True if the square of the element is less than 9, False otherwise\")\n",
    "print(mask)\n",
    "\n",
    "print( \"Now we take the mean considering only UNmasked elements, that is, for which the mask is False!\")\n",
    "print( \"Do it by end to check! The result computed here is:\")\n",
    "xx = ma.masked_array( x, mask )\n",
    "print( xx.mean() )\n"
   ]
  },
  {
   "cell_type": "markdown",
   "metadata": {},
   "source": [
    "And let us make a second example for even more clarity:"
   ]
  },
  {
   "cell_type": "code",
   "execution_count": 33,
   "metadata": {},
   "outputs": [
    {
     "name": "stdout",
     "output_type": "stream",
     "text": [
      "Is the square root of all element of x bigger than 10? False \n"
     ]
    }
   ],
   "source": [
    "x = np.array( [ 200, 39248, 2494, 2482, 9913, 23824, 589035, 999, 939, 38942,\n",
    "              200, 39248, 2494, 2482, 93, 224, 9035, 999, 939, 38942,\n",
    "              200, 39248, 2494, 282, 913, 23824, 589035, 999, 939, 38942,\n",
    "              200, 357385, 3994294, 2482, 9913, 23824, 589035, 999, 939, 38942 ] )\n",
    "\n",
    "# We want to verify that the square root of all elements in the array \"x\" above is bigger than 10. \n",
    "# We can simply do\n",
    "\n",
    "mask = [ True if np.sqrt( x[ i ] ) > 10 else False for i in range( len( x ) ) ]\n",
    "\n",
    "# Than we transform the mask in an array and combine it with .all\n",
    "\n",
    "mask2 = np.array( mask )\n",
    "\n",
    "print( \"Is the square root of all element of x bigger than 10? {0} \".format( mask2.all() ) )\n"
   ]
  },
  {
   "cell_type": "markdown",
   "metadata": {},
   "source": [
    "Ok, this was a lot! But hopefully you are now ready to use most of the functionalities of this very powerful object!"
   ]
  }
 ],
 "metadata": {
  "kernelspec": {
   "display_name": "Python 3",
   "language": "python",
   "name": "python3"
  },
  "language_info": {
   "codemirror_mode": {
    "name": "ipython",
    "version": 3
   },
   "file_extension": ".py",
   "mimetype": "text/x-python",
   "name": "python",
   "nbconvert_exporter": "python",
   "pygments_lexer": "ipython3",
   "version": "3.8.8"
  }
 },
 "nbformat": 4,
 "nbformat_minor": 4
}
