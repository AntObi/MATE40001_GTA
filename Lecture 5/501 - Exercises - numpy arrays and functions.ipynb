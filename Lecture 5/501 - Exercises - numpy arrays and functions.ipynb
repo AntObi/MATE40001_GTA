{
 "cells": [
  {
   "cell_type": "markdown",
   "metadata": {},
   "source": [
    "### Numpy arrays\n",
    "\n",
    "In this notebook, we will explore a few exercises to use numpy arrays. The solutions to these exercises **might not be unique**. However, more often then not, some solutions are better than other. Typically, a better solution involves doing the same with fewer lines of code (although this is not always and generally true, so take this with a pinch of salt! \n",
    "\n",
    "As usual, the solutions will be uploaded to the solution folder next week.\n",
    "\n",
    "In some of these exercises, we also need the library `time` to calculate the time some function require to perform their operation.\n",
    "the method `time.time()` returns the current time in seconds, see the documentation [here](https://www.tutorialspoint.com/python3/time_time.htm)"
   ]
  },
  {
   "cell_type": "code",
   "execution_count": 2,
   "metadata": {},
   "outputs": [],
   "source": [
    "# First, run this cell to load numpy \n",
    "import numpy as np\n",
    "\n",
    "# We also need the library time to calculate the time some function require to perform their operation.\n",
    "# the method time.time() returns the current time in seconds\n",
    "\n",
    "import time"
   ]
  },
  {
   "cell_type": "markdown",
   "metadata": {},
   "source": [
    "In the following cell, write two functions. The first, fun1, takes as input two lists with the same number of elements and sum them up. The second, fun2, takes two numpy arrays again of the same length, and sum them up.  \n",
    "**IMPORTANT**: In defining the second function, you **cannot** use any loop but rather you need to use the properties of numpy arrays. (To use it later, remember to run the cell with the function definition!)"
   ]
  },
  {
   "cell_type": "code",
   "execution_count": 24,
   "metadata": {},
   "outputs": [],
   "source": [
    "#Define your functions here:\n",
    "\n",
    "def fun1( l1, l2 ):\n",
    "    \"This function takes lists as inputs\"\n",
    "    #write your code here\n",
    "    return sum1\n",
    "\n",
    "def fun2( ar1, ar2 ):\n",
    "    \"this uses numpy arrays\"\n",
    "    #write your code here. The optimal solution requires a single line of code!\n",
    "    return sum1\n",
    "\n",
    "    "
   ]
  },
  {
   "cell_type": "code",
   "execution_count": null,
   "metadata": {},
   "outputs": [],
   "source": [
    "# The following command generates two very large lists of random numbers, with 10^6 elements. Running this cell, if the function definition above is correct, should print the same total. However, one of the two might take a longer time...have a look at what difference in speed you obtain!\n",
    "\n",
    "NN = 10**6\n",
    "a1 = np.random.rand( NN )\n",
    "a2 = np.random.rand( NN )\n",
    "\n",
    "x1 = list( a1 ) # This is to transform an array object into a Python list!\n",
    "x2 = list( a2 ) # This is to transform an array object into a Python list!\n",
    "\n",
    "# This performs the operation with lists\n",
    "\n",
    "t1 = time.time()\n",
    "tot = fun1( x1, x2 )\n",
    "t2 = time.time()\n",
    "t_list = t2 - t1\n",
    "print(  \"Result {0:.5f}, Time using lists {1:.5f}\".format( tot, t_list ) )\n",
    "\n",
    "t1 = time.time()\n",
    "tot = fun2( a1, a2 )\n",
    "t2 = time.time()\n",
    "t_array = t2 - t1\n",
    "print(  \"Result {0:.5f}, Time using numpy arrays {1:.5f}\".format( tot, t_array ) )\n",
    "\n",
    "print(\"Increase in performance using arrays = t_lists / t_array : {0:.5f} \".format( t_list / t_array ) )\n",
    "\n"
   ]
  },
  {
   "cell_type": "markdown",
   "metadata": {},
   "source": [
    "Making use of numpy methods, define a function that takes two arrays `a` and `b` as input and does the following:\n",
    "\n",
    "1. Orders the array values by size. \n",
    "2. Multiply the lowest element of the array `a` by the largest element of `b`,\n",
    "   then the second lowest of `a` with the second largest of `b` and so on. Store these product in another array `c`\n",
    "3. Return the index and the value of the minimum among all elements in `c`"
   ]
  },
  {
   "cell_type": "code",
   "execution_count": null,
   "metadata": {},
   "outputs": [],
   "source": [
    "def myFun( a, b ):\n",
    "    #write your code here \n",
    "    return index, c[ index ]"
   ]
  },
  {
   "cell_type": "code",
   "execution_count": null,
   "metadata": {},
   "outputs": [],
   "source": [
    "# You can literally calculate the solution by hand with the values in the arrays below \n",
    "# and then compare to what you would obtain running the code here. This is useful to evaluate if \n",
    "# you coded correctly.\n",
    "\n",
    "a = np.array( [ 4, 1, 2 ] )\n",
    "b = np.array( [ 1, 0.2, 1.1 ] )\n",
    "\n",
    "print( myFun( a,b ) )"
   ]
  },
  {
   "cell_type": "markdown",
   "metadata": {},
   "source": [
    "Using numpy arrays and functions, write a compact code to calculate \n",
    "numerically the integral of the sine function between two values `x1` and `x2`.\n",
    "You should do this by diving the interval into `NN` subintervals equally spaced\n",
    "by a quantity `deltaX` of your choice. Then calculate the value of the function \n",
    "at each point and sum it up (basically, use the definition of the Riemann integral)\n",
    "\n",
    "In doing this, you should use numpy arrays and functions. This can be coded in less then\n",
    "3 lines or even less (in between the def and return ones)...\n",
    "\n",
    "You should run the next cell using some value of your choice for `x1` and `x2` and see if \n",
    "the result is indeed what you expect.\n",
    "\n"
   ]
  },
  {
   "cell_type": "code",
   "execution_count": null,
   "metadata": {},
   "outputs": [],
   "source": [
    "def integrateSine( x1, x2, deltaX ):\n",
    "    #write your code here\n",
    "    return integral"
   ]
  },
  {
   "cell_type": "code",
   "execution_count": null,
   "metadata": {},
   "outputs": [],
   "source": [
    "# Substitute x1 and x2 and check here if you get\n",
    "integral = integrateSine( x1 = 0, x2 = np.pi, 0.0001 )\n",
    "print( integral )"
   ]
  },
  {
   "cell_type": "markdown",
   "metadata": {},
   "source": [
    "**More advanced exercise**\n",
    "\n",
    "The function `np.random.rand( NN )` returns `NN` random value between 0 and 1. You should use it to calculate the value of $\\pi$ numerically using the following Monte Carlo algorithm coded in a function using numpy arrays.\n",
    "1. Generate two lists each with `NN` random numbers between 0 and 1. These lists correspond to the x and y coordinate of a point.\n",
    "2. Transform these coordinates so that each x and y value is still random but between -1 and 1\n",
    "3. Check the distance of each point from the origin in (0,0). If it is larger than 1, discard the point. \n",
    "4. Your approximate value for $\\pi$ is the fraction of points which were NOT discarded by the in the previous procedure, multiplied by 4.\n",
    "\n",
    "Why? Take a circle of radius 1, you can inscribe it into a square of length 2. The value of \n",
    "the area of the circle will be $\\pi$. The value of the area of the square is 4. The fraction of the \n",
    "points that are closer to the origin than 1 to the total number of points is equal to the ratio between the two areas\n"
   ]
  },
  {
   "cell_type": "code",
   "execution_count": null,
   "metadata": {},
   "outputs": [],
   "source": [
    "def calculatePi( NN ):\n",
    "    #write your code here\n",
    "    return estimate"
   ]
  },
  {
   "cell_type": "code",
   "execution_count": null,
   "metadata": {},
   "outputs": [],
   "source": [
    "# Run the previous function to calculate the value of Pi using different \n",
    "# number of points\n",
    "\n",
    "print( \"Pi using 10^2 points {0}\".format( calculatePi( 100 ) ) )\n",
    "print( \"Pi using 10^3 points {0}\".format( calculatePi( 1000 ) ) )\n",
    "print( \"Pi using 10^4 points {0}\".format( calculatePi( 10000 ) ) )\n",
    "print( \"Pi using 10^5 points {0}\".format( calculatePi( 100000 ) ) )"
   ]
  },
  {
   "cell_type": "markdown",
   "metadata": {},
   "source": [
    "Define two functions. The first `funL` assumes the input as Python lists of equal length. \n",
    "It should first take the element by element product of the two lists. \n",
    "If this value is bigger than 0, it takes the square root and sum this number to a counter. Finally, the function returns the value of the counter once all elements have been considered.\n",
    "\n",
    "The second, `funA` function should do the same, but assume Python arrays are given. It should not use any loop and be written as a single line of code between the lines starting with `def` and `return` lines.\n"
   ]
  },
  {
   "cell_type": "code",
   "execution_count": null,
   "metadata": {},
   "outputs": [],
   "source": [
    "\n",
    "def funL( l1, l2 ):\n",
    "    #write your code here\n",
    "    return counter\n",
    "\n",
    "def funA( l1, l2 ):\n",
    "    #write your code here....Just one line needed!\n",
    "    return counter   "
   ]
  },
  {
   "cell_type": "code",
   "execution_count": null,
   "metadata": {},
   "outputs": [],
   "source": [
    "# The following command generates two lists of random numbers. Running this cell \n",
    "# if your previous code is correct should print the same value twice\n",
    "NN = 10000\n",
    "x1 = list( np.random.rand( NN ) )\n",
    "x2 = list( np.random.rand( NN ) )\n",
    "\n",
    "# With lists\n",
    "tot = funL( x1, x2 )\n",
    "\n",
    "print( tot )\n",
    "# With equivalent numpy arrays \n",
    "ar1 = np.array( x1 )\n",
    "ar2 = np.array( x2 )\n",
    "tot = funA( ar1, ar2 )\n",
    "\n",
    "print( tot )"
   ]
  },
  {
   "cell_type": "markdown",
   "metadata": {},
   "source": [
    "In the file `data.txt` provided in the folder (which should be downloaded in the same folder as \n",
    "this Jupyter notebook to work!) we can see a time series of electric currents measured during \n",
    "an experiment on a battery as a set of `( t, I(t))` pairs, where `t` is time and `I(t)` the current measured at \n",
    "that time. If you open the file, you will see that the time values are basically random.  \n",
    "\n",
    "Making use of masked arrays (so without using the `np.sort(x)` function or ordering the arrays!) write a function that make a plot where all the data gathered before a certain critical time `tcritical` are represented as a blue point, and all the other using a green point.\n",
    "\n",
    "**A couple of notes / hints**  \n",
    "\n",
    "1. `np.logical_not( x )` returns False if x is True, and True if x is False\n",
    "\n",
    "2. You need to load the pylab package...it can be done (as you should know already!) by from matplotlib import pylab as plt \n",
    "and then using the `plt.plot()` function."
   ]
  },
  {
   "cell_type": "code",
   "execution_count": null,
   "metadata": {},
   "outputs": [],
   "source": [
    "import numpy.ma as ma\n",
    "from matplotlib import pylab as plt\n",
    "\n",
    "data = np.loadtxt( \"data.txt\", skiprows = 1 )\n",
    "\n",
    "def plotData( data, tcritical ):\n",
    "    #write your code here\n",
    "    return \n",
    "\n",
    "tcritical = 10\n",
    "print( plotData( data, tcritical ) )\n",
    "    \n"
   ]
  },
  {
   "cell_type": "markdown",
   "metadata": {},
   "source": [
    "**More advanced exercise**\n",
    "\n",
    "Write a program that takes as input an array of zeros and ones, and generate a new array following these steps:\n",
    "\n",
    "1. For all points except the first and last, look at the neighbouring points in the array and does the following: if both of the neighbours is 1, set the value of the array to 1, otherwise leave the value as it is.\n",
    "2. Recursively apply the previous step for NN steps and record the average and standard deviation of the array values as a function of the number of iteration.\n",
    "\n",
    "Use the values recorded to make a plot of as a function of the number of iterations. What do you see? What is the effect of the fixed values (if any)?\n",
    "\n",
    "**Variant**: instead of the rule in step 1, set an array element to 1 if any of its neighbours are 1 and 0 otherwise. What do you observe here?\n",
    "\n"
   ]
  },
  {
   "cell_type": "code",
   "execution_count": null,
   "metadata": {},
   "outputs": [],
   "source": []
  }
 ],
 "metadata": {
  "kernelspec": {
   "display_name": "Python 3",
   "language": "python",
   "name": "python3"
  },
  "language_info": {
   "codemirror_mode": {
    "name": "ipython",
    "version": 3
   },
   "file_extension": ".py",
   "mimetype": "text/x-python",
   "name": "python",
   "nbconvert_exporter": "python",
   "pygments_lexer": "ipython3",
   "version": "3.7.2"
  }
 },
 "nbformat": 4,
 "nbformat_minor": 2
}
