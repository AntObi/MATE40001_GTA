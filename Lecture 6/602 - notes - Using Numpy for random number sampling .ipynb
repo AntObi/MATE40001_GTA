{
 "cells": [
  {
   "cell_type": "markdown",
   "metadata": {},
   "source": [
    "## Generating sequences of (pseudo-) random numbers with Numpy\n",
    "\n",
    "Let us now take a quick look at an important sub-package inside Numpy, the\n",
    "\".random\" library. This library contains a large set of functions to generate (sequences of) 'random' numbers in different ways and following different probability distributions. To be more correct, these sequences should be referred to as \"pseudo-random\" numbers. Check this [link](https://en.wikipedia.org/wiki/Pseudorandom_number_generator) to see an exact definition.  \n",
    "If you want to know why we need to generate random numbers at all, it is because they are the basis of a large class of important computational techniques broadly referred to with the suggestive name ***Monte Carlo Simulations***, part of an even larger class of simulations based on the use of random distributions called ***Stochastic simulations***. These type of simulations allows us to study a huge variety of (natural) phenomena, from the way nanoparticles or proteins self-assemble into larger structures to the way alloys re-organise during a temperature treatment, or to study how birds move in a flock or bacterial colonies grows in a certain environment. However, they are not limited to natural phenomena and in fact stochastic / Monte Carlo simulations are routinarily used to calculate very complex multi-dimensional integrals, or modelling the stock market, among other things. In all these simulations, generating random numbers in the correct way is **crucial**.  \n",
    "\n",
    "To make you better understand (hopefully!) I will try to provide a little background and practical examples. In practice, we want to answer the question: *What does it mean to return a random number from a certain probability distribution*?  \n",
    "First of all, let us notice that a probability distribution is a function that assigns to any number the probability to extract it, following a certain formula. For a *discrete* distribution (where the outcome of this random selection is a finite set of values) saying the random element `I` is extracted from the distribution `P( I = i; {q} )` (where `{q} = {q1, q2, ..., qN}` are N parameters characterising the distribution), means that, if you extract a large number of values, the *fraction of times* `I` is equal to \"i\" converges to P(i).  \n",
    "Be careful: each time you extract the element from the distribution its value will be randomly chosen, but when you choose a large sample, the exact value `i` will be chosen a fraction of times that *tends to* P(i) (when the number of extractions goes to infinity).  \n",
    "Take for example a typical (cubic) dice with 6 faces. The probability distribution is `P( I = i )` is `1/6` if `i` is any of the numbers `[1,2,3,4,5,6]`, and zero otherwise.  \n",
    "\n",
    "For a *continuous* distribution, things are somewhat similar. Saying the number `X` is extracted from `P(x)` means\n",
    "that the probability to obtain a value between `x` and `x+dx` converges to `P(x)dx`, again when you extract a large number of values. The Gaussian probability distribution is the one you are probably already familiar with among continuous distributions. Note that in this case it does not make sense to ask \"how many times will I get exactly the value x\", but you can ask \"how many times I will get a number in a certain interval around the value x\". You might want to have a look at [this wikipedia page](https://en.wikipedia.org/wiki/Probability_distribution#Discrete_probability_distribution) to get more comfortable with these concepts (and for a more formal defintion), although running a few examples is probably a more pragmatic way to procede for what we need here.\n",
    "\n",
    "Before we go on, however, let me be pedantic and reiterate once again one very important fact about random number generators and the sequences that are output from them: **each time you call a random number generator the sequence of number will be different** and the **exact sequence itself does not really have any meaning**. It is its average behaviour when a long sequence is generated (or over a large number of sequences) that matters!\n",
    "\n",
    "Let us now take a practical approach and have a look at a selected few but very important functions inside the `random` package of Numpy. As usual, if you want to know more, you can look at the specific [documentation of the random package here](https://numpy.org/doc/stable/reference/random/index.html?highlight=random#module-numpy.random) and in particular the random [number generator section](https://numpy.org/doc/stable/reference/random/generator.html#numpy.random.Generator) to unload its full capabilities!\n",
    "\n",
    "First, run the next cell to load the `.random` subpackage of the numpy library."
   ]
  },
  {
   "cell_type": "code",
   "execution_count": 2,
   "metadata": {},
   "outputs": [],
   "source": [
    "from numpy import random as rnd"
   ]
  },
  {
   "cell_type": "markdown",
   "metadata": {},
   "source": [
    "### The `.randint` function\n",
    "\n",
    "```Python\n",
    ".randint( nmin, nmax, nSamples ) \n",
    "```\n",
    "\n",
    "returns an array of `nSamples` integer random number with equal probability between `nmin` (included) and `nmax` (excluded). In other words, each number between `nmin` and `nmax` is extracted with the same probability of `P = 1 / (nmax - nmin)`. Note that if a single argument is given, this is intepreted as `.randint( 0, nmax, 1)` and if two arguments only are given, this is intepreted as `.randint( nmin, nmax, 1)`.  \n",
    "\n",
    "Play a little around by modifying and running the cell below with different values of `nmin`, `nmax` and `nsamples` to convince yourself. Also, notice how the probability to obtain a certain value converges to the right probability.\n"
   ]
  },
  {
   "cell_type": "code",
   "execution_count": 7,
   "metadata": {},
   "outputs": [
    {
     "name": "stdout",
     "output_type": "stream",
     "text": [
      "Are all elements of a and b the same? False\n",
      "List a, Element 1 Probability 0.4952\n",
      "List a, Element 2 Probability 0.5048\n",
      "List b, Element  1 Probability 0.4982\n",
      "List b, Element  2 Probability 0.5018\n"
     ]
    }
   ],
   "source": [
    "nmin = 1\n",
    "nmax = 3\n",
    "nsamples = 20000\n",
    "a = rnd.randint(nmin,nmax,nsamples)\n",
    "b = rnd.randint(nmin,nmax,nsamples)\n",
    "#print(a)\n",
    "#print(b)\n",
    "print( \"Are all elements of a and b the same?\", ( a == b ).all() ) # Here we compare whether the two sequences are the same...\n",
    "a = list(a)\n",
    "\n",
    "for i in range( nmin, nmax ):\n",
    "    print( \"List a, Element\", i, \"Probability\", a.count(i) / len(a) )\n",
    "\n",
    "b = list(b)\n",
    "for i in range( nmin, nmax ):\n",
    "    print( \"List b, Element \", i, \"Probability\", b.count(i) / len(b) )\n",
    "\n",
    "    "
   ]
  },
  {
   "cell_type": "markdown",
   "metadata": {},
   "source": [
    "### The `.rand` function\n",
    "\n",
    "```Python\n",
    ".rand( n1, n2 ) \n",
    "```\n",
    " \n",
    "returns a 2D array of `n1 x n2` elements where each entry is a random number chosen with the same probability (also called a \"flat probability\" in jargon) from the interval `[0,1]`. In practice, this is a flat, continuous probability distribution defined as `P( X = c ) = {0, if c < 0 or c > 1; 1 otherwise }` and it is basically the equivalent of the \".randint\" function but for a continuous distribution. Note that `np.random.rand( n1 )` is equivalent to np.random.rand( n1, 1 ). Have a look at what happen running the cell below:"
   ]
  },
  {
   "cell_type": "code",
   "execution_count": 8,
   "metadata": {},
   "outputs": [
    {
     "name": "stdout",
     "output_type": "stream",
     "text": [
      "np.random.rand( n2, n2 )\n",
      "[[0.3280316  0.86427678]\n",
      " [0.94929551 0.83536211]]\n",
      "np.random.rand( n1, n2 )\n",
      "[[0.0130332  0.72749059]\n",
      " [0.62311661 0.64393501]\n",
      " [0.97500198 0.25629124]]\n",
      "np.random.rand( n2, n1 )\n",
      "[[0.87225593 0.55770469 0.4649467 ]\n",
      " [0.17205619 0.80778139 0.45699206]]\n",
      "np.random.rand( n1 )\n",
      "[0.71525026 0.6485574  0.58347771]\n"
     ]
    }
   ],
   "source": [
    "n1 = 3\n",
    "n2 = 2\n",
    "print(\"np.random.rand( n2, n2 )\")\n",
    "a = rnd.rand( n2, n2 )\n",
    "print(a)\n",
    "print(\"np.random.rand( n1, n2 )\")\n",
    "a = rnd.rand( n1, n2 )\n",
    "print(a)\n",
    "print(\"np.random.rand( n2, n1 )\")\n",
    "a = rnd.rand( n2, n1 )\n",
    "print(a)\n",
    "print(\"np.random.rand( n1 )\")\n",
    "a = rnd.rand( n1 )\n",
    "print(a)"
   ]
  },
  {
   "cell_type": "markdown",
   "metadata": {},
   "source": [
    "### Transforming between different probability distributions\n",
    "\n",
    "There is actually a formal mathematical procedure to map one probability distribution onto another based on the definition of integrals.  More precisely, the idea is to answer the general question: if I know how to generate a random variable x with probability P(x), how will the values of a function f(x) be distributed (what is the probability function P(f)? \n",
    "\n",
    "We will not indulge on the general question here, although you should definitely check [this link](https://www.cl.cam.ac.uk/teaching/2003/Probability/prob11.pdf) if interested, it is very well written and it is relatively simple math! Instead, because of its importance for practical applications, we will try to answer the related (and much simpler) question: What if you wanted to extract a random number with a flat probability distribution from the interval `[nmin,nmax]` rather than `[0,1]`? \n",
    "\n",
    "The answer to the previous question is based on the idea of rescaling and shifting the interval, which can be implemented using the following algorithm (implemented in the cell below):\n",
    "1. Extract a random number X from `[0,1]`\n",
    "2. Multiply this number by (nmax - nmin). At this point, you obtain a number X' randomly distributed in the interval `[0,nmax-nmin]`.\n",
    "3. Add `nmin` to X'. You obtain a number X'' randomly distributed between `[nmin,nmax]`\n",
    "\n",
    "To see that this procedure works, one way is to visualise its outcome. In general, for visualising probability distributions (in 1D) a quick graphical way is to plot the histogram of the obtained values with the function:\n",
    "\n",
    "```Python\n",
    "matplotlib.pyplot.hist([array of random numbers], bins = N, density = True )\n",
    "```\n",
    "\n",
    "from the `pyplot` package of the `matplotlib` library in Python (we have used it before to plot graphs!), see the full documentation [here](https://matplotlib.org/3.3.2/api/_as_gen/matplotlib.pyplot.hist.html). Basically, this function takes a list of randomly generated numbers and puts them into `N` bins of equal width, then returns an histogram where the height of each bin is proportional to the number of times a randomly generated number from the list ended up in that bin. More precisely, the height of the histogram is the value of the associated  probability distribution function, properly normalised so that the total probability sums up to the value of 1 when one considers all the possible bins.  \n",
    "Have a look at the example below to see!"
   ]
  },
  {
   "cell_type": "code",
   "execution_count": 9,
   "metadata": {},
   "outputs": [
    {
     "name": "stdout",
     "output_type": "stream",
     "text": [
      "With 10^3 random values\n"
     ]
    },
    {
     "data": {
      "image/png": "[encoded data removed]",
      "text/plain": [
       "<Figure size 432x288 with 1 Axes>"
      ]
     },
     "metadata": {
      "needs_background": "light"
     },
     "output_type": "display_data"
    },
    {
     "name": "stdout",
     "output_type": "stream",
     "text": [
      "With 10^5 random values\n"
     ]
    },
    {
     "data": {
      "image/png": "[encoded data removed]",
      "text/plain": [
       "<Figure size 432x288 with 1 Axes>"
      ]
     },
     "metadata": {
      "needs_background": "light"
     },
     "output_type": "display_data"
    },
    {
     "name": "stdout",
     "output_type": "stream",
     "text": [
      "With 10^5 random values and scaling to obtain in the interval [20,100]\n"
     ]
    },
    {
     "data": {
      "image/png": "[encoded data removed]",
      "text/plain": [
       "<Figure size 432x288 with 1 Axes>"
      ]
     },
     "metadata": {
      "needs_background": "light"
     },
     "output_type": "display_data"
    }
   ],
   "source": [
    "from matplotlib import pyplot as plt\n",
    "\n",
    "nValues1 = 1000\n",
    "nValues2 = 10000\n",
    "nValues3 = 100000\n",
    "nBins = 30\n",
    "nmin = 20\n",
    "nmax = 100\n",
    "ar1 = rnd.rand( nValues1 )\n",
    "ar2 = rnd.rand( nValues3 )\n",
    "ar3 = rnd.rand( nValues3 ) * (nmax-nmin) + nmin\n",
    "plt.xlabel = 'X'\n",
    "plt.ylabel = 'P(X)'\n",
    "print('With 10^3 random values')\n",
    "plt.hist(ar1, bins = nBins, density = True )\n",
    "plt.show()\n",
    "print('With 10^5 random values')\n",
    "plt.hist(ar2, bins = nBins, density = True )\n",
    "plt.show()\n",
    "print('With 10^5 random values and scaling to obtain in the interval [20,100]')\n",
    "plt.hist(ar3, bins = nBins, density = True )\n",
    "plt.show()"
   ]
  },
  {
   "cell_type": "markdown",
   "metadata": {},
   "source": [
    "### Extracting numbers from a list of possible values: the `.choice` function\n",
    "\n",
    "If you want to extract elements from a pre-defined list of potential values (they need not be numbers, it can be, for example, a list of strings, or truly any object you want!), then the `.choice()` function is what you need. Its general syntax is:\n",
    "\n",
    "```Python\n",
    ".choice( a, size=None, replace=True, p=None)\n",
    "```\n",
    "\n",
    "where `a` must be your list of potential values and `size` is the number of random elements to generate from that list. The boolean `replace` is `True` if every time you choose an element from the same initial list `a`, whereas you should set it to `False` if you want to remove the value from the list `a` once it is extracted. Finally, `p` is a list (of the same length of `a`) that specifies the probability to pick a specific element in `a`. More precisely, `p[i]` gives you the probability to pick the element `a[i]`. Note that for this reason the sum of all values in `p` **must** be equal to 1 (or Python will throw an Error message!). By default, if no value is given for `p` it is assumed that each number in `a` can be extracted with the same flat probability `(1/len(a))`. \n",
    "\n",
    "Have a look at the example below, and play around with the values to see what happens!"
   ]
  },
  {
   "cell_type": "code",
   "execution_count": 10,
   "metadata": {},
   "outputs": [
    {
     "name": "stdout",
     "output_type": "stream",
     "text": [
      "Value of the p array: [0.5, 0.5, 0.0]. Note that \"c\" is never extracted because it has probability 0!\n",
      "['a' 'b' 'a' 'b' 'b' 'b' 'a' 'b' 'b' 'a' 'a' 'b' 'b' 'a' 'b' 'a' 'a' 'a'\n",
      " 'b' 'b' 'a' 'b' 'b' 'a' 'b' 'a' 'a' 'b' 'a' 'b' 'a' 'a' 'a' 'a' 'b' 'b'\n",
      " 'b' 'b' 'a' 'a' 'a' 'a' 'b' 'a' 'a' 'a' 'a' 'a' 'b' 'b' 'b' 'a' 'b' 'a'\n",
      " 'a' 'a' 'a' 'a' 'a' 'a' 'a' 'a' 'a' 'a' 'a' 'b' 'a' 'a' 'b' 'b' 'b' 'b'\n",
      " 'b' 'a' 'a' 'a' 'a' 'a' 'b' 'b' 'b' 'b' 'a' 'b' 'b' 'b' 'a' 'a' 'b' 'a'\n",
      " 'a' 'a' 'a' 'a' 'a' 'a' 'a' 'a' 'b' 'a' 'a' 'a' 'b' 'b' 'b' 'b' 'a' 'a'\n",
      " 'a' 'a' 'a' 'b' 'b' 'b' 'a' 'a' 'a' 'a' 'a' 'b' 'b' 'a' 'b' 'b' 'a' 'a'\n",
      " 'a' 'b' 'b' 'a' 'b' 'b' 'b' 'a' 'b' 'b' 'b' 'a' 'b' 'a' 'b' 'a' 'a' 'a'\n",
      " 'a' 'a' 'b' 'b' 'a' 'a' 'a' 'a' 'b' 'b' 'b' 'b' 'b' 'a' 'a' 'b' 'b' 'b'\n",
      " 'a' 'b' 'b' 'b' 'a' 'b' 'b' 'b' 'b' 'b' 'b' 'b' 'a' 'a' 'b' 'b' 'b' 'b'\n",
      " 'a' 'b' 'b' 'b' 'a' 'a' 'a' 'b' 'a' 'a' 'b' 'b' 'a' 'a' 'b' 'a' 'a' 'b'\n",
      " 'b' 'b']\n",
      "Element a Frequency 0.525\n",
      "Element b Frequency 0.475\n",
      "Element c Frequency 0.0\n"
     ]
    }
   ],
   "source": [
    "mySize = 200\n",
    "list1 = [\"a\",\"b\",\"c\"]\n",
    "myP = [ 0.5, 0.5, 0.0 ]\n",
    "print('Value of the p array: {0}. Note that \"c\" is never extracted because it has probability 0!'.format(myP) )\n",
    "a = rnd.choice( list1, size = mySize, replace = True, p = myP )\n",
    "print(a)\n",
    "a = list(a)\n",
    "for i in list1:\n",
    "    print( \"Element\", i, \"Frequency\", a.count(i) / len(a) )"
   ]
  },
  {
   "cell_type": "markdown",
   "metadata": {},
   "source": [
    "### Other general probability distribution functions\n",
    "\n",
    "Besides the flat one (provided by the `.rand()` function), Numpy has a wide range of continuous probability distributions to pick from, whose use depends on the specific phenomena to simulate. The complete list can be found at the bottom of [this page](https://numpy.org/doc/stable/reference/random/generator.html#numpy.random.Generator).  \n",
    "\n",
    "Here we only have a look at probably the most important one, or, better said, the most used in practical applications, the **gaussian distribution** defined as:\n",
    "\n",
    "$G( x; \\mu, \\sigma ) = \\frac{1}{\\sqrt{2\\pi \\sigma^2}} e^{-\\frac{(x-\\mu)^2}{2\\sigma^2}}$\n",
    "\n",
    "This is found in the `.random` subpackage as:\n",
    "\n",
    "'''Python\n",
    ".normal( loc = 0, scale = 1.0, size = None )\n",
    "'''\n",
    "\n",
    "where `loc` ($\\mu$ in the formula above) is the mean of the Gaussian distribution and `scale` ( = $\\sigma$) its standard deviation. `size` specifies the number of random numbers to be extracted from the distribution, which are then return as a 1D array of size `size`. If instead `size = (n1,n2)` a `n1 x n2` 2D array is returned. Have a look at the next example to see what happens!\n",
    "\n",
    "**Important reminder**: the mean and standard deviation of any given sequence will converge to the provided input parameter value for an infinite sequence of random numbers extracted. However, each time for a finite sequences of values you will obtain a different result!"
   ]
  },
  {
   "cell_type": "code",
   "execution_count": 11,
   "metadata": {},
   "outputs": [
    {
     "name": "stdout",
     "output_type": "stream",
     "text": [
      "a is\n",
      "[ 0.18455015  1.62355291 -0.53814879  0.04541567  0.70942174 -1.00180773\n",
      "  0.8028076   0.6886736  -0.28392564 -0.82931149]\n",
      "The mean is\n",
      "0.14012280221163723\n",
      "The standard deviation is\n",
      "0.7848150182601711\n",
      "======================================\n",
      "======================================\n",
      "a is\n",
      "[-1.24095476 -1.4773069  -0.39912269 -0.59874402 -2.77213513  0.18001652\n",
      " -0.2966719   0.8365429  -0.13686951  1.63136748  1.25828598 -0.47428697\n",
      "  1.27456043  1.6304108   0.44607246  0.01798872 -0.63557618 -0.81573632\n",
      "  0.63293907  0.0108417  -0.03144447 -0.56378979  1.61749912  0.45383225\n",
      "  0.8232091  -1.81046934 -0.93120732 -1.77860889  0.17969143 -0.51138332\n",
      "  0.18189919  1.05198334  0.46472978 -0.16493729  0.12320194  0.03511745\n",
      " -0.98813357  1.037047    0.30302984  0.34826304  1.44417628 -0.37241484\n",
      "  1.14847316 -0.17570014  1.41989074  1.00077597 -0.0368446   0.29967888\n",
      " -0.08918619 -0.94097842  0.28757198  0.02917932  0.1660439   1.70097252\n",
      " -0.17697837  0.10844274  1.44776773 -0.7851891  -1.03915683  0.83542675\n",
      " -0.39374278  0.66461405 -1.70248321  0.19994337  2.39385371 -0.37296448\n",
      "  0.36092995 -2.02855992  0.92698627  0.77199797  1.41134417 -0.07255394\n",
      " -2.0596187  -1.16653407 -2.10809914 -1.44617167  0.86146988 -1.55246442\n",
      " -1.13605307 -1.50883593  0.12782591  0.02745585  2.27125075  1.19901125\n",
      " -0.52360892 -0.20522369 -0.83807542  1.46504276 -0.37899826  0.17511396\n",
      " -2.17923968  0.4309215  -1.20120093 -0.85240259  1.19395073  0.937533\n",
      "  0.62896643  1.03841724  0.33944562  0.27265595]\n",
      "The mean is\n",
      "0.01155002122159286\n",
      "The standard deviation is\n",
      "1.0505097371298944\n",
      "======================================\n",
      "======================================\n",
      "Increasing the sequence length to 10000 elements (not visualised). Now the mean is\n",
      "0.004236320392160066\n",
      "The standard deviation is\n",
      "1.0080855424567747\n",
      "======================================\n",
      "======================================\n",
      "This is an example with a 2D array\n",
      "[[ 0.74576726  1.51932877  0.11918478  0.23465724  0.53008462]\n",
      " [-0.77230221  0.07482002  0.42981322 -0.02546398 -0.93285721]\n",
      " [-0.18347054  2.27755385 -0.94810031 -0.11560877 -0.24939314]\n",
      " [ 0.99341118  0.12052759 -1.93763457 -0.28241822 -0.04303459]\n",
      " [ 0.98655123 -0.48170467 -0.57811893 -0.04476718  0.5217282 ]]\n",
      "The mean is\n",
      "0.07834214615297133\n",
      "The standard deviation is\n",
      "0.8382257413914991\n"
     ]
    }
   ],
   "source": [
    "nValues1 = 10\n",
    "nValues2 = 10**2\n",
    "nValues3 = 10**4\n",
    "\n",
    "a = rnd.normal(0,1,nValues1)\n",
    "print(\"a is\")\n",
    "print(a)\n",
    "print(\"The mean is\")\n",
    "print( a.mean() )\n",
    "print(\"The standard deviation is\")\n",
    "print(a.std() )\n",
    "\n",
    "print(\"======================================\")\n",
    "print(\"======================================\")\n",
    "a = rnd.normal(0,1,nValues2)\n",
    "print(\"a is\")\n",
    "print(a)\n",
    "print(\"The mean is\")\n",
    "print( a.mean() )\n",
    "print(\"The standard deviation is\")\n",
    "print(a.std() )\n",
    "\n",
    "print(\"======================================\")\n",
    "print(\"======================================\")\n",
    "a = rnd.normal(0,1,nValues3)\n",
    "print(\"Increasing the sequence length to {0} elements (not visualised). Now the mean is\".format(nValues3))\n",
    "print( a.mean() )\n",
    "print(\"The standard deviation is\")\n",
    "print(a.std() )\n",
    "\n",
    "print(\"======================================\")\n",
    "print(\"======================================\")\n",
    "a = rnd.normal(0,1,(5,5))\n",
    "print(\"This is an example with a 2D array\")\n",
    "print(a)\n",
    "print(\"The mean is\")\n",
    "print( a.mean() )\n",
    "print(\"The standard deviation is\")\n",
    "print(a.std() )\n",
    "\n"
   ]
  },
  {
   "cell_type": "markdown",
   "metadata": {},
   "source": [
    "You might want to write a piece of code below and use histograms to plot the arrays of Gaussian numbers above, to see if it indeed looks like what you expect!"
   ]
  },
  {
   "cell_type": "code",
   "execution_count": null,
   "metadata": {},
   "outputs": [],
   "source": [
    "# Your code here"
   ]
  }
 ],
 "metadata": {
  "kernelspec": {
   "display_name": "Python 3",
   "language": "python",
   "name": "python3"
  },
  "language_info": {
   "codemirror_mode": {
    "name": "ipython",
    "version": 3
   },
   "file_extension": ".py",
   "mimetype": "text/x-python",
   "name": "python",
   "nbconvert_exporter": "python",
   "pygments_lexer": "ipython3",
   "version": "3.8.3"
  }
 },
 "nbformat": 4,
 "nbformat_minor": 4
}
