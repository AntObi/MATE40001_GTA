{
 "cells": [
  {
   "cell_type": "markdown",
   "metadata": {},
   "source": [
    "## Multi-dimensional numpy arrays\n",
    "\n",
    "Numpy arrays are not limited to one-dimensional arrays like those we have previously seen. In fact, various applications requires 2D or 3D arrays. Imagine wanting to provide the information about the intensity of pixels in a 2D black and white imageflat image, for example (this could be necessary to feed it to a Deep Neural Network for Machine Learning to recognise what the image corresponds to). In this case, you will need a 2D array where each element `pixel[i,j]` corresponds to the intensity of the pixel at position (i,j). In 3D rather than for a flat image, this would require a 3D array instead. If you wanted to provide the same information in time, you could do that with a 4D array...and so on.\n",
    "\n",
    "In these notes, we will have a look at the most common functions provided by the Numpy library for the manipulation of these arrays, trying to take a pragmatic approach based on examples. As usual, you will need to run the cell below to load the Numpy library, which will be required for the following part."
   ]
  },
  {
   "cell_type": "code",
   "execution_count": null,
   "metadata": {},
   "outputs": [],
   "source": [
    "import numpy as np"
   ]
  },
  {
   "cell_type": "markdown",
   "metadata": {},
   "source": [
    "### Declaring (instantiating) a multi-dimensional array\n",
    "\n",
    "Last time, we have seen an array declaration of the form: \n",
    "\n",
    "```Python\n",
    "myArray = np.array( [ sequence_Of_Numbers ] )\n",
    "```\n",
    "\n",
    "and we made it looked like arrays are just 1D (one-dimensional) strings of elements (1D in the sense that each element can be specified by a single index). However, numpy arrays are much more general and can contain arrays of multiple dimensions. In fact, numpy arrays can be declared with an **arbitrary number of dimensions**, the only limitation being that of the memory they require to store them (*think*: this memory grows exponentially with the dimensionality of the array!).  \n",
    "\n",
    "The declaration of a multi-dimensional array can be done very similarly to what one does with 1D array. In fact, one can call the `np.zeros` or `np.ones` functions of Numpy, which we have previously used to declare 1D arrays filled with zeros or ones in the following way:\n",
    "\n",
    "```Python\n",
    "myArray = np.zeros( ( length_of_dimension1, length_of_dimension2, ... ) )\n",
    "```\n",
    "\n",
    "```Python\n",
    "myArray = np.ones(  ( length_of_dimension1, length_of_dimension2, ... ) )\n",
    "```\n",
    "\n",
    "As usual, a few examples might be more illustrative. Look at the array printed below by running the following cells."
   ]
  },
  {
   "cell_type": "code",
   "execution_count": null,
   "metadata": {},
   "outputs": [],
   "source": [
    "a = np.zeros( ( 3, 2 ) ) # Note the DOUBLE parentheses. It is NOT np.zeros(3,2)!\n",
    "b = np.ones( ( 4, 3 ) ) \n",
    "c = np.array( [ [0,0], [0,0], [0,0] ], dtype = 'float' ) \n",
    "d = np.array( [ [1,1,1], [1,1,1], [1,1,1], [1,1,1] ], dtype = 'float' ) \n",
    "print( 'Array a {0}'.format(a) )\n",
    "print( 'Array b {0}'.format(b) )\n",
    "print( 'Array c {0}'.format(c) )\n",
    "print( 'Array d {0}'.format(d) )"
   ]
  },
  {
   "cell_type": "markdown",
   "metadata": {},
   "source": [
    "We can also input the array using another declaration previously seen for 1D arrays, where we convert a list into an array. However, this time we need to input a \"list of lists\" (where each of these lists must have the same number of elements). In this case, the main index of the list (that runs over its elements, i.e. the sublists) is the first index of the array, the second index (that runs over the elements inside a sublist) is the second index of the \n",
    "array and so on. It should be almost intuitive and probably easier to show using a couple of examples! Run the cells below and observe what happens."
   ]
  },
  {
   "cell_type": "code",
   "execution_count": null,
   "metadata": {},
   "outputs": [],
   "source": [
    "l1 = [ [ 1,2,3 ], [ 4,5,6 ], [7,8,9] ]\n",
    "l2 = [ [ 1,2,0 ], [ 24,21,100 ], [ 90,10,100 ] ]\n",
    "print(\"a is:\")\n",
    "a = np.array( l1 )\n",
    "print(a)\n",
    "i = 1\n",
    "j = 2\n",
    "print(\"Element a[{0},{1}] is: {2}\".format( i, j, a[ i, j ] ) )\n",
    "\n",
    "print(\"b is:\")\n",
    "b = np.array( l2 )\n",
    "print(b)\n",
    "i = 0\n",
    "j = 0\n",
    "print(\"Element b[{0},{1}] is: {2}\".format( i, j, b[ i, j ] ) )"
   ]
  },
  {
   "cell_type": "markdown",
   "metadata": {},
   "source": [
    "### Retrieving values and slicing\n",
    "\n",
    "If you want to retrieve the value of the element at position (i,j,..,..,z) in the array (again, one index for each dimension!), you can do it similarly to what you would do for a list, with two equivalent declarations, either:\n",
    "\n",
    "```Python\n",
    "value = arrayName[ i, j ]\n",
    "```\n",
    "\n",
    "or\n",
    "\n",
    "```Python\n",
    "value = arrayName[ i ][ j ]\n",
    "```\n",
    "\n",
    "Read and run this cell to convince yourself!"
   ]
  },
  {
   "cell_type": "code",
   "execution_count": null,
   "metadata": {},
   "outputs": [],
   "source": [
    "l1 = [ [ 1,2,3 ], [ 4,5,6 ], [7,8,9] ]\n",
    "print(\"a is:\")\n",
    "a = np.array( l1 )\n",
    "print(a)\n",
    "i = 1\n",
    "j = 2\n",
    "methodOne = a[ i, j ]\n",
    "methodTwo = a[ i ][ j ]\n",
    "print(\"Element a[{0},{1}] is: {2}\".format( i, j, methodOne ) )\n",
    "print(\"Element a[{0}][{1}] is: {2}\".format( i, j, methodTwo ) )"
   ]
  },
  {
   "cell_type": "markdown",
   "metadata": {},
   "source": [
    "Also in the same way that you do with lists, you can call an entire row or column (or a part of an array if you are more than in 2D!). If `myArray` is a 2D array, then `myArray[i]` (or, equivalently, `myArray[i][:]` or `myArray[i,:]` is the i-th row in the array. \n",
    "\n",
    "Similarly, but not exactly in the same way `myArray[:,i]` is the i-th column. However, in this case you cannot use the declaration `myArray[:][i]`. This latter declaration in Python turns out to be equivalent to `myArray[i]` (or `myArray[i][:]`) rather than `myArray[:, i]`. The reason, in all honesty, is because of a somewhat arbitrary choice of the developers of numpy.\n",
    "\n",
    "Another important thing to notice is that, **with the rightmost index only** (so the index `j` in `a[i,j]`, or the index `k` in `a[i,j,k]`, and so on), you can use slicing techniques, exactly as you used in lists. This is more easily shown than explained it in writing in an abstract way. You can play around by changing and running the next three cells to see a few examples. Change the indices and see what is printed out (but first, always think about what you would expect and write it down for comparison)!"
   ]
  },
  {
   "cell_type": "code",
   "execution_count": null,
   "metadata": {},
   "outputs": [],
   "source": [
    "l1 = [ [ 1,2,3 ], [ 4,5,6 ], [7,8,9] ]\n",
    "print(\"a is:\")\n",
    "a = np.array( l1 )\n",
    "print(a)\n",
    "i = 1\n",
    "j = 2\n",
    "firstRow1 = a[ 0, : ]\n",
    "firstRow2 = a[ 0 ][ : ]\n",
    "firstRow3 = a[ 0 ]\n",
    "print(\"The first row is of a, using a[ 0, : ], is: {0}\".format( firstRow1 ) )\n",
    "print(\"The first row is of a, using a[ 0 ][ : ], is: {0}\".format( firstRow2 ) )\n",
    "print(\"The first row is of a, using a[ 0 ], is: {0}\".format( firstRow3 ) )"
   ]
  },
  {
   "cell_type": "code",
   "execution_count": null,
   "metadata": {},
   "outputs": [],
   "source": [
    "# Example 2 with columns\n",
    "l1 = [ [ \"a\", \"b\", \"c\" ], [ \"d\", \"e\", \"f\" ], [ \"h\", \"i\", \"j\" ] ]\n",
    "print(\"a is:\")\n",
    "a = np.array( l1 )\n",
    "print(a)\n",
    "i = 1\n",
    "j = 2\n",
    "firstC1 = a[ :, 0 ]\n",
    "firstC2 = a[ : ][ 0 ]\n",
    "print(\"The first column of a, using a[ :, 0 ], is: {0}\".format( firstC1 ) )\n",
    "print(\"BUT a[ : ][ 0 ], is: {0}\".format( firstC2 ) )"
   ]
  },
  {
   "cell_type": "code",
   "execution_count": null,
   "metadata": {},
   "outputs": [],
   "source": [
    "# Example 2 splicing of last index\n",
    "l1 = [ [ \"a\", \"b\", \"c\" ], [ \"d\", \"e\", \"f\" ], [ \"h\", \"i\", \"j\" ], [ \"k\", \"l\", \"m\" ] ]\n",
    "print(\"a is:\")\n",
    "a = np.array( l1 )\n",
    "print(a)\n",
    "i = 1\n",
    "j = 2\n",
    "splice1 = a[ 0 ][ 1: ]\n",
    "splice2 = a[ 1 ][ :-1 ]\n",
    "print(\"Taking only elements of the first row (row 0), excluding the first, using a[ 0, 1: ]:\" )\n",
    "print(\"{0}\".format( splice1 ) )\n",
    "\n",
    "print(\"Taking only elements of the second row (row 1), excluding the last, using a[ 1, :-1 ]:\" )\n",
    "print(\"{0}\".format( splice2 ) )"
   ]
  },
  {
   "cell_type": "markdown",
   "metadata": {},
   "source": [
    "**Quick note:** Probably without noticing it, we have previously used 2D arrays when importing data using the `np.loadtxt( \"nameOfFile\")` function. The data is interpreted as a 2-Dimensional array where N, the length of the first dimension, is the number of rows in the datafile and the second index runs over all columns\n",
    "in it."
   ]
  },
  {
   "cell_type": "markdown",
   "metadata": {},
   "source": [
    "### An example of a 3D array:\n",
    "\n",
    "Although we are going to use numpy array primarily as 1 and 2-dimensional arrays, there is actually\n",
    "**no limit to it**, we can use an arbitrary number of dimensions (if space in memory allows). Run the example here to see how a 3D array looks like. Change the values to see a few different realisations."
   ]
  },
  {
   "cell_type": "code",
   "execution_count": null,
   "metadata": {},
   "outputs": [],
   "source": [
    "b = np.ones( (4,4,2) ) \n",
    "b[0,1,1] = \"4.0\"\n",
    "b[1,2,1] = \"5.0\"\n",
    "b[2,2,1] = \"6.0\"\n",
    "print(b)"
   ]
  },
  {
   "cell_type": "markdown",
   "metadata": {},
   "source": [
    "### Useful data and method attributes of a numpy array\n",
    "\n",
    "Properties of arrays can be read using their data attributes. For example, `shape` is the shape of the array, or in other words it returns the size of each dimension. Run this cell to check what happens:"
   ]
  },
  {
   "cell_type": "code",
   "execution_count": null,
   "metadata": {},
   "outputs": [],
   "source": [
    "b = np.array( [ [1,2,3],[4,5,6] ]) \n",
    "print( b.shape )"
   ]
  },
  {
   "cell_type": "markdown",
   "metadata": {},
   "source": [
    "Check into the documentation, either [online](https://numpy.org/doc/stable/) on the numpy manual or printing the related documentation directly from Jupyter, what is the meaning of the attributes in the next cells.  \n",
    "Write a few examples by yourself by instantiating an array and run to see what happens. Take note of whether they are data attributes or they are method attributes (values or functions of the class ndarray).  \n",
    "\n",
    "**Helpful reminder**: when you see in the documentation a function described as: `functionName( i [, j, k, ... ] )` it means that `i` is a required input whereas `j,k,...` are optional ones (what we called keyword arguments, which have been provided a default value in their definition)."
   ]
  },
  {
   "cell_type": "code",
   "execution_count": null,
   "metadata": {},
   "outputs": [],
   "source": [
    "# Attribute 1: \".T\"\n"
   ]
  },
  {
   "cell_type": "code",
   "execution_count": null,
   "metadata": {},
   "outputs": [],
   "source": [
    "# Attribute 2: \".ravel()\"\n"
   ]
  },
  {
   "cell_type": "markdown",
   "metadata": {},
   "source": [
    "Try to answer this question: What is the difference between `.reshape()` and `.resize()`? \n",
    "Check in the numpy documentation online and build an example below!"
   ]
  },
  {
   "cell_type": "code",
   "execution_count": null,
   "metadata": {},
   "outputs": [],
   "source": [
    "# Attribute 3: \".reshape( dim1 [, dim2 ] )\" \n"
   ]
  },
  {
   "cell_type": "code",
   "execution_count": null,
   "metadata": {},
   "outputs": [],
   "source": [
    "# Attribute 4: \".resize( dim1 [, dim2 ] )\" \n"
   ]
  },
  {
   "cell_type": "code",
   "execution_count": null,
   "metadata": {},
   "outputs": [],
   "source": [
    "# Attribute 5 and 6: the \".all()\" and \".any()\" attribute...for multi-dimensional arrays\n",
    "# Check what are the default values for the optional (\"keyword\", in python jargon) arguments\n",
    "\n"
   ]
  },
  {
   "cell_type": "code",
   "execution_count": null,
   "metadata": {},
   "outputs": [],
   "source": [
    "# the \".mean()\" and \"\".std()\" attributes. You have seen this for 1D arrays, but for 2D they can\n",
    "# do a lot more. Check the value / meaning of the optional arguments by looking at the documentation!\n",
    "# Write some examples and check what happens to see if you have understood!\n",
    "\n"
   ]
  },
  {
   "cell_type": "markdown",
   "metadata": {},
   "source": [
    "### Merging arrays\n",
    "\n",
    "Here we will now have a look at a couple of Numpy functions to combine arrays together. More precisely, we will look at ways in which we can take 2 (or more) arrays of the same dimensionality to generate one with the same dimensionality of the starting ones but a different (larger) number of elements (which is why we say we merge the arrays).\n",
    "\n",
    "To do that, we can use the `np.vstack( (array1, array2) )` ( \"vertically stack\") and the \n",
    "`np.hstack( (array1, array2) )` (\"horizontally stack\") functions. In two dimensions it is easy to visualise what they do: if you have two 2D arryas, `vstack` creates a third `2D` array stacking them one on top of each other (from bottom to top), whereas `hstack` merge them putting them one next two each other (from left to right). So, for example, if you `vstack` two 2D arrays each with `NxM` entries (where `N` and `M` are the maximum value taken by the first and second index of the array), the element `a[i,j]` becomes the element `a[i + N,j]` in the merged array, whereas if you `hstack` them the element `a[i,j]` becomes the element `a[i,j+M]` in the resulting array. \n",
    "\n",
    "**Quick note:** both `vstack` and `hstack` take as an input a tuple of `N` arrays to be stacked, not just 2.   \n",
    "\n",
    "Run the examples below to see what happens!    "
   ]
  },
  {
   "cell_type": "code",
   "execution_count": null,
   "metadata": {},
   "outputs": [],
   "source": [
    "a = np.zeros(( 2,4 ))\n",
    "b = np.ones((2,4))\n",
    "\n",
    "print( \"a is:\")\n",
    "print( a)\n",
    "print( \"b is:\")\n",
    "print( b)\n",
    "\n",
    "c = np.vstack( (a,b) )\n",
    "print(\"a and b stack vertically is\")\n",
    "print(c)\n",
    "d = np.hstack( (a,b) )\n",
    "print(\"a and b stack horizontally gives\")\n",
    "print(d)\n",
    "e = np.hstack( (a,b,a,b) )\n",
    "print(\"Or stacking multiple arrays, like (a,b,a,b) stack horizontally \")\n",
    "print(e)\n"
   ]
  },
  {
   "cell_type": "code",
   "execution_count": null,
   "metadata": {},
   "outputs": [],
   "source": [
    "# Write some code here to experiment stacking different arrays together\n",
    "\n"
   ]
  },
  {
   "cell_type": "markdown",
   "metadata": {},
   "source": [
    "### Splitting arrays\n",
    "\n",
    "\"Splitting\" arrays is the opposite of stacking them. Run the next cell (and change\n",
    "inputs to experiment with it!) to see some examples and check the relative \n",
    "documentation online if still unclear, but if you understood how `vstack` and `hstack` works, their opposite operation `vsplit` and `hsplit` should be quite clear!"
   ]
  },
  {
   "cell_type": "code",
   "execution_count": null,
   "metadata": {},
   "outputs": [],
   "source": [
    "np.hsplit(a,3)\n",
    "np.vsplit(a,3)\n",
    "\n",
    "\n",
    "a = np.ones(6)\n",
    "b = np.split(a,2 )\n",
    "c = np.split(a,3 )\n",
    "\n",
    "print( a)\n",
    "print( b )\n",
    "print( c )"
   ]
  },
  {
   "cell_type": "code",
   "execution_count": null,
   "metadata": {},
   "outputs": [],
   "source": [
    "# Write some code here to experiment stacking different arrays together\n",
    "\n"
   ]
  },
  {
   "cell_type": "markdown",
   "metadata": {},
   "source": [
    "### Applying functions to N-dimensional arrays\n",
    "\n",
    "When applying functions to multi-dimensional arrays, exactly as for 1D array Python assumes that properties are applied *elementwise*. This is also valid when combining two arrays using arithmetic operations such as +, -, * or /. \n",
    "\n",
    "**Be extremely careful**. Because operations are applied elementwise, you should **not confuse 2D numpy arrays with 2D \n",
    "matrices** (if you do not know what yet what matrices are, you will see it in the math course later in the year). For example, the product between two arrays is completely different from the product between two matrices (but sum and subtractions are instead the same).  \n",
    "\n",
    "If you want to force Python to interpret your 2D array as if it was a matrix, Numpy allows you to do that. In fact, there are a lot of functionalities to do linear algebra in Numpy (and its related package, Scipy). However, we will not see them here, at least not this year!\n",
    "\n",
    "As usual, have a look at the following examples to see what happens when operations are applied to multi-dimensional arrays."
   ]
  },
  {
   "cell_type": "code",
   "execution_count": null,
   "metadata": {},
   "outputs": [],
   "source": [
    "a = np.array( [ [1,2],[3,4] ] )\n",
    "b = np.array( [ [1,1],[2,2] ] )\n",
    "\n",
    "c = a * b\n",
    "print(\"a is\")\n",
    "print(a)\n",
    "print(\"b is\")\n",
    "print(b)\n",
    "print(\"Their product is elementwise, so c = a * b gives\")\n",
    "print(c)"
   ]
  }
 ],
 "metadata": {
  "kernelspec": {
   "display_name": "Python 3",
   "language": "python",
   "name": "python3"
  },
  "language_info": {
   "codemirror_mode": {
    "name": "ipython",
    "version": 3
   },
   "file_extension": ".py",
   "mimetype": "text/x-python",
   "name": "python",
   "nbconvert_exporter": "python",
   "pygments_lexer": "ipython3",
   "version": "3.7.2"
  }
 },
 "nbformat": 4,
 "nbformat_minor": 2
}
