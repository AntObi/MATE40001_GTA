{
 "cells": [
  {
   "cell_type": "markdown",
   "metadata": {},
   "source": [
    "## Generating sequences of (pseudo-) random numbers with Numpy\n",
    "\n",
    "Let us now take a quick look at an important sub-package inside Numpy, the\n",
    "\".random\" library. This library contains a large set of functions to generate (sequences of) 'random' numbers in different ways and following different probability distributions. To be more correct, these sequences should be referred to as \"pseudo-random\" numbers. Check this [link](https://en.wikipedia.org/wiki/Pseudorandom_number_generator) to see an exact definition.  \n",
    "If you want to know why we need to generate random numbers at all, it is because they are the basis of a large class of important computational techniques broadly referred to with the suggestive name ***Monte Carlo Simulations***, part of an even larger class of simulations based on the use of random distributions called ***Stochastic simulations***. These type of simulations allows us to study a huge variety of (natural) phenomena, from the way nanoparticles or proteins self-assemble into larger structures to the way alloys re-organise during a temperature treatment, or to study how birds move in a flock or bacterial colonies grows in a certain environment. However, they are not limited to natural phenomena and in fact stochastic / Monte Carlo simulations are routinarily used to calculate very complex multi-dimensional integrals, or modelling the stock market, among other things. In all these simulations, generating random numbers in the correct way is **crucial**.  \n",
    "\n",
    "To make you better understand (hopefully!) I will try to provide a little background and practical examples. In practice, we want to answer the question: *What does it mean to return a random number from a certain probability distribution*?  \n",
    "First of all, let us notice that a probability distribution is a function that assigns to any number the probability to extract it, following a certain formula. For a *discrete* distribution (where the outcome of this random selection is a finite set of values) saying the random element `I` is extracted from the distribution `P( I = i; {q} )` (where `{q} = {q1, q2, ..., qN}` are N parameters characterising the distribution), means that, if you extract a large number of values, the *fraction of times* `I` is equal to \"i\" converges to P(i).  \n",
    "Be careful: each time you extract the element from the distribution its value will be randomly chosen, but when you choose a large sample, the exact value `i` will be chosen a fraction of times that *tends to* P(i) (when the number of extractions goes to infinity).  \n",
    "Take for example a typical (cubic) dice with 6 faces. The probability distribution is `P( I = i )` is `1/6` if `i` is any of the numbers `[1,2,3,4,5,6]`, and zero otherwise.  \n",
    "\n",
    "For a *continuous* distribution, things are somewhat similar. Saying the number `X` is extracted from `P(x)` means\n",
    "that the probability to obtain a value between `x` and `x+dx` converges to `P(x)dx`, again when you extract a large number of values. The Gaussian probability distribution is the one you are probably already familiar with among continuous distributions. Note that in this case it does not make sense to ask \"how many times will I get exactly the value x\", but you can ask \"how many times I will get a number in a certain interval around the value x\". You might want to have a look at [this wikipedia page](https://en.wikipedia.org/wiki/Probability_distribution#Discrete_probability_distribution) to get more comfortable with these concepts (and for a more formal defintion), although running a few examples is probably a more pragmatic way to procede for what we need here.\n",
    "\n",
    "Before we go on, however, let me be pedantic and reiterate once again one very important fact about random number generators and the sequences that are output from them: **each time you call a random number generator the sequence of number will be different** and the **exact sequence itself does not really have any meaning**. It is its average behaviour when a long sequence is generated (or over a large number of sequences) that matters!\n",
    "\n",
    "Let us now take a practical approach and have a look at a selected few but very important functions inside the `random` package of Numpy. As usual, if you want to know more, you can look at the specific [documentation of the random package here](https://numpy.org/doc/stable/reference/random/index.html?highlight=random#module-numpy.random) and in particular the random [number generator section](https://numpy.org/doc/stable/reference/random/generator.html#numpy.random.Generator) to unload its full capabilities!\n",
    "\n",
    "First, run the next cell to load the `.random` subpackage of the numpy library."
   ]
  },
  {
   "cell_type": "code",
   "execution_count": 3,
   "metadata": {},
   "outputs": [],
   "source": [
    "from numpy import random as rnd"
   ]
  },
  {
   "cell_type": "markdown",
   "metadata": {},
   "source": [
    "### The `.randint` function\n",
    "\n",
    "```Python\n",
    ".randint( nmin, nmax, nSamples ) \n",
    "```\n",
    "\n",
    "returns an array of `nSamples` integer random number with equal probability between `nmin` (included) and `nmax` (excluded). In other words, each number between `nmin` and `nmax` is extracted with the same probability of `P = 1 / (nmax - nmin)`. Note that if a single argument is given, this is intepreted as `.randint( 0, nmax, 1)` and if two arguments only are given, this is intepreted as `.randint( nmin, nmax, 1)`.  \n",
    "\n",
    "Play a little around by modifying and running the cell below with different values of `nmin`, `nmax` and `nsamples` to convince yourself. Also, notice how the probability to obtain a certain value converges to the right probability.\n"
   ]
  },
  {
   "cell_type": "code",
   "execution_count": 4,
   "metadata": {},
   "outputs": [
    {
     "name": "stdout",
     "output_type": "stream",
     "text": [
      "Are all elements of a and b the same? False\n",
      "List a, Element 1 Probability 0.5029\n",
      "List a, Element 2 Probability 0.4971\n",
      "List b, Element  1 Probability 0.49685\n",
      "List b, Element  2 Probability 0.50315\n"
     ]
    }
   ],
   "source": [
    "nmin = 1\n",
    "nmax = 3\n",
    "nsamples = 20000\n",
    "a = rnd.randint(nmin,nmax,nsamples)\n",
    "b = rnd.randint(nmin,nmax,nsamples)\n",
    "#print(a)\n",
    "#print(b)\n",
    "print( \"Are all elements of a and b the same?\", ( a == b ).all() ) # Here we compare whether the two sequences are the same...\n",
    "a = list(a)\n",
    "\n",
    "for i in range( nmin, nmax ):\n",
    "    print( \"List a, Element\", i, \"Probability\", a.count(i) / len(a) )\n",
    "\n",
    "b = list(b)\n",
    "for i in range( nmin, nmax ):\n",
    "    print( \"List b, Element \", i, \"Probability\", b.count(i) / len(b) )\n",
    "\n",
    "    "
   ]
  },
  {
   "cell_type": "markdown",
   "metadata": {},
   "source": [
    "### The `.rand` function\n",
    "\n",
    "```Python\n",
    ".rand( n1, n2 ) \n",
    "```\n",
    " \n",
    "returns a 2D array of `n1 x n2` elements where each entry is a random number chosen with the same probability (also called a \"flat probability\" in jargon) from the interval `[0,1]`. In practice, this is a flat, continuous probability distribution defined as `P( X = c ) = {0, if c < 0 or c > 1; 1 otherwise }` and it is basically the equivalent of the \".randint\" function but for a continuous distribution. Note that `np.random.rand( n1 )` is equivalent to np.random.rand( n1, 1 ). Have a look at what happen running the cell below:"
   ]
  },
  {
   "cell_type": "code",
   "execution_count": 25,
   "metadata": {},
   "outputs": [
    {
     "name": "stdout",
     "output_type": "stream",
     "text": [
      "np.random.rand( n2, n2 )\n",
      "[[0.1827517  0.64588917]\n",
      " [0.38438053 0.57296372]]\n",
      "np.random.rand( n1, n2 )\n",
      "[[0.82092771 0.76664797]\n",
      " [0.67823132 0.12884501]\n",
      " [0.45521177 0.73915378]]\n",
      "np.random.rand( n2, n1 )\n",
      "[[0.64911203 0.27644915 0.03714735]\n",
      " [0.62291445 0.22347968 0.80865559]]\n",
      "np.random.rand( n1 )\n",
      "[0.15907381 0.78041407 0.63166308]\n"
     ]
    }
   ],
   "source": [
    "n1 = 3\n",
    "n2 = 2\n",
    "print(\"np.random.rand( n2, n2 )\")\n",
    "a = rnd.rand( n2, n2 )\n",
    "print(a)\n",
    "print(\"np.random.rand( n1, n2 )\")\n",
    "a = rnd.rand( n1, n2 )\n",
    "print(a)\n",
    "print(\"np.random.rand( n2, n1 )\")\n",
    "a = rnd.rand( n2, n1 )\n",
    "print(a)\n",
    "print(\"np.random.rand( n1 )\")\n",
    "a = rnd.rand( n1 )\n",
    "print(a)"
   ]
  },
  {
   "cell_type": "markdown",
   "metadata": {},
   "source": [
    "### Transforming between different probability distributions\n",
    "\n",
    "There is actually a formal mathematical procedure to map one probability distribution onto another based on the definition of integrals.  More precisely, the idea is to answer the general question: if I know how to generate a random variable x with probability P(x), how will the values of a function f(x) be distributed (what is the probability function P(f)? \n",
    "\n",
    "We will not indulge on the general question here, although you should definitely check [this link](https://www.cl.cam.ac.uk/teaching/2003/Probability/prob11.pdf) if interested, it is very well written and it is relatively simple math! Instead, because of its importance for practical applications, we will try to answer the related (and much simpler) question: What if you wanted to extract a random number with a flat probability distribution from the interval `[nmin,nmax]` rather than `[0,1]`? \n",
    "\n",
    "The answer to the previous question is based on the idea of rescaling and shifting the interval, which can be implemented using the following algorithm (implemented in the cell below):\n",
    "1. Extract a random number X from `[0,1]`\n",
    "2. Multiply this number by (nmax - nmin). At this point, you obtain a number X' randomly distributed in the interval `[0,nmax-nmin]`.\n",
    "3. Add `nmin` to X'. You obtain a number X'' randomly distributed between `[nmin,nmax]`\n",
    "\n",
    "To see that this procedure works, one way is to visualise its outcome. In general, for visualising probability distributions (in 1D) a quick graphical way is to plot the histogram of the obtained values with the function:\n",
    "\n",
    "```Python\n",
    "matplotlib.pyplot.hist([array of random numbers], bins = N, density = True )\n",
    "```\n",
    "\n",
    "from the `pyplot` package of the `matplotlib` library in Python (we have used it before to plot graphs!), see the full documentation [here](https://matplotlib.org/3.3.2/api/_as_gen/matplotlib.pyplot.hist.html). Basically, this function takes a list of randomly generated numbers and puts them into `N` bins of equal width, then returns an histogram where the height of each bin is proportional to the number of times a randomly generated number from the list ended up in that bin. More precisely, the height of the histogram is the value of the associated  probability distribution function, properly normalised so that the total probability sums up to the value of 1 when one considers all the possible bins.  \n",
    "Have a look at the example below to see!"
   ]
  },
  {
   "cell_type": "code",
   "execution_count": 26,
   "metadata": {},
   "outputs": [
    {
     "name": "stdout",
     "output_type": "stream",
     "text": [
      "With 10^3 random values\n"
     ]
    },
    {
     "data": {
      "image/png": "[encoded data removed]",
      "text/plain": [
       "<Figure size 432x288 with 1 Axes>"
      ]
     },
     "metadata": {
      "needs_background": "light"
     },
     "output_type": "display_data"
    },
    {
     "name": "stdout",
     "output_type": "stream",
     "text": [
      "With 10^5 random values\n"
     ]
    },
    {
     "data": {
      "image/png": "[encoded data removed]",
      "text/plain": [
       "<Figure size 432x288 with 1 Axes>"
      ]
     },
     "metadata": {
      "needs_background": "light"
     },
     "output_type": "display_data"
    },
    {
     "name": "stdout",
     "output_type": "stream",
     "text": [
      "With 10^5 random values and scaling to obtain in the interval [20,100]\n"
     ]
    },
    {
     "data": {
      "image/png": "[encoded data removed]",
      "text/plain": [
       "<Figure size 432x288 with 1 Axes>"
      ]
     },
     "metadata": {
      "needs_background": "light"
     },
     "output_type": "display_data"
    }
   ],
   "source": [
    "from matplotlib import pyplot as plt\n",
    "\n",
    "nValues1 = 1000\n",
    "nValues2 = 10000\n",
    "nValues3 = 100000\n",
    "nBins = 30\n",
    "nmin = 20\n",
    "nmax = 100\n",
    "ar1 = rnd.rand( nValues1 )\n",
    "ar2 = rnd.rand( nValues3 )\n",
    "ar3 = rnd.rand( nValues3 ) * (nmax-nmin) + nmin\n",
    "plt.xlabel = 'X'\n",
    "plt.ylabel = 'P(X)'\n",
    "print('With 10^3 random values')\n",
    "plt.hist(ar1, bins = nBins, density = True )\n",
    "plt.show()\n",
    "print('With 10^5 random values')\n",
    "plt.hist(ar2, bins = nBins, density = True )\n",
    "plt.show()\n",
    "print('With 10^5 random values and scaling to obtain in the interval [20,100]')\n",
    "plt.hist(ar3, bins = nBins, density = True )\n",
    "plt.show()"
   ]
  },
  {
   "cell_type": "markdown",
   "metadata": {},
   "source": [
    "### Extracting numbers from a list of possible values: the `.choice` function\n",
    "\n",
    "If you want to extract elements from a pre-defined list of potential values (they need not be numbers, it can be, for example, a list of strings, or truly any object you want!), then the `.choice()` function is what you need. Its general syntax is:\n",
    "\n",
    "```Python\n",
    ".choice( a, size=None, replace=True, p=None)\n",
    "```\n",
    "\n",
    "where `a` must be your list of potential values and `size` is the number of random elements to generate from that list. The boolean `replace` is `True` if every time you choose an element from the same initial list `a`, whereas you should set it to `False` if you want to remove the value from the list `a` once it is extracted. Finally, `p` is a list (of the same length of `a`) that specifies the probability to pick a specific element in `a`. More precisely, `p[i]` gives you the probability to pick the element `a[i]`. Note that for this reason the sum of all values in `p` **must** be equal to 1 (or Python will throw an Error message!). By default, if no value is given for `p` it is assumed that each number in `a` can be extracted with the same flat probability `(1/len(a))`. \n",
    "\n",
    "Have a look at the example below, and play around with the values to see what happens!"
   ]
  },
  {
   "cell_type": "code",
   "execution_count": 27,
   "metadata": {},
   "outputs": [
    {
     "name": "stdout",
     "output_type": "stream",
     "text": [
      "Value of the p array: [0.5, 0.5, 0.0]. Note that \"c\" is never extracted because it has probability 0!\n",
      "['a' 'a' 'b' 'b' 'b' 'a' 'a' 'b' 'a' 'b' 'a' 'b' 'a' 'b' 'b' 'b' 'a' 'a'\n",
      " 'a' 'a' 'a' 'b' 'b' 'b' 'b' 'b' 'a' 'b' 'a' 'a' 'a' 'b' 'a' 'b' 'b' 'b'\n",
      " 'b' 'a' 'b' 'b' 'a' 'b' 'a' 'a' 'a' 'b' 'b' 'b' 'a' 'b' 'a' 'a' 'a' 'b'\n",
      " 'b' 'b' 'b' 'a' 'b' 'a' 'a' 'b' 'a' 'b' 'a' 'b' 'b' 'a' 'b' 'b' 'a' 'a'\n",
      " 'b' 'b' 'b' 'b' 'b' 'a' 'b' 'a' 'a' 'b' 'b' 'b' 'a' 'b' 'a' 'a' 'a' 'b'\n",
      " 'a' 'b' 'a' 'a' 'b' 'a' 'a' 'a' 'b' 'a' 'a' 'b' 'a' 'a' 'b' 'b' 'a' 'a'\n",
      " 'b' 'b' 'a' 'b' 'b' 'a' 'b' 'b' 'b' 'a' 'a' 'a' 'b' 'a' 'a' 'b' 'b' 'a'\n",
      " 'b' 'b' 'a' 'a' 'a' 'a' 'a' 'a' 'b' 'b' 'b' 'a' 'a' 'b' 'a' 'b' 'b' 'a'\n",
      " 'b' 'b' 'b' 'b' 'a' 'a' 'a' 'b' 'a' 'a' 'a' 'b' 'a' 'a' 'b' 'a' 'b' 'a'\n",
      " 'a' 'a' 'a' 'a' 'b' 'b' 'b' 'a' 'a' 'b' 'a' 'a' 'a' 'a' 'a' 'a' 'b' 'b'\n",
      " 'a' 'b' 'b' 'a' 'b' 'b' 'b' 'a' 'b' 'a' 'a' 'b' 'b' 'b' 'a' 'b' 'a' 'a'\n",
      " 'b' 'b']\n",
      "Element a Frequency 0.505\n",
      "Element b Frequency 0.495\n",
      "Element c Frequency 0.0\n"
     ]
    }
   ],
   "source": [
    "mySize = 200\n",
    "list1 = [\"a\",\"b\",\"c\"]\n",
    "myP = [ 0.5, 0.5, 0.0 ]\n",
    "print('Value of the p array: {0}. Note that \"c\" is never extracted because it has probability 0!'.format(myP) )\n",
    "a = rnd.choice( list1, size = mySize, replace = True, p = myP )\n",
    "print(a)\n",
    "a = list(a)\n",
    "for i in list1:\n",
    "    print( \"Element\", i, \"Frequency\", a.count(i) / len(a) )"
   ]
  },
  {
   "cell_type": "markdown",
   "metadata": {},
   "source": [
    "### Other general probability distribution functions\n",
    "\n",
    "Besides the flat one (provided by the `.rand()` function), Numpy has a wide range of continuous probability distributions to pick from, whose use depends on the specific phenomena to simulate. The complete list can be found at the bottom of [this page](https://numpy.org/doc/stable/reference/random/generator.html#numpy.random.Generator).  \n",
    "\n",
    "Here we only have a look at probably the most important one, or, better said, the most used in practical applications, the **gaussian distribution** defined as:\n",
    "\n",
    "$G( x; \\mu, \\sigma ) = \\frac{1}{\\sqrt{2\\pi \\sigma^2}} e^{-\\frac{(x-\\mu)^2}{2\\sigma^2}}$\n",
    "\n",
    "This is found in the `.random` subpackage as:\n",
    "\n",
    "'''Python\n",
    ".normal( loc = 0, scale = 1.0, size = None )\n",
    "'''\n",
    "\n",
    "where `loc` ($\\mu$ in the formula above) is the mean of the Gaussian distribution and `scale` ( = $\\sigma$) its standard deviation. `size` specifies the number of random numbers to be extracted from the distribution, which are then return as a 1D array of size `size`. If instead `size = (n1,n2)` a `n1 x n2` 2D array is returned. Have a look at the next example to see what happens!\n",
    "\n",
    "**Important reminder**: the mean and standard deviation of any given sequence will converge to the provided input parameter value for an infinite sequence of random numbers extracted. However, each time for a finite sequences of values you will obtain a different result!"
   ]
  },
  {
   "cell_type": "code",
   "execution_count": 28,
   "metadata": {},
   "outputs": [
    {
     "name": "stdout",
     "output_type": "stream",
     "text": [
      "a is\n",
      "[-0.75441304 -0.97688919 -0.01205061  1.5152775  -0.69775876  0.51511516\n",
      " -0.37072877  0.9773369  -0.26360087  1.1704637 ]\n",
      "The mean is\n",
      "0.11027520275407299\n",
      "The standard deviation is\n",
      "0.8356054862022836\n",
      "======================================\n",
      "======================================\n",
      "a is\n",
      "[ 0.12907648 -0.28712001 -0.02426805  1.75305507  0.93634976 -0.8218597\n",
      " -0.54877569 -0.82377348 -1.11767201  1.5107212   0.801553    2.15373707\n",
      " -0.13006702 -0.27442385  0.27530243  1.07227392  1.16748626  0.52204706\n",
      " -1.12041507  2.33083418 -1.83842266  1.13620474 -1.58305612 -0.15839563\n",
      "  0.57323023 -1.69751818  0.86634761  0.12292606 -1.61224872 -0.83188839\n",
      " -0.73711684  0.23220937  2.7871564   0.48422261 -0.63359952  0.55374805\n",
      "  1.5555503  -0.68463131  0.00663     2.11135826 -0.6449427  -0.1626508\n",
      "  0.2272156   1.95421634 -0.37397235  0.93146361 -1.5707097  -0.61753063\n",
      "  0.07639155  0.46163576 -0.3457617   0.68769262  1.49702663  1.61931597\n",
      " -0.48534851  0.68907257 -1.18816214  0.93447433 -0.22309202 -0.57111432\n",
      " -0.20883528  0.41105327 -2.17513814  1.86793403  1.45324557  0.19173443\n",
      "  1.24033466  0.42654241  0.9169429  -0.04162017 -0.22005991  0.45926878\n",
      "  0.61912988 -0.41766151 -0.8893556   1.09744119 -1.5823455  -0.2503339\n",
      " -0.22908672  2.26395433 -1.24467538  0.29195784  0.68100829  0.5716706\n",
      " -0.4702372  -1.16835238  1.47671157  1.28390432  0.14876296  0.19938926\n",
      "  0.92979537 -0.03302212  1.5813105  -0.78009087  0.19767076  0.432953\n",
      " -0.39715869  0.78140782  0.28025734  0.39606384]\n",
      "The mean is\n",
      "0.21144459489319822\n",
      "The standard deviation is\n",
      "1.0238897549203432\n",
      "======================================\n",
      "======================================\n",
      "Increasing the sequence length to 10000 elements (not visualised). Now the mean is\n",
      "0.015140947811214724\n",
      "The standard deviation is\n",
      "1.0085195700215552\n",
      "======================================\n",
      "======================================\n",
      "This is an example with a 2D array\n",
      "[[-0.6100814  -0.56725499  0.42157723 -0.43570737 -0.40021497]\n",
      " [-0.55324291  0.00293642  0.1589636  -1.02814263  0.36435676]\n",
      " [-0.20267728 -0.3353359   0.90197833  0.39517276  0.43680718]\n",
      " [ 1.73388778  0.33554544  0.74451322 -0.86164836  0.17220462]\n",
      " [ 1.17963677 -1.04161548 -0.27286963  0.0889554  -0.32339186]]\n",
      "The mean is\n",
      "0.012174108520481794\n",
      "The standard deviation is\n",
      "0.6681935478309433\n"
     ]
    }
   ],
   "source": [
    "nValues1 = 10\n",
    "nValues2 = 10**2\n",
    "nValues3 = 10**4\n",
    "\n",
    "a = rnd.normal(0,1,nValues1)\n",
    "print(\"a is\")\n",
    "print(a)\n",
    "print(\"The mean is\")\n",
    "print( a.mean() )\n",
    "print(\"The standard deviation is\")\n",
    "print(a.std() )\n",
    "\n",
    "print(\"======================================\")\n",
    "print(\"======================================\")\n",
    "a = rnd.normal(0,1,nValues2)\n",
    "print(\"a is\")\n",
    "print(a)\n",
    "print(\"The mean is\")\n",
    "print( a.mean() )\n",
    "print(\"The standard deviation is\")\n",
    "print(a.std() )\n",
    "\n",
    "print(\"======================================\")\n",
    "print(\"======================================\")\n",
    "a = rnd.normal(0,1,nValues3)\n",
    "print(\"Increasing the sequence length to {0} elements (not visualised). Now the mean is\".format(nValues3))\n",
    "print( a.mean() )\n",
    "print(\"The standard deviation is\")\n",
    "print(a.std() )\n",
    "\n",
    "print(\"======================================\")\n",
    "print(\"======================================\")\n",
    "a = rnd.normal(0,1,(5,5))\n",
    "print(\"This is an example with a 2D array\")\n",
    "print(a)\n",
    "print(\"The mean is\")\n",
    "print( a.mean() )\n",
    "print(\"The standard deviation is\")\n",
    "print(a.std() )\n",
    "\n"
   ]
  },
  {
   "cell_type": "markdown",
   "metadata": {},
   "source": [
    "You might want to write a piece of code below and use histograms to plot the arrays of Gaussian numbers above, to see if it indeed looks like what you expect!"
   ]
  },
  {
   "cell_type": "code",
   "execution_count": null,
   "metadata": {},
   "outputs": [],
   "source": [
    "# Your code here"
   ]
  }
 ],
 "metadata": {
  "kernelspec": {
   "display_name": "Python 3",
   "language": "python",
   "name": "python3"
  },
  "language_info": {
   "codemirror_mode": {
    "name": "ipython",
    "version": 3
   },
   "file_extension": ".py",
   "mimetype": "text/x-python",
   "name": "python",
   "nbconvert_exporter": "python",
   "pygments_lexer": "ipython3",
   "version": "3.6.8"
  }
 },
 "nbformat": 4,
 "nbformat_minor": 2
}
