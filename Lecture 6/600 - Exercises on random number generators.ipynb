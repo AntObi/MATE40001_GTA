{
 "cells": [
  {
   "cell_type": "markdown",
   "metadata": {},
   "source": [
    "**IMPORTANT**: Learning how to use libraries without any \"external\" explanation IS part of the process! In answering to the following questions, you might find useful to consult the online documentation for the numpy library, in this case the part specific for random number generators and associated functions, which you can find at this [hyperlink](https://numpy.org/devdocs/reference/random/index.html)\n",
    "\n",
    "**Quick summary**  \n",
    "In this part of the exercises, we will have a look at **random number generators** and how they are implemented in the  `random` package of the `numpy` library. \n",
    "\n",
    "**Quick tips**: \n",
    "\n",
    "1. Loading the random package can be done with:\n",
    "\n",
    "```Python\n",
    "from numpy import random as rnd\n",
    "```\n",
    "\n",
    "2. In order to load the plotting library you should use the command\n",
    "\n",
    "```Python\n",
    "from matplotlib import pylab as plt\n",
    "```\n",
    "\n",
    "With this library, plotting the histogram of an array of values `v1` can be done using the following 2-lines code:\n",
    "\n",
    "```Python\n",
    "plt.hist(v1, bins= numberOfBins ) \n",
    "plt.show()\n",
    "```"
   ]
  },
  {
   "cell_type": "markdown",
   "metadata": {},
   "source": [
    "## Exercise 1\n",
    "\n",
    "Write a program that pics N arbitrary random number from a Gaussian probability distribution, centred in\n",
    "average = 10 and variance = 2.  \n",
    "Make a histogram of the N numbers and plot it for different values of $N = 10$,\n",
    "$10^2$, $10^4$, $10^6$."
   ]
  },
  {
   "cell_type": "code",
   "execution_count": null,
   "metadata": {},
   "outputs": [],
   "source": [
    "# Your code here\n",
    "\n"
   ]
  },
  {
   "cell_type": "markdown",
   "metadata": {},
   "source": [
    "## Exercise 2\n",
    "\n",
    "As in the previous exercise, but now the number should be extracted from an exponential distribution of scale parameter = 2.0. You can find the description of the exponential distribution [here](https://numpy.org/doc/stable/reference/random/generated/numpy.random.Generator.exponential.html#numpy.random.Generator.exponential)"
   ]
  },
  {
   "cell_type": "code",
   "execution_count": null,
   "metadata": {},
   "outputs": [],
   "source": [
    "# Your code here\n",
    "\n"
   ]
  },
  {
   "cell_type": "markdown",
   "metadata": {},
   "source": [
    "## Exercise 3)\n",
    "\n",
    "1. Write a function myRandom( list1, list2, weights1 = None, weights2 = None ) that takes as input two lists. \n",
    "and, optionally, a set of weights (probabilities). The function randomly take one element from the first \n",
    "and one element from the second and returns the tuple ( element1, element2 ). Remember that randomly here means that, given a large enough sample, the fraction of times a certain element will be picked is given by `weight[i] / sum_i weight[ i ]`, where `weight[i]` is the probability of extracting element `i`.\n",
    "\n",
    "2. Using the previous function, write a second function `myRandomArray` that takes as input the two lists and a number NN. The function then generates an array where each element is a tuple previously extracted. \n",
    "\n",
    "**Extra part**\n",
    "\n",
    "3.  Plot the fraction of times each tuple (element1, element2) is extracted as a heat map, using the lists `[ 1, 2, 3, 4, 5 ]` and `[ \"a\", \"b\", \"c\" ]`. A heat map is nothing but a graph where at each coordinate (x,y) a color of a certain intensity (the scale of the heatmap) is associated. For plotting heat-maps, you might want to consult the [link](https://matplotlib.org/3.1.1/gallery/images_contours_and_fields/image_annotated_heatmap.html) as an example.\n",
    "\n",
    "4. As in 3. above, but now the weights associated to the first list (`[1,2,3,4,5]` ) should be `[0.1, 0.1, 0.1, 0.35, 0.35 ]`, whereas the weights for the second list are all equal.\n",
    "\n",
    "Question: What do you see comparing the heat maps in 3) and 4)? \n"
   ]
  },
  {
   "cell_type": "code",
   "execution_count": null,
   "metadata": {},
   "outputs": [],
   "source": [
    "\n",
    "def myRandom( list1, list2, weight1 = None, weight2 = None ):\n",
    "    # Your code here\n",
    "    return ( x1, x2 )\n",
    "\n",
    "def myRandomArray( list1, list2, NN, weight1 = None, weight2 = None ):\n",
    "    # Your code here\n",
    "    return myArray\n",
    "\n"
   ]
  },
  {
   "cell_type": "markdown",
   "metadata": {},
   "source": [
    "## Exercise 4: Arbitrary probability distribution ( Advanced exercise )\n",
    "\n",
    "In general, one can extract random number from any (valid) probability distribution following a simple\n",
    "algorithm, which the exercises here asks you to code.\n",
    "\n",
    "To do that, you start with a probability distribution $f(x)$ (meaning that $f(x)dx$ is proportional to the probability to extract a number from x to x+dx). $x$ belongs to the interval: $[a,b]$. The algorithm goes like this:\n",
    "\n",
    "1. Extract a random number \"x\" between 0 and 1,\n",
    "2. The random number generated is the number y for which the following condition holds:\n",
    "   $\\int_a^y f(x')dx' / \\int_a^b f(x')dx' = x$ (assuming $a\\lt y \\lt b$).\n",
    "   \n",
    "Following the scheme above, write a function `generate( x, y, NN )` that takes an arbitrary probability distribution and returns an array of `NN` values extracted from it. `x` is the array containing the grid points on which $f(x)$ is defined and $y = f(x)$. Note that a valid probability distribution defined over an interval `[a,b]` **must** have the following properties:\n",
    "\n",
    "a. $\\int_a^b f(x)dx < \\infty$, or in other words the integral is finite  \n",
    "b. $f(x)>0 \\qquad \\forall x$\n",
    "\n",
    "Experiment with different arbitrary functions and plot the histogram of the generated random numbers (extract a set of N > 10^6 values, using 100 bins.) If done correctly, running the following cell should generate the exponential probability distribution of scale 2."
   ]
  },
  {
   "cell_type": "code",
   "execution_count": null,
   "metadata": {},
   "outputs": [],
   "source": [
    "\n",
    "def generate( x, y, NN ):\n",
    "    #Insert your code here\n",
    "    return"
   ]
  },
  {
   "cell_type": "code",
   "execution_count": null,
   "metadata": {},
   "outputs": [],
   "source": [
    "import numpy as np\n",
    "import matplotlib.pyplot as plt\n",
    "x = np.linspace(0,10**4,10**5)\n",
    "y = 1 / 2.0  np.exp( - x / 2.0 )\n",
    "s = generate( x, y, 10**6 )\n",
    "plt.hist( s, bins = 100)\n",
    "plt.show()"
   ]
  },
  {
   "cell_type": "markdown",
   "metadata": {},
   "source": [
    "## Exercise 5: Simulating Brownian Dynamics ( Advanced exercise )\n",
    "\n",
    "Brownian dynamics describes the motion of large particles in a fluid (but, is used also to describe the motion of stock options!). We will see it with a simple example. \n",
    "\n",
    "A particle following Brownian dynamics in 1D moves at each step according to the following evolution equation:\n",
    "\n",
    "$x( t + dt ) = x( t ) + ( 2 D dt )^{1/2} * G(0,1)$\n",
    "\n",
    "where $G( 0, 1 )$ is a random number generated from a Gaussian of mean zero and variance 1, $dt$ is just a discrete amount of time (called time-step, set it to $10^{-3}$ here), and $D$ the particle diffusion coefficient (in arbitrary units).\n",
    "\n",
    "For this exercise:\n",
    "\n",
    "1. Write a function that generates the trajectory of the particle for `NN` timesteps. You can assume x( t = 0 ) = 0\n",
    "\n",
    "2. Using the function defined in the previous point, write a program that repeat the simulation for `NSample` times, each time restarting from x = 0. You can store the particle trajectory for each of these repeats in a 2D array `traj`, where `traj[ i, j ]` is the position of particle `i` at timestep `j` ( or in other words, at time $t = dt * j$ ). You can store a subset of the values of x every `Nsize` timesteps, rather than for all timesteps simulated.\n",
    "\n",
    "3. The average displacement after time t is defined as $x_{ave} = \\langle x( t ) - x( 0 ) \\rangle$ and the mean square displacement as $\\sigma^2 = \\langle ( x( t ) - x( 0 ) )^2 \\rangle$, where $\\langle \\rangle$ means taking an average over all the `NSample` trajectories generated. By simulation or otherwise, estimate $x_{ave}$ and $\\sigma^2$ after evolving the dynamics () for:   \n",
    " a) $10^2$ steps and NSample = $10^2$  \n",
    " b) $10^4$ steps and NSample = $10^2$  \n",
    " c) $10^4$ steps and NSample = $10^4$  \n",
    " d) $10^6$ steps and NSample = $10^2$  \n",
    " e) $10^6$ steps and NSample = $10^4$  \n",
    "   \n",
    "Question: How long does it take to compute all the values for the points b-e? Is there a better way than doing simulations to estimate these quantities?"
   ]
  },
  {
   "cell_type": "code",
   "execution_count": null,
   "metadata": {},
   "outputs": [],
   "source": [
    "# Your code here\n",
    "\n"
   ]
  }
 ],
 "metadata": {
  "kernelspec": {
   "display_name": "Python 3",
   "language": "python",
   "name": "python3"
  },
  "language_info": {
   "codemirror_mode": {
    "name": "ipython",
    "version": 3
   },
   "file_extension": ".py",
   "mimetype": "text/x-python",
   "name": "python",
   "nbconvert_exporter": "python",
   "pygments_lexer": "ipython3",
   "version": "3.7.2"
  }
 },
 "nbformat": 4,
 "nbformat_minor": 2
}
