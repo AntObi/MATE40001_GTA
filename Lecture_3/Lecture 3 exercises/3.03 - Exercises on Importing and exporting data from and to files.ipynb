{
 "cells": [
  {
   "cell_type": "markdown",
   "metadata": {},
   "source": [
    "## Importing data from external files\n",
    "\n",
    "**IMPORTANT**:\n",
    "For this exercise, you need to **download the ResistanceVsTime.txt** file in the same folder where you have also saved this notebooks. Make sure this is the case!\n",
    "\n",
    "**Quick summary**:  \n",
    "In many cases, you need to work with or plot data that are stored in an external file. Importing these data in Python can be done by using the `loadtxt()` function, which is part of the \n",
    "numpy package. To do that, you need first to load the package numpy with the same import command we have seen previously with the matplotlib library.\n",
    "\n",
    "```Python\n",
    "import numpy as np\n",
    "```\n",
    "\n",
    "After running the interpreter to read this command, you can import any datafile where data are separated in different columns and rows with the command:\n",
    "\n",
    "```Python \n",
    "data = np.loadtxt( 'name of file' [, skiprows = any integer ])\n",
    "```\n",
    "\n",
    "where:\n",
    "\n",
    "1. `name of file` is a string where you need to put the name of the file, including any extension. Note that if the file is not in the same directory/folder from which you launched the Jupyter Notebook, the whole 'address' should be included in the filename. For example, if the file myData.txt is under the directory /usr/Stefano/home/Desktop, 'name of file' should be '/usr/Stefano/home/Desktop/myData.txt'\n",
    "\n",
    "2. `skiprows` is an optional argument of the function `loadtxt`, and basically tells the Python interpreter to import all data but skipping a certain number of rows in the file ( which are often used to write comments about what the data represent ) \n",
    "\n",
    "An example (if you have the file on your Desktop):\n",
    "\n",
    "```Python\n",
    "import numpy as np  \n",
    "myData = np.loadtxt( \"h:/Desktop/ResistanceVsTime.txt\", skiprows = 3 )\n",
    "```\n"
   ]
  },
  {
   "cell_type": "code",
   "execution_count": null,
   "metadata": {},
   "outputs": [],
   "source": [
    "# Let's start to do some exercises with imports.\n",
    "\n",
    "# 1) open on your Desktop the datafile Viewers.txt provided and see\n",
    "# how it looks like. \n",
    "# 2) load the data in the file using the loadtxt function (remember \n",
    "# to skip the first two lines, they contain comments as you can see) \n",
    "# and print it: What do you see?\n",
    "\n",
    "\n"
   ]
  },
  {
   "cell_type": "code",
   "execution_count": null,
   "metadata": {},
   "outputs": [],
   "source": [
    "# When you use numpy.loadtxt the Python interpreter think that \n",
    "# the data in the datafile is represented by a 2D array of values. \n",
    "# Here we just need to know that in a 2D array, every number can \n",
    "# be accessed as in a list (which is similar, but not the same \n",
    "# thing at all, to a 1D array), by giving not just one but 2 indexes, \n",
    "# ( i, j ).\n",
    "# \"i\" is the index of its row and \n",
    "# \"j\" is the index of its column. \n",
    "\n",
    "# So for example the second number of the fourth column is data[1,3] \n",
    "# (remember, indexes in Python start from zero, not one!)\n",
    "# Here below, insert the command to print out the element in the \n",
    "# first row and first column. Check by looking at the Viewers.txt \n",
    "# that this is indeed correct\n",
    "\n",
    "\n"
   ]
  },
  {
   "cell_type": "code",
   "execution_count": null,
   "metadata": {},
   "outputs": [],
   "source": [
    "# IMPORTANT NOTE: To take a part of a 2D array, we can use splicing \n",
    "# like we did in lists: \n",
    "# data[ 1:-1, 0] for example means that we take all numbers that have \n",
    "# row index from 1 (included) until the last possible row (excluded), \n",
    "# whereas we take only those whose column index is 0"
   ]
  },
  {
   "cell_type": "code",
   "execution_count": null,
   "metadata": {},
   "outputs": [],
   "source": [
    "# print out the value of data[ :, 0] and compare with what you see \n",
    "# in the data file: What do you see? What are you printing? Is that \n",
    "# what you expected?\n",
    "\n"
   ]
  },
  {
   "cell_type": "code",
   "execution_count": null,
   "metadata": {},
   "outputs": [],
   "source": [
    "# If you have understood how to use it, you should be able to do the \n",
    "# following: Use splicing to print the whole first column of data in \n",
    "# Viewers.txt, but excluding the first and last value\n",
    "\n",
    "\n"
   ]
  },
  {
   "cell_type": "code",
   "execution_count": null,
   "metadata": {},
   "outputs": [],
   "source": [
    "# Now use splicing to print the whole first row of Viewers.txt\n",
    "\n",
    "\n"
   ]
  },
  {
   "cell_type": "code",
   "execution_count": null,
   "metadata": {},
   "outputs": [],
   "source": [
    "# Now use splicing to print the whole first row of myData, but taking \n",
    "# values only every two columns\n",
    "\n",
    "\n"
   ]
  },
  {
   "cell_type": "markdown",
   "metadata": {},
   "source": [
    "## Exporting data to a file\n",
    "\n",
    "We talked about importing data, what about exporting them? To do this, we need to use the `open()` function. The typical declaration for the open function is:\n",
    "\n",
    "```Python\n",
    "myFile = open( 'name_of_file', 'w+')\n",
    "```\n",
    "\n",
    "where:\n",
    "1. `name_of_file` is the name of the file, including its extension (say, .pdf, .txt, .mov). Note that if the file is not in the same directory from which you open your Jupyter notebook, the name of the file must include the **full path** to its location. For example, if you save it in your Desktop, and your file is \"data.txt\", name_of_file = /Usr/yourName/Desktop/data.txt  (on a Mac)\n",
    "\n",
    "2.  The keyword `w+` means that you can both read and write the file. If you used the keyword `r` instead you would only be able to read the data in that file, but not write on it. **Note**: If `name_of_file` does not exist and you have the `w+` option set, a file with name 'name_of_file' will be created in the current directory.\n",
    "\n",
    "Once myFile has been declared, writing into the file is as easy as:\n",
    "\n",
    "```Python\n",
    "myFile.write( \"Whatever you want to write. Use the symbol '\\n' to go to the next line!\")\n",
    "```\n",
    "\n"
   ]
  },
  {
   "cell_type": "code",
   "execution_count": null,
   "metadata": {},
   "outputs": [],
   "source": [
    "# (Very simple) Exercise: Create a file called Example.txt and write \n",
    "# on the first line \"I like programming\" and on the second line \"LOL\"\n",
    "\n",
    "\n"
   ]
  },
  {
   "cell_type": "code",
   "execution_count": null,
   "metadata": {},
   "outputs": [],
   "source": [
    "# Exercise: Create a file called ClicksOnly.txt and write on the \n",
    "# first line a comment of your choice. Then on each line write the \n",
    "# value reported in the Clicks column of the Viewers.txt file of \n",
    "# the examples above. (Use a for or while loop to do this...)\n",
    "\n",
    "\n",
    "\n"
   ]
  }
 ],
 "metadata": {
  "kernelspec": {
   "display_name": "Python 3",
   "language": "python",
   "name": "python3"
  },
  "language_info": {
   "codemirror_mode": {
    "name": "ipython",
    "version": 3
   },
   "file_extension": ".py",
   "mimetype": "text/x-python",
   "name": "python",
   "nbconvert_exporter": "python",
   "pygments_lexer": "ipython3",
   "version": "3.7.2"
  }
 },
 "nbformat": 4,
 "nbformat_minor": 2
}
