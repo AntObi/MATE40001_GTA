{
 "cells": [
  {
   "cell_type": "markdown",
   "metadata": {},
   "source": [
    "***IMPORTANT NOTE***:  \n",
    "In order to do some of these exercises, you will have to dig into the lecture notes in the relevant section (lecture 3).  \n",
    "\n",
    "**Quick summary**  \n",
    "In this notebook, we will explore the use of the \"matplotlib.pyplot\" library (and a little bit of the numpy library).\n",
    "\n",
    "Matplotlib, or better one of its subpackages matplotlib.pyplot, is a library for plotting high-quality graphs of very high complexity, including legends, symbols, different curves and axis, different style of plotting and so on...we are going to explore part of it here. \n",
    "\n",
    "The full Matplotlib library is gigantic and I recommend you to have a look at the full documentation (including various examples of what can be done with this library) [here](https://matplotlib.org/api/_as_gen/matplotlib.pyplot.plot.html#matplotlib.pyplot.plot)\n"
   ]
  },
  {
   "cell_type": "code",
   "execution_count": null,
   "metadata": {},
   "outputs": [],
   "source": [
    "# First thing to do, you have to import the specific packgage. \n",
    "# So run this cell to import the library! If you do not run the cell, you won't be able to \n",
    "# complete the rest of the notebook (because Python will complain and say he does not find/recognise \n",
    "# the functions we are going to use, which are part of the library)\n",
    "\n",
    "import matplotlib.pyplot as plt"
   ]
  },
  {
   "cell_type": "markdown",
   "metadata": {},
   "source": [
    "Now that we have imported the library, let us have a look at the simplest possible\n",
    "graph we can plot, a \"line plot\". This is nothing but a line connecting points whose \n",
    "coordinates ( x, y ) are given as two separate lists of numbers, one for the x values \n",
    "and one for the corresponding y values.  \n",
    "\n",
    "Line plots can be done simply by calling the function \"plot\". \n",
    "You should remember that the general command for calling a function inside a package is:\n",
    "\n",
    "```Python\n",
    "alias.name_Of_Function( list of arguments / inputs )\n",
    "```\n",
    "\n",
    "In this specific case, the command is:\n",
    "\n",
    "```Python\n",
    "plt.plot([x], [y], [fmt], **kwargs)\n",
    "```\n",
    "\n",
    "where:\n",
    "\n",
    "1. [ x ] : is a list of values for the \"independent\" x variable. This argument is optional and, if not given, \"plot\" assumes it is a list of integeres starting from 0 and increasing by one up to len( y ), the length of the list of y values  \n",
    "\n",
    "2. [y] : is a list of values for the \"dependent\" y variable  \n",
    "\n",
    "3. [ fmt ] : is the \"format\" for plotting. Again, this is an optional argument (which is why it appears in the documentation between square brakets []). Format has as values a string which describes how to plot the (x,y) points.  Let me write a couple of formats here, but you should google the documentation at the link above to get a full list:\n",
    "    - fmt = 'go-' plots points as green circles (the letter \"o\" is a circle!) (\"go\") connected by a line (-)\n",
    "    - fmt = 'rs' plots points as red squares (\"rs\")\n",
    "    - fmt = 'bo-' plots points as blue circles (\"go\") connected by a line (-)  \n",
    "\n",
    "4. kwargs: these are keyword arguments that can be used to further control the graph. Again, for a full list and all possible values check the documentation at the link above. Here I will give only a couple of very common types:\n",
    "    -  linewidth = float number : provides the width of the line connecting the points, if it exists  \n",
    "    - label = string: provides the label for the corresponding line in the legend of the graph. Note that for the legend to be displayed the command  \n",
    "                      \n",
    "**IMPORTANT NOTE 1**: The command plt.legend() **must appear after the plt.plot command** or the legend will not be displayed.  \n",
    "\n",
    "**IMPORTANT NOTE 2**: The final command must be plt.show() if you want to display the graph. If not, you will have created a graph (or, better, a Python object describing a graph) but it will remain in the memory of your computer, which is probably not really useful for visualisation!  \n",
    "\n",
    "Let us now see a few examples by running the Python intepreter to check what happens!"
   ]
  },
  {
   "cell_type": "code",
   "execution_count": null,
   "metadata": {},
   "outputs": [],
   "source": [
    "# Before running think: What would you expect to see in this plot? \n",
    "# What does the y list correspond to ( see declaring list using for loops at \n",
    "# the end of section 2.2.2 )\n",
    "\n",
    "# As an exercise, modify the format to have the same curve plotted \n",
    "# 1) as red squares connected by lines, \n",
    "# 2) as blue squares NOT connected by lines\n",
    "\n",
    "x = range( 10 )  \n",
    "y = [ i**2 for i in x ]\n",
    "y2 = [ i**2 / 4 for i in x ]\n",
    "plt.plot( x, y, 'go-',label = 'My data')\n",
    "#plt.legend()   #: UNCOMMENT THIS LINE to see the legend!\n",
    "plt.show()"
   ]
  },
  {
   "cell_type": "code",
   "execution_count": null,
   "metadata": {},
   "outputs": [],
   "source": [
    "# If you need to plot multiple data sets, there are different ways to do it.\n",
    "# The best way is to call the plot function multiple times:\n",
    "\n",
    "x = range( 10 )  \n",
    "y = [ i**2 for i in x ]\n",
    "y2 = [ i**2 / 4 for i in x ]\n",
    "plt.plot( x, y, 'go-',label = 'First set of data', linewidth = 1.0 )\n",
    "plt.plot( x, y2, 'rs-',label = 'Second set of data', linewidth = 4.0) \n",
    "#Note the second line is thicker, controlled by linewidth\n",
    "plt.legend()\n",
    "plt.show()"
   ]
  },
  {
   "cell_type": "code",
   "execution_count": null,
   "metadata": {},
   "outputs": [],
   "source": [
    "# Naming axes and giving a title to the plot is also very easy:\n",
    "# Just use the functions:\n",
    "\n",
    "# plt.xlabel( 'Name of x axe' )\n",
    "# plt.ylabel( 'Name of y axe' )\n",
    "# plt.title('Title of graph')\n",
    "\n",
    "# See the example here. Also, uncomment the 'plt.grid(True)' command \n",
    "# (by removing the # symbol) to see what is the effect with or without it!\n",
    "\n",
    "x = range( 10 )  \n",
    "y = [ i**2 for i in x ]\n",
    "plt.plot( x, y, 'go-',label = 'First set of data', linewidth = 1.0 )\n",
    "plt.legend()\n",
    "plt.xlabel('Time ( s )')\n",
    "plt.ylabel('Power ( W )')\n",
    "plt.title('Dissipated power as a function of time')\n",
    "#plt.grid( True )\n",
    "plt.show()"
   ]
  },
  {
   "cell_type": "code",
   "execution_count": null,
   "metadata": {},
   "outputs": [],
   "source": [
    "# If you have understood the previous part, you should be able to do \n",
    "# the following:\n",
    "\n",
    "# 1) The survival probability as a function of time si given by the formula:\n",
    "# p( t ) = exp( - t / tau ), where tau is a positive constant.\n",
    "\n",
    "# Plot two graphs on the same plot. Both are p( t ) for t between [ 0, 4 tau ], but \n",
    "# tau must be equal to 1.0 and 10.0 for the two different series\n",
    "\n",
    "# Make the points connected by a thick red line. The points in the series must be \n",
    "# plotted as squares\n",
    "\n",
    "# Name x-axes as Time ( s )\n",
    "# Name y-axes as Probability \n",
    "# Do not put any title\n",
    "# In the legend, the first graph should be named \"tau = 1.0 s\", the second \"tau = 10.0 s\"\n",
    "\n",
    "# First we need to import the math package to access the function math.exp(x) to take \n",
    "# the exponential of x\n",
    "import math\n",
    "\n",
    "\n"
   ]
  },
  {
   "cell_type": "code",
   "execution_count": null,
   "metadata": {},
   "outputs": [],
   "source": [
    "# In various cases, you might not want to plot on a linear scale, but on a logarithmic \n",
    "# scale, where the distance between points on the x or y axes is the same for points\n",
    "# whose ratio is constant.\n",
    "# This case usually happens if the values of your x and y values span many\n",
    "# orders of magnitude. \n",
    "\n",
    "# You can easily change the scale of the y or x axes by adding the command:\n",
    "\n",
    "# plt.yscale( type ) ( or, equivalently, plt.xscale( type ) )\n",
    "\n",
    "# where 'type' should be replaced with either the string \"linear\" or \"log\".\n",
    "# Note that by default if the command is not given the scale is taken to be linear always\n",
    "\n",
    "# Exercise: Replot the previous graph for p( t ) above using a log-scale on the y axes\n",
    "# and a linear one on the x-axes. Is this what you expected?\n",
    "\n",
    "\n"
   ]
  },
  {
   "cell_type": "markdown",
   "metadata": {},
   "source": [
    "### Saving graphs\n",
    "\n",
    "Obviously, you might want to save the result of your plots. This can be done by simply using the function savefig in the following way:\n",
    "\n",
    "```Python\n",
    "plt.savefig( name of plot [, dpi = definition ] )\n",
    "```\n",
    "\n",
    "Where: \n",
    "1. 'name of plot' should have an extension declaring the format of the graph to be saved. This could be simply any of the typical extension for image files, such as \".jpg\",\".jpeg\",\".png\" or \".pdf\"\n",
    "2. \"dpi\" is an optional argument. The default value is 100, but you can change it. dpi refers to the number of pixel per area, the higher it is,the better will be the definition of the figure (but the larger the file in terms of memory used).\n",
    "\n",
    "**VERY IMPORTANT NOTE**  \n",
    "If you want to save the figure, you need to use the savefig command\n",
    "**before** you use the show() command. If not, a blank figure will be saved.  \n",
    "\n",
    "Try and run the next cell. It should generate a graph that you will be able to find in the \n",
    "same folder where you saved these exercises in your computer!"
   ]
  },
  {
   "cell_type": "code",
   "execution_count": null,
   "metadata": {},
   "outputs": [],
   "source": [
    "x = range( 10 )  \n",
    "y = [ i**2 for i in x ]\n",
    "plt.plot( x, y, 'go-',label = 'First set of data', linewidth = 1.0 )\n",
    "plt.legend()\n",
    "plt.xlabel('Time ( s )')\n",
    "plt.ylabel('Power ( W )')\n",
    "plt.title('Dissipated power as a function of time')\n",
    "#plt.grid( True )\n",
    "plt.savefig( \"MyGraph.jpeg\", dpi = 200)\n",
    "plt.show()\n",
    "plt.close()\n"
   ]
  },
  {
   "cell_type": "markdown",
   "metadata": {},
   "source": [
    "### Adding labels to graphs\n",
    "\n",
    "Sometimes you might want to place some labels inside a plot, for \n",
    "example to highlight once specific point. This can be done by the function text:\n",
    "\n",
    "```Python\n",
    "plt.text( x, y, 'text to be inserted' [, fontdict = a dictionary with style ] )\n",
    "```\n",
    "\n",
    "where: \n",
    "- x and y are the coordinates of the beginning of the text to be inserted\n",
    "- 'text to be inserted' is a simple string with the text.\n",
    "- fontdict is an optional argument specifying the style of the text. This style can be controlled with a Python dictionary, for example:  \n",
    "\n",
    "font = {'family': 'serif',\n",
    "        'color':  'darkred',\n",
    "        'weight': 'normal',\n",
    "        'size': 16,\n",
    "        }\n",
    "\n",
    "where family, color, weight and size control the type of font used, the color, the weight and the fontsize.\n",
    "\n",
    "Let us try by running the next cell. It contains the previous example, but here we \n",
    "want to put two extra labels inside the plot next to two specific point (Note tha text() can be called as many times as one wants!)"
   ]
  },
  {
   "cell_type": "code",
   "execution_count": null,
   "metadata": {},
   "outputs": [],
   "source": [
    "\n",
    "x = range( 10 )  \n",
    "y = [ i**2 for i in x ]\n",
    "plt.plot( x, y, 'rs-',label = 'First set of data', linewidth = 1.0 )\n",
    "plt.legend()\n",
    "plt.xlabel('Time ( s )')\n",
    "plt.ylabel('Power ( W )')\n",
    "plt.title('Dissipated power as a function of time')\n",
    "plt.text(3.3, 8., \"This point is 9\")\n",
    "plt.text(4.3, 15.0, \"This point is 16\")\n",
    "plt.savefig( \"MyGraph.jpeg\", dpi = 200)\n",
    "plt.show()\n",
    "plt.close()"
   ]
  },
  {
   "cell_type": "code",
   "execution_count": null,
   "metadata": {},
   "outputs": [],
   "source": [
    "# Take the example above and modify it to print on top of the graph a dashed horizontal line at\n",
    "# Power  = 50. You can do that for example by printing a dash ( - ) various times...or use\n",
    "# loops:\n",
    "\n"
   ]
  },
  {
   "cell_type": "code",
   "execution_count": null,
   "metadata": {},
   "outputs": [],
   "source": [
    "# Use a while loop to print the above graph but where next to each point you also print \n",
    "# its value. Basically, just put a label with the right number right next to it using the \n",
    "# text() command and a while loop, try!\n",
    "\n",
    "\n"
   ]
  }
 ],
 "metadata": {
  "kernelspec": {
   "display_name": "Python 3",
   "language": "python",
   "name": "python3"
  },
  "language_info": {
   "codemirror_mode": {
    "name": "ipython",
    "version": 3
   },
   "file_extension": ".py",
   "mimetype": "text/x-python",
   "name": "python",
   "nbconvert_exporter": "python",
   "pygments_lexer": "ipython3",
   "version": "3.7.2"
  }
 },
 "nbformat": 4,
 "nbformat_minor": 2
}
