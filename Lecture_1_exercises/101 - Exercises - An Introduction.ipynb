{
 "cells": [
  {
   "cell_type": "code",
   "execution_count": 1,
   "metadata": {},
   "outputs": [],
   "source": [
    "import emoji"
   ]
  },
  {
   "cell_type": "markdown",
   "metadata": {},
   "source": [
    "# AN IMPORTANT AND GENERAL RECOMMENDATION:  \n",
    "Exercises sometime repeat, (even a bit pedantically I admit!) some of the concepts found in the lecture notes.\n",
    "\n",
    "However, besides being the tool to **practice** some programming, **exercises do not contain all the material required to properly understand them**. \n",
    "\n",
    "In other words, exercises are only supposed to complement the notes, not to replace them. For this reason, you should **always read the notes first before digging into the exercises**, however easy they might look!\n",
    "\n",
    "------------------------------------------------------------------------------------------\n",
    "------------------------------------------------------------------------------------------"
   ]
  },
  {
   "cell_type": "markdown",
   "metadata": {},
   "source": [
    "# INTRODUCTION\n",
    "\n",
    "This first Jupyter notebook is just to see some common aspects of this platform, get you acquainted with their use and start to see some very basic Python expressions. Having said that, there are a few, possibly quite useful gems here and there even in the simplest exercise, as well as clickable url links that could be useful to better understand some of the details, which we might not otherwise cover (for example, here is the wikipedia link to the [History of Python](https://en.wikipedia.org/wiki/Python_(programming_language)#:~:text=Python%20was%20conceived%20in%20the,implementation%20began%20in%20December%201989.) )  \n",
    "\n",
    "In the following, we will start to see a couple of very general features of Python programming, using as an example simple code where basically you will only encounter the simplest data types:  \n",
    "- **integers** (integer numbers)  \n",
    "- **floats** ( our *best possible representation* of real numbers, given the finite precision available on a computer [You might want to check here](https://docs.python.org/3/tutorial/floatingpoint.html)). \n",
    "- **strings** (although in a very limited way, we'll pick them up again later)"
   ]
  },
  {
   "cell_type": "markdown",
   "metadata": {},
   "source": [
    "# Assign values to variables\n",
    "\n",
    "To do this, you just need the command:\n",
    "\n",
    "`variable_name = a`\n",
    "\n",
    "where variable_name is any *alphanumerical string*. In Python, this means any sequence of letters and numbers, but not (usually) symbols such as \"+ - ; , * &\" and `a` is *any valid expression whose value can be evaluated* by the Python interpreter...\n",
    "\n",
    "What does this exactly mean??? In practice, it means that the Python interpreter needs to be able to evaluate the value of `a`. By default, a Python interpreter \"understands\" numbers, strings of characters (but they need to be put within quotation marks `\"\"` or `''`) and their composition into expression (for example, using the classical mathematical operators such as + (plus), - (minus), * (multiplied by), / (divided by), ** (elevate to the power of). Actually, you can do much more than that but for now, let us keep this simple.  \n",
    "\n",
    "For example, you might want to assign the value `1` to the variable `myVar`. For this, you just need to write:\n",
    "\n",
    "` a = 1 # In this case 'a' is an integer`\n",
    "\n",
    "If instead you want to tell the Python interpreter (the program that reads your Python code and translates it into machine-understandable instructions) that `a` is actually a floating point number with value `1`, you would have to write:\n",
    "\n",
    "` a = 1.0 # In this case 'a' is a floating point representation of a real number`"
   ]
  },
  {
   "cell_type": "markdown",
   "metadata": {},
   "source": [
    "Now **go on the cell below** (where you see a [snippet](https://en.wikipedia.org/wiki/Snippet_(programming)) of a Python program ) and **click** `▶ Run` to execute the Python interpreter, which will then assign the values to the different variables appearing.\n",
    "\n",
    "Note that to run a *cell* ( a separated space with code inside ), you need to first select it with your mouse cursor, then click \"▶ Run\" that you find right below the Jupyter notebook menu above. \n",
    "\n",
    "Another route to do the same using your keyboard only is to check in the `Cell` window in the Jupyter menu abovee what is the keyboard shortcut to do it (it is going to be faster!)."
   ]
  },
  {
   "cell_type": "code",
   "execution_count": 1,
   "metadata": {},
   "outputs": [],
   "source": [
    "a = 2\n",
    "b = 4\n",
    "aa = 2.0\n",
    "bb = aa * 2 # bb is assigned twice the value of aa\n",
    "cc = aa ** 3 # bb is aa to the power of 3"
   ]
  },
  {
   "cell_type": "markdown",
   "metadata": {},
   "source": [
    "You saw that nothing *seems* to have happened...but it actually did. How do we know if it really worked? We could, for example, ask the program to print the values of those variables.   \n",
    "This can be done via the `print` command.  \n",
    "\n",
    "# Printing \n",
    "\n",
    "If you want to ask the Python interpreter to print the value of any variable, \n",
    "you can do this with the \"print\" command. Note the syntax:\n",
    "\n",
    "```print( name_of_variable )```\n",
    "\n",
    "where the variable to be printed must be given within parenthesis (this is because, as you shall see later in the \n",
    "course, ```print``` is basically a **function**). Actually, `print()` can take a list of variables, separated by commas \",\" and will print them one after the other.\n",
    "\n",
    "Go into the following cell and click Run to execute it to see what happens:  "
   ]
  },
  {
   "cell_type": "code",
   "execution_count": null,
   "metadata": {},
   "outputs": [],
   "source": [
    "a = 4\n",
    "b = a * a \n",
    "print( \"The value of b is:\", b )"
   ]
  },
  {
   "cell_type": "markdown",
   "metadata": {},
   "source": [
    "What you should note in the previous cell is that, effectively, the string \n",
    "`\"The value of b is\"`\n",
    "is interpreted as a variable, whose value is then printed right before the value of the next variable, `b`."
   ]
  },
  {
   "cell_type": "markdown",
   "metadata": {},
   "source": [
    "# How does the Python interpreter read the code?\n",
    "\n",
    "The Python interpreter **reads the code and execute it sequentially line by line**.  \n",
    "So, in the previous example, after reading the first line the interpreter assigned the value of '2' to the variable 'a'. After the second line, it also assigned the value '4' to the variable 'b', and so on. \n",
    "\n",
    "This sequential execution in Python is actually a very powerful and useful feature for coding because if there is an instruction the interpreter does not understand, it will stop and print an **Error Message**. \n",
    "\n",
    "The error message will tell you both at which line the problem was encountered, as well as what is the nature of the problem. **Always try at least to understand the error message before asking why your code is wrong**, it is important if you want to learn and to become independent!\n",
    "\n",
    "Note that not all programming languages work in the same way as Python does. For example, C++ or Fortran first read the whole code, compils it and then you can execute the commands. You can find more information reading about these differences in [Intepreted vs Compiled languages] (https://www.freecodecamp.org/news/compiled-versus-interpreted-languages/).  \n",
    "\n",
    "In the next cell, we are going to see what raising an error means in practice with an example. As usual, you can execute the code by going to the next cell with your mouse cursors and then click Run (there are also [keyboard shortcut](https://towardsdatascience.com/jypyter-notebook-shortcuts-bf0101a98330) which you definitely might want to check to be faster! On a Mac for example you can run the program by simply clicking into the cell and then press the Command Key and the Return Key). However, ***before doing this please read the code and write down what you expect!***"
   ]
  },
  {
   "cell_type": "code",
   "execution_count": null,
   "metadata": {},
   "outputs": [],
   "source": [
    "a = 4\n",
    "b = a * a \n",
    "print( \"The value of b is:\", b )\n",
    "b = a / 10.0\n",
    "print( \"The value of b has now changes! Its value is:\", b )\n",
    "b = c #This will cause a problem...but why? "
   ]
  },
  {
   "cell_type": "markdown",
   "metadata": {},
   "source": [
    "# Annotations\n",
    "    \n",
    "One thing you might have noticed in some of the previous cells is the symbol `#`.  \n",
    "When you find it in a Python command, **all that is written on the same line after # IS IGNORED** by the Python interpreter. This is very useful if you want to make annotations to your code, for example, to explain in plain words what some part of the code is meant to do."
   ]
  },
  {
   "cell_type": "markdown",
   "metadata": {},
   "source": [
    "The next 3 cells are blank...let's fill them (and in the meanwhile, let's see a couple of things about Jupyter notebooks!).  \n",
    "Write the code to:  \n",
    "- 1) Assign a values (whatever you want) to the variables `a, b, aa` and `bb`\n",
    "- 2) Print the value of `a` divided by `b`.  \n",
    "- 3) Print the value of `aa` divided by `bb`  \n",
    "- 4) Just *calculate* the value of `a` divided by `bb`\n",
    "\n",
    "To execute the code, you need to go in each single cell and run them sequentially. This is because when you press Run, the Python interpreter in Jupyter only reads and execute a single cell.\n",
    "\n",
    "Alternatively, if you want to execute the commands in all the cells below a certain one, you can click `Cell` above from the Jupyter notebook Menu and select `Run All Below`. **Try by yourself!**"
   ]
  },
  {
   "cell_type": "code",
   "execution_count": null,
   "metadata": {},
   "outputs": [],
   "source": [
    "#Fill the code here for instruction 1)\n"
   ]
  },
  {
   "cell_type": "code",
   "execution_count": null,
   "metadata": {},
   "outputs": [],
   "source": [
    "#Fill the code here for instruction 2)\n"
   ]
  },
  {
   "cell_type": "code",
   "execution_count": null,
   "metadata": {},
   "outputs": [],
   "source": [
    "#Fill the code here for instruction 3)\n"
   ]
  },
  {
   "cell_type": "code",
   "execution_count": null,
   "metadata": {},
   "outputs": [],
   "source": [
    "#Fill the code here for instruction 4)\n"
   ]
  },
  {
   "cell_type": "markdown",
   "metadata": {},
   "source": [
    "# Restarting the Kernel\n",
    "\n",
    "Once you run a cell, all the instructions contained in it are remembered by the Python interpreter.    \n",
    "For example, the interpreter will remember that you have assigned a certain value to the variable `bb` (a few cells above) and can use it in calculating expressions involving it. However, sometimes you might want to start from scratch and tell the interpreter to forget all about it was told. \n",
    "\n",
    "We can clean the memory and restart from scratch by *Restarting the Kernel* (For a definition of what is a Kernel in **programming** jargon, read [here](https://en.wikipedia.org/wiki/Kernel_(operating_system))).  To do that, you have to click `Kernel` from the Jupyter notebook menu above and then select one of the Restart options:\n",
    "- `Restart`, which just restarts the Kernel \n",
    "- `Restart and Clear Output`, which restarts the Kernel and clear all of the previous output from a cell.\n",
    "- `Restart and Run All`, which restarts the Kernel and then re-runs all the cells in the entire notebook.  \n",
    "\n",
    "In the following cell, write a code to print the value of 3 times the variable `bb` calculated in the cell above, then experiment with different restart options to see what happens!"
   ]
  },
  {
   "cell_type": "code",
   "execution_count": null,
   "metadata": {},
   "outputs": [],
   "source": [
    "#Fill code here\n",
    "\n"
   ]
  },
  {
   "cell_type": "markdown",
   "metadata": {},
   "source": [
    "Let us close by having a first quick look at a practical and important difference between integers and floats. \n",
    "From a numerical standpoint, that is, to perform the calculation of numerical expressions, integers and floats are treated in the same way and will give the same value (note that this is not true in Python 2, only from Python 3! check the part about **integer division** [here](https://sebastianraschka.com/Articles/2014_python_2_3_key_diff.html) ).  \n",
    "\n",
    "However, even in Python 3 there are still some notable differences between integers and floats, mainly because **some Python instructions can ONLY accept integers**.\n",
    "\n",
    "Take the following example (you will find additional ones in later exercises): If `a` is a variable of type list, then `a[ i ]` returns the *i-th* element of the list.\n",
    "\n",
    "In the following cell, a code is written to print out the second element of the list `myList` (this is element 1, as numbering in Python starts from 0!).  \n",
    "Run the code in the cell, then replace `i = 1` (so `i` is an integer) with `i = 1.0` (`i` declared as a float) and run it again to see what happens!\n"
   ]
  },
  {
   "cell_type": "code",
   "execution_count": null,
   "metadata": {},
   "outputs": [],
   "source": [
    "i = 1\n",
    "\n",
    "myList = [ 1, 2, 3 ] #This is the way to declare a list\n",
    "\n",
    "print( myList[ i ] )\n"
   ]
  },
  {
   "cell_type": "markdown",
   "metadata": {},
   "source": []
  }
 ],
 "metadata": {
  "kernelspec": {
   "display_name": "Python 3",
   "language": "python",
   "name": "python3"
  },
  "language_info": {
   "codemirror_mode": {
    "name": "ipython",
    "version": 3
   },
   "file_extension": ".py",
   "mimetype": "text/x-python",
   "name": "python",
   "nbconvert_exporter": "python",
   "pygments_lexer": "ipython3",
   "version": "3.7.2"
  }
 },
 "nbformat": 4,
 "nbformat_minor": 2
}
