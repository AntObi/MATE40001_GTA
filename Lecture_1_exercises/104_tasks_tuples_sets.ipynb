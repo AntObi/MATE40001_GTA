{
 "cells": [
  {
   "cell_type": "markdown",
   "metadata": {},
   "source": [
    "**IMPORTANT NOTE:** \n",
    "In order to do some of these exercises, you might have to dig into the lecture notes in the relevant section!  \n",
    "In this notebook, we will explore the properties of the data types called \"tuples\" and \"sets\". These are described in Lecture notes 1.04 and 1.05.\n",
    "\n",
    "\n",
    "**Quick Summary:**  \n",
    "\n",
    "A **set** is a collection, without any specific order, of distinct and heterogeneous ( = not necessarily of the same type ) variables. The elements of a set must be declared within brakets {}, separated by a comma, or using the set() command. Examples:\n",
    "\n",
    "```Python\n",
    "myVariable = { 1, 2, 34 } or\n",
    "myVariable = set( [ 1, 2, 34 ] )\n",
    "```\n",
    "\n",
    "Sets have the same properties you would expect for a mathematical set, so you can do unions,\n",
    "intersections, and so on.  \n",
    "\n",
    "A **tuple** is very similar to a list, but its element once set cannot be changed. For this reason, all operations that you have seen on list can be done on tuples as well, except those that change the elements in a list (with the only exception of adding an element at the end of the tuple, which can be done as in lists). \n",
    "A tuple declaration is:\n",
    "\n",
    "```Python\n",
    "myTuple = ( 1, 2, 3 ) or,\n",
    "myTuple = tuple( [ 1, 2, 3 ] )\n",
    "```\n",
    "\n",
    "**Note:** A tuple with a single element must be declared using a comma at the end:\n",
    "```Python\n",
    "myTuple = ( 1, )  \n",
    "```\n",
    "\n",
    "and **NOT** as \n",
    "\n",
    "```Python\n",
    "myTuple = ( 1 )\n",
    "```"
   ]
  },
  {
   "cell_type": "code",
   "execution_count": null,
   "metadata": {},
   "outputs": [],
   "source": [
    "mySet = { 1, 2, 2, 2, 3, 3, 4, 5 }\n",
    "mySet2 = { 4, 5, 6 }"
   ]
  },
  {
   "cell_type": "code",
   "execution_count": null,
   "metadata": {},
   "outputs": [],
   "source": [
    "#After running the Python interpreter in the previous cell, \n",
    "# run it on the cells below to check what happens"
   ]
  },
  {
   "cell_type": "code",
   "execution_count": null,
   "metadata": {
    "scrolled": true
   },
   "outputs": [],
   "source": [
    "# ...what do you see here? Remember the definition of set!\n",
    "print( mySet )\n"
   ]
  },
  {
   "cell_type": "code",
   "execution_count": null,
   "metadata": {},
   "outputs": [],
   "source": [
    "# What about here? Can you add sets?\n",
    "print( mySet + mySet2 )\n"
   ]
  },
  {
   "cell_type": "code",
   "execution_count": null,
   "metadata": {},
   "outputs": [],
   "source": [
    "# What about here? Can what does it mean to make the difference \n",
    "# between sets? \n",
    "print( mySet - mySet2 )\n",
    "\n",
    "print( mySet2 - mySet )\n"
   ]
  },
  {
   "cell_type": "code",
   "execution_count": null,
   "metadata": {},
   "outputs": [],
   "source": [
    "# What about here? Can what you multiply sets? \n",
    "print( mySet * 2 )\n"
   ]
  },
  {
   "cell_type": "markdown",
   "metadata": {},
   "source": [
    "Use the documentation trick (see lecture notes 1.03) to retrieve the documentation for the following operations that can be run on sets and print it out. Also, make a mental note of each of these commands or \n",
    "write them down somewhere!  \n",
    "\n",
    "Please be careful: different operations can have different syntaxes and admit as input different objects / variables, so try to understand and write the full syntax!\n",
    "\n",
    "- .union \n",
    "- .intersection\n",
    "- .issubset \n",
    "- .isdisjoint\n",
    "- .copy\n",
    "- .remove\n",
    "- .add\n",
    "- .clear\n",
    "\n",
    "For this, you need first to declare `a` in the cell below as a set variable. "
   ]
  },
  {
   "cell_type": "code",
   "execution_count": null,
   "metadata": {},
   "outputs": [],
   "source": [
    "# Declare a as a set variable (by assigning it any random \n",
    "# value or using the set command, which can also be left \n",
    "# with empty brakets)\n",
    "a = "
   ]
  },
  {
   "cell_type": "code",
   "execution_count": null,
   "metadata": {},
   "outputs": [],
   "source": []
  },
  {
   "cell_type": "code",
   "execution_count": null,
   "metadata": {},
   "outputs": [],
   "source": [
    "# a.union\n"
   ]
  },
  {
   "cell_type": "code",
   "execution_count": null,
   "metadata": {},
   "outputs": [],
   "source": [
    "# a.intersection\n"
   ]
  },
  {
   "cell_type": "code",
   "execution_count": null,
   "metadata": {},
   "outputs": [],
   "source": [
    "# a.issubset\n"
   ]
  },
  {
   "cell_type": "code",
   "execution_count": null,
   "metadata": {},
   "outputs": [],
   "source": [
    "# a.isdisjoint\n"
   ]
  },
  {
   "cell_type": "code",
   "execution_count": null,
   "metadata": {},
   "outputs": [],
   "source": [
    "# a.copy\n"
   ]
  },
  {
   "cell_type": "code",
   "execution_count": null,
   "metadata": {},
   "outputs": [],
   "source": [
    "# a.remove\n"
   ]
  },
  {
   "cell_type": "code",
   "execution_count": null,
   "metadata": {},
   "outputs": [],
   "source": [
    "# a.add\n"
   ]
  },
  {
   "cell_type": "code",
   "execution_count": null,
   "metadata": {},
   "outputs": [],
   "source": [
    "# a.clear"
   ]
  },
  {
   "cell_type": "markdown",
   "metadata": {},
   "source": [
    "Run the Python interpreter in the cell below so as to assign a value to the `a`, `b` and `c` variables. \n",
    "Then use operations on sets from the exercise above and write the commands to:\n",
    "\n",
    "1. Print the intesection between set a and b\n",
    "2. Print the union between set a and b\n",
    "3. Using the comparison command == ( =  twice ), check if a and b are the same set\n",
    "4. Remove the element 5 from set c. What happens?\n",
    "5. Add again element 5 to set c, then check if a is a subset of c"
   ]
  },
  {
   "cell_type": "code",
   "execution_count": 3,
   "metadata": {},
   "outputs": [],
   "source": [
    "a = set( [ 1, 3, 4, 2, 2, 2, 2, 3, 4, 4, 4, 4 ] )\n",
    "b = { 1, 2, 3, 4 }\n",
    "c = { 1, 2, 3, 4, 5 }"
   ]
  },
  {
   "cell_type": "code",
   "execution_count": null,
   "metadata": {},
   "outputs": [],
   "source": [
    "# 1.\n"
   ]
  },
  {
   "cell_type": "code",
   "execution_count": null,
   "metadata": {},
   "outputs": [],
   "source": [
    "# 2.\n"
   ]
  },
  {
   "cell_type": "code",
   "execution_count": null,
   "metadata": {},
   "outputs": [],
   "source": [
    "# 3.\n"
   ]
  },
  {
   "cell_type": "code",
   "execution_count": null,
   "metadata": {},
   "outputs": [],
   "source": [
    "# 4.\n"
   ]
  },
  {
   "cell_type": "code",
   "execution_count": null,
   "metadata": {},
   "outputs": [],
   "source": [
    "# 5.\n"
   ]
  },
  {
   "cell_type": "code",
   "execution_count": null,
   "metadata": {},
   "outputs": [],
   "source": [
    "# Let's talk about the symbol \"=\" and sets to see what happens: Are sets copied by reference or by value? \n",
    "# Check the lecture notes!\n",
    "\n",
    "a = set( [ 1, 2, 3, 4, 5 ] )\n",
    "print( \"The initial value of a is: {0}\".format(a) )\n",
    "print( \"   \" )\n",
    "\n",
    "\n",
    "b = a\n",
    "b.remove(2)\n",
    "c = 2 in a \n",
    "print( \"is 2 in a: {0}\".format( c ) )\n",
    "print( \"The value of a is: {0}\".format(a) )\n",
    "print( \"   \" )\n",
    "\n",
    "b.add(45)\n",
    "print( \"The value of b is: {0}\".format(b) )\n",
    "print( \"The value of a is: {0}\".format(a) )\n",
    "print( \"   \" )\n",
    "\n",
    "b = a.copy()\n",
    "b.remove(1)\n",
    "print( \"The value of b is: {0}\".format(b) )\n",
    "print( \"The value of a is: {0}\".format(a) )\n",
    "print( \"   \" )"
   ]
  },
  {
   "cell_type": "markdown",
   "metadata": {},
   "source": [
    "Tuples are just like immutable lists...so I just ask you to check which of the list operations\n",
    "are also valid for this data type. To do that, add some cells below using the ➕ button from the Jupyter Menu, fill it with the necessary code and run it to see what happens. To do this, you should first declare a tuple, then try to apply the following commands and check the results:\n",
    "\n",
    "-  .extend \n",
    "-  .insert \n",
    "-  .sort\n",
    "-  .reverse\n",
    "-  .index\n",
    "-  .count\n",
    "\n",
    "**NOTE:**\n",
    "Python will give you an error both if you wrote the command in the wrong way (for example, because an input value is missing) or because that specific operation is not allowed on tuples. Read the error message to understand what happened and be careful. \n",
    "\n",
    "A question that you should ask yourself is the following: Why not all of the previous operations are allowed on tuples? Do you understand the logic behind it? "
   ]
  },
  {
   "cell_type": "code",
   "execution_count": null,
   "metadata": {},
   "outputs": [],
   "source": []
  }
 ],
 "metadata": {
  "kernelspec": {
   "display_name": "Python 3",
   "language": "python",
   "name": "python3"
  },
  "language_info": {
   "codemirror_mode": {
    "name": "ipython",
    "version": 3
   },
   "file_extension": ".py",
   "mimetype": "text/x-python",
   "name": "python",
   "nbconvert_exporter": "python",
   "pygments_lexer": "ipython3",
   "version": "3.7.2"
  }
 },
 "nbformat": 4,
 "nbformat_minor": 2
}
