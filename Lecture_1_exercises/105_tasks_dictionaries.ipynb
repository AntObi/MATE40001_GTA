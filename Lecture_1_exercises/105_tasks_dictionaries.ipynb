{
 "cells": [
  {
   "cell_type": "markdown",
   "metadata": {},
   "source": [
    "**IMPORTANT NOTE**:   \n",
    "In order to do some of these exercises, you might have to dig into the lecture notes in the relevant section. \n",
    "In this notebook, we will explore the properties of the data type called \"dictionaries\"\n",
    "These are described in Section 1.05 of the lecture notes\n",
    "\n",
    "**Quick Summary**  \n",
    "A **dictionary** is a collection, or better a **set**, of **key:value** pairs. \n",
    "Since it is a set of pairs, you can imagine after having seen sets that the \n",
    "declaration is exactly like for normal sets of elements, however, elements here\n",
    "come in pairs, separated by the colon \":\" sign. Example\n",
    "\n",
    "```Python\n",
    "dict1 = { 1:2, 3:\"hello\", \"a\":1 }\n",
    "```\n",
    "\n",
    "where `1`, `3` and `\"a\"` are the keys and `2`, `\"hello\"` and `1` the corresponding values.\n"
   ]
  },
  {
   "cell_type": "code",
   "execution_count": null,
   "metadata": {},
   "outputs": [],
   "source": [
    "# Let us first look at how we can declare sets, and put more and more key:value pairs. \n",
    "# Run this cell and see!\n",
    "myDict1 = { 1:\"a\", 2:\"b\", 3:\"c\"}\n",
    "print( \"Initially the set is: {0}\".format(myDict1 ) )\n",
    "print( \"  \" )\n",
    "myDict1[4] = \"d\"\n",
    "myDict1[\"a\"] = 4\n",
    "print( \"The set at the end is: {0}\".format(myDict1 ) )"
   ]
  },
  {
   "cell_type": "markdown",
   "metadata": {},
   "source": [
    "What do you notice if you run the Python interpreter in the cell above?\n",
    "Note that the element \"a\" and 4 are used as both **keys** and **values**!"
   ]
  },
  {
   "cell_type": "code",
   "execution_count": null,
   "metadata": {},
   "outputs": [],
   "source": [
    "# The value corresponding to any key can be retrieved by \n",
    "# simply typing DictionaryName[key]. \n",
    "# Try this here in this cell by writing the code to get \n",
    "# the value of the key \"a\" in myDict1 declared above.\n",
    "\n"
   ]
  },
  {
   "cell_type": "code",
   "execution_count": null,
   "metadata": {},
   "outputs": [],
   "source": [
    "# Our myDict1 variable contain the key:value pair 4:\"d\". \n",
    "# What happens if we declare it again? Would we add a second \n",
    "# definition for the key 4? ...run the Python interpreter \n",
    "# in this cell and check\n",
    "\n",
    "myDict1[4] = \"000\"\n",
    "print( \"mySet1 is now: {0}\".format(myDict1) )\n",
    "\n"
   ]
  },
  {
   "cell_type": "code",
   "execution_count": null,
   "metadata": {},
   "outputs": [],
   "source": [
    "# Equivalently, you can use the \"update\" function for \n",
    "# dictionaries, as in\n",
    "\n",
    "myDict1.update( {4:\"aaa\"} )\n",
    "print( \"mySet1 is now: {0}\".format(myDict1) )\n",
    "\n",
    "#Run the interpreter in this cell and see what happens\n"
   ]
  },
  {
   "cell_type": "code",
   "execution_count": null,
   "metadata": {
    "scrolled": true
   },
   "outputs": [],
   "source": [
    "# Can you add two dictionaries? Run the interpreter and see:\n",
    "myDict1 = { 1:2, 2:4, 3:6 }\n",
    "myDict2 = { 1:3, 2:6 }\n",
    "print( \"The sum of the dictionaries is {0}\".format( myDict1 + myDict2 ) )\n",
    "\n"
   ]
  },
  {
   "cell_type": "code",
   "execution_count": null,
   "metadata": {},
   "outputs": [],
   "source": [
    "# What if instead I try to use update again? Run the interpreter \n",
    "# and see.\n",
    "\n",
    "myDict1.update( myDict2 ) \n",
    "print( \"The sum of the dictionaries is {0}\".format( myDict1 ) )\n"
   ]
  },
  {
   "cell_type": "markdown",
   "metadata": {},
   "source": [
    "How does update work? If you still have not understood, use the documentation (or just read the notes!)"
   ]
  },
  {
   "cell_type": "markdown",
   "metadata": {},
   "source": [
    "Use the documentation trick to retrieve the documentation for the following operations that can be run on dictionaries and write it down. Same recommendations as for your previous similar exercises on lists and sets...\n",
    "\n",
    "Reminder: Please be careful: different operations can have different syntaxes and admit as input \n",
    "different objects / variables. Try to understand and write the full syntax.\n",
    "\n",
    "- .keys\n",
    "- .items \n",
    "- .values \n",
    "- .copy\n",
    "- .clear\n",
    "- .get\n",
    "\n",
    "For this, you need first to declare `a` below as a dictionary variable (choose whatever value you want, it is irrelevant here...)"
   ]
  },
  {
   "cell_type": "code",
   "execution_count": null,
   "metadata": {},
   "outputs": [],
   "source": [
    "a = "
   ]
  },
  {
   "cell_type": "code",
   "execution_count": null,
   "metadata": {},
   "outputs": [],
   "source": [
    "# a.keys\n"
   ]
  },
  {
   "cell_type": "code",
   "execution_count": null,
   "metadata": {},
   "outputs": [],
   "source": [
    "# a.items\n"
   ]
  },
  {
   "cell_type": "code",
   "execution_count": null,
   "metadata": {},
   "outputs": [],
   "source": [
    "# a.values\n"
   ]
  },
  {
   "cell_type": "code",
   "execution_count": null,
   "metadata": {},
   "outputs": [],
   "source": [
    "# a.copy (the fact that this function exists, should suggest something about the use of the symbol = when \n",
    "# using dictionaries! Are dictionaries copied by reference or value? )\n",
    "\n"
   ]
  },
  {
   "cell_type": "code",
   "execution_count": null,
   "metadata": {},
   "outputs": [],
   "source": [
    "# a.clear\n"
   ]
  },
  {
   "cell_type": "code",
   "execution_count": null,
   "metadata": {},
   "outputs": [],
   "source": [
    "# a.get\n"
   ]
  },
  {
   "cell_type": "markdown",
   "metadata": {},
   "source": [
    "Using the properties of dictionaries and the commands above (and if not, also check the lecture notes...), \n",
    "in the following cells write and run (sequentially) the commands to:\n",
    "\n",
    "0. Define the variable d1 to be the dictionary { 1:2, 2:\"a\", 3:99 } and d2 to be the dictionary { 4:5 }\n",
    "1. print out the value of the key 2 in d1 using get command\n",
    "2. print out the value of the key 2 in d1, **without** using the `get` command\n",
    "3. return a list of all the keys in d1\n",
    "4. return the value corresponding to the key 2 in d1, then remove this key:value pair\n",
    "5. add the key:value pair \"a\":890 to d2"
   ]
  },
  {
   "cell_type": "code",
   "execution_count": null,
   "metadata": {},
   "outputs": [],
   "source": [
    "# 0.\n"
   ]
  },
  {
   "cell_type": "code",
   "execution_count": null,
   "metadata": {},
   "outputs": [],
   "source": [
    "# 1.\n"
   ]
  },
  {
   "cell_type": "code",
   "execution_count": null,
   "metadata": {},
   "outputs": [],
   "source": [
    "# 2.\n"
   ]
  },
  {
   "cell_type": "code",
   "execution_count": null,
   "metadata": {},
   "outputs": [],
   "source": [
    "# 3.\n"
   ]
  },
  {
   "cell_type": "code",
   "execution_count": null,
   "metadata": {},
   "outputs": [],
   "source": [
    "# 4.\n"
   ]
  },
  {
   "cell_type": "code",
   "execution_count": null,
   "metadata": {},
   "outputs": [],
   "source": [
    "# 5.\n"
   ]
  },
  {
   "cell_type": "markdown",
   "metadata": {},
   "source": [
    "Quick Note / Reminder: You should have notices that, as for lists, dictionaries are also copied by **reference** using the symbol `=`\n"
   ]
  }
 ],
 "metadata": {
  "kernelspec": {
   "display_name": "Python 3",
   "language": "python",
   "name": "python3"
  },
  "language_info": {
   "codemirror_mode": {
    "name": "ipython",
    "version": 3
   },
   "file_extension": ".py",
   "mimetype": "text/x-python",
   "name": "python",
   "nbconvert_exporter": "python",
   "pygments_lexer": "ipython3",
   "version": "3.7.2"
  }
 },
 "nbformat": 4,
 "nbformat_minor": 2
}
