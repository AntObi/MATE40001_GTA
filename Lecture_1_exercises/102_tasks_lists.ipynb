{
 "cells": [
  {
   "cell_type": "markdown",
   "metadata": {},
   "source": [
    "**IMPORTANT NOTE**:  \n",
    "In order to do some of these exercises, you might have to dig into the lecture notes in the relevant section!\n",
    "\n",
    "In this notebook, we will explore the properties of the data type called \"list\", described in Section 1.4 of the lecture notes\n",
    "\n",
    "**Quick Summary:** \n",
    "A list is an \"ordered array of heterogeneous data type\". It means that a list variable is \n",
    "a series of other variables, whose data type can be any valid data type (for example, a string \n",
    "or an integer, or another list itself). This series has to be enclosed in square brakets, and \n",
    "each element separated by a comma. Examples:\n",
    "\n",
    "```Python\n",
    "myList = [ 1, 2, 3 ]\n",
    "myList = [ 1.0, 2.0, 3.0 ]\n",
    "myList = [ 1, 2, 3.0 ]\n",
    "myList = [ 1, \"my name\", 3.0, [ 2, 5 ] ]\n",
    "```"
   ]
  },
  {
   "cell_type": "code",
   "execution_count": null,
   "metadata": {},
   "outputs": [],
   "source": [
    "myList = [ 1, 2, 3, 4 ]\n",
    "myList2 = [ 7, 6, 5 ]"
   ]
  },
  {
   "cell_type": "markdown",
   "metadata": {},
   "source": [
    "After running the Python interpreter in the cell above (click on it first and then on the ▶ Run Symbol, or use the appropriate keyboard shortcut), run it on the cells below and check what happens...what do you see? Is the result what you would expect from reading the notes on lists. *Always think about the expected result **before** running the cell!* "
   ]
  },
  {
   "cell_type": "code",
   "execution_count": null,
   "metadata": {},
   "outputs": [],
   "source": [
    "print( myList * 4 )\n"
   ]
  },
  {
   "cell_type": "code",
   "execution_count": null,
   "metadata": {},
   "outputs": [],
   "source": [
    "print( myList + myList2 )\n"
   ]
  },
  {
   "cell_type": "code",
   "execution_count": null,
   "metadata": {},
   "outputs": [],
   "source": [
    "myList.append( [ 45 ] )\n",
    "print( myList )\n"
   ]
  },
  {
   "cell_type": "code",
   "execution_count": null,
   "metadata": {},
   "outputs": [],
   "source": [
    "print( myList[0] )\n"
   ]
  },
  {
   "cell_type": "code",
   "execution_count": null,
   "metadata": {},
   "outputs": [],
   "source": [
    "print( myList[-1] )\n"
   ]
  },
  {
   "cell_type": "markdown",
   "metadata": {},
   "source": [
    "If you have understood from the previous examples how to manipulate lists, complete the following\n",
    "*Otherwise read again the lecture notes first!*  \n",
    "\n",
    "In the following cells, write and run (sequentially) the commands to:\n",
    "\n",
    "1. Define the variable yourList to be the list [ 2, 3, \"a\", -1 ]\n",
    "2. print out the 2nd element of yourList \n",
    "3. print out the next-to-last element of yourList \n",
    "4. append the value 44 to the list\n",
    "5. concatenate the previous list with the list [ 0, 0, 0 ]\n"
   ]
  },
  {
   "cell_type": "code",
   "execution_count": null,
   "metadata": {},
   "outputs": [],
   "source": [
    "# 1.\n"
   ]
  },
  {
   "cell_type": "code",
   "execution_count": null,
   "metadata": {},
   "outputs": [],
   "source": [
    "# 2.\n"
   ]
  },
  {
   "cell_type": "code",
   "execution_count": null,
   "metadata": {},
   "outputs": [],
   "source": [
    "# 3.\n"
   ]
  },
  {
   "cell_type": "code",
   "execution_count": null,
   "metadata": {},
   "outputs": [],
   "source": [
    "# 4.\n"
   ]
  },
  {
   "cell_type": "code",
   "execution_count": null,
   "metadata": {},
   "outputs": [],
   "source": [
    "# 5.\n"
   ]
  },
  {
   "cell_type": "markdown",
   "metadata": {},
   "source": [
    "Let's now talk about the technique called list **splicing** and see its effect.   \n",
    "First read the code in the cell below and think what is the result you would expect. Then run the cell \n",
    "to check!"
   ]
  },
  {
   "cell_type": "code",
   "execution_count": null,
   "metadata": {},
   "outputs": [],
   "source": [
    "myList = [ \"a\", \"b\", \"c\", \"six cats on the roof\" ]\n",
    "\n",
    "print( myList[ :4 ] )\n",
    "\n",
    "print( myList[ :-2 ] )\n",
    "\n",
    "print( myList[ 1: ] )\n",
    "\n",
    "print( myList[ 0:5:2 ] )\n"
   ]
  },
  {
   "cell_type": "markdown",
   "metadata": {},
   "source": [
    "If you have understood from the previous examples how to splice lists, complete the following tasks by filling\n",
    "with code the appropriate cells below. **Otherwise just read the lecture notes.**\n",
    "\n",
    "0. Define any list of your choice (but make it at least 6 elements long), write the commands to:\n",
    "1. Print out the first 3 elements\n",
    "2. Print out the last 4 elements\n",
    "3. Print out every second element in the list, starting from the second element\n",
    "4. Print out every third element in the list, starting from the first\n"
   ]
  },
  {
   "cell_type": "code",
   "execution_count": null,
   "metadata": {},
   "outputs": [],
   "source": [
    "# 0.\n"
   ]
  },
  {
   "cell_type": "code",
   "execution_count": null,
   "metadata": {},
   "outputs": [],
   "source": [
    "# 1."
   ]
  },
  {
   "cell_type": "code",
   "execution_count": null,
   "metadata": {},
   "outputs": [],
   "source": [
    "# 2.\n"
   ]
  },
  {
   "cell_type": "code",
   "execution_count": null,
   "metadata": {},
   "outputs": [],
   "source": [
    "# 3.\n"
   ]
  },
  {
   "cell_type": "code",
   "execution_count": null,
   "metadata": {},
   "outputs": [],
   "source": [
    "# 4.\n"
   ]
  },
  {
   "cell_type": "markdown",
   "metadata": {},
   "source": [
    "Use the documentation trick explained in the notes ( Lecture 1.02) to retrieve the documentation for the following operations that can be run on lists and print it. Make a mental note of each of these commands or even better take notes!  \n",
    "\n",
    "- .sort\n",
    "- .extend\n",
    "- .insert\n",
    "- .reverse\n",
    "- .index\n",
    "- .count\n",
    "\n",
    "For this, you need first to declare `a` in the cell below as a list variable. You can do this by either assigning any values you want, for example, `a = [ 1, 2 ]`, or simply by declaring an empty list with `a = list[]` or `a = list()` (choose whatever value you want, it is irrelevant here if you just need to retrieve the documentation!)"
   ]
  },
  {
   "cell_type": "code",
   "execution_count": null,
   "metadata": {},
   "outputs": [],
   "source": [
    "a = "
   ]
  },
  {
   "cell_type": "code",
   "execution_count": null,
   "metadata": {},
   "outputs": [],
   "source": [
    "# a.sort\n"
   ]
  },
  {
   "cell_type": "code",
   "execution_count": null,
   "metadata": {},
   "outputs": [],
   "source": [
    "# a.extend\n"
   ]
  },
  {
   "cell_type": "code",
   "execution_count": null,
   "metadata": {},
   "outputs": [],
   "source": [
    "# a.insert ...watch out, the documentation here is not very good. \n",
    "# But the syntax is a.insert( index, object )\n"
   ]
  },
  {
   "cell_type": "code",
   "execution_count": null,
   "metadata": {},
   "outputs": [],
   "source": [
    "# a.reverse\n"
   ]
  },
  {
   "cell_type": "code",
   "execution_count": null,
   "metadata": {},
   "outputs": [],
   "source": [
    "# a.index\n"
   ]
  },
  {
   "cell_type": "code",
   "execution_count": null,
   "metadata": {},
   "outputs": [],
   "source": [
    "# a.count\n"
   ]
  },
  {
   "cell_type": "markdown",
   "metadata": {},
   "source": [
    "Run the Python interpreter in the cell below to assign a value to the `a`, `b` and `c` variables as defined above. \n",
    "Then fill in the correct code in the subsequent cells and run them to:\n",
    "\n",
    "1. order the elements of the list a in ascending order\n",
    "2. order the elements of the list a in descending order\n",
    "3. order the elements of the list b in descending order. What happens?\n",
    "4. Insert the element \"444\" before element 2 in list c\n",
    "5. Determine the index at which the element 4 appears first \n",
    "\n",
    "If you have a look at the lecture notes, you can also:  \n",
    "\n",
    "6. remove the element 77 from list c\n",
    "7. repeat again the previous command and run it. What happens? Why?\n",
    "8. Determine how many times the element 4 appears in list c\n",
    "9. Remove the element 2 from list a\n",
    "10. Repeat command 9 again. What happens? Why?\n",
    "11. Check if the element 9249 is in list c"
   ]
  },
  {
   "cell_type": "code",
   "execution_count": null,
   "metadata": {},
   "outputs": [],
   "source": [
    "a = [ 1, 3, 4, 2, 21 ]\n",
    "b = [ 1, 3, \"a\", 2, 21 ]\n",
    "c = [ 1, 2, 3, 4, 77, 4, 4, 4, 88, 4, 99 ]"
   ]
  },
  {
   "cell_type": "code",
   "execution_count": null,
   "metadata": {},
   "outputs": [],
   "source": [
    "# 1.\n"
   ]
  },
  {
   "cell_type": "code",
   "execution_count": null,
   "metadata": {},
   "outputs": [],
   "source": [
    "# 2.\n"
   ]
  },
  {
   "cell_type": "code",
   "execution_count": null,
   "metadata": {},
   "outputs": [],
   "source": [
    "# 3.\n"
   ]
  },
  {
   "cell_type": "code",
   "execution_count": null,
   "metadata": {},
   "outputs": [],
   "source": [
    "# 4.\n"
   ]
  },
  {
   "cell_type": "code",
   "execution_count": null,
   "metadata": {},
   "outputs": [],
   "source": [
    "# 5.\n"
   ]
  },
  {
   "cell_type": "code",
   "execution_count": null,
   "metadata": {},
   "outputs": [],
   "source": [
    "# 6.\n"
   ]
  },
  {
   "cell_type": "code",
   "execution_count": null,
   "metadata": {},
   "outputs": [],
   "source": [
    "# 7.\n"
   ]
  },
  {
   "cell_type": "code",
   "execution_count": null,
   "metadata": {},
   "outputs": [],
   "source": [
    "# 8.\n"
   ]
  },
  {
   "cell_type": "code",
   "execution_count": null,
   "metadata": {},
   "outputs": [],
   "source": [
    "# 9.\n"
   ]
  },
  {
   "cell_type": "code",
   "execution_count": null,
   "metadata": {},
   "outputs": [],
   "source": [
    "# 10.\n"
   ]
  },
  {
   "cell_type": "code",
   "execution_count": null,
   "metadata": {},
   "outputs": [],
   "source": [
    "# 11.\n"
   ]
  },
  {
   "cell_type": "markdown",
   "metadata": {},
   "source": [
    "Let's now talk about the symbol `=` used with lists...and see what happens.  \n",
    "**Before you run the following cell, please try to read the code inside and think about what kind of output you expect!**  \n",
    "After you run the command, try to understand what happened. If you do not, I suggest you to go back to reading your lecture notes!  "
   ]
  },
  {
   "cell_type": "code",
   "execution_count": null,
   "metadata": {},
   "outputs": [],
   "source": [
    "a = [ 1, 2, 3, 4, 5 ]\n",
    "print( \"The initial value of a is: {0}\".format(a) )\n",
    "print( \"   \" )\n",
    "\n",
    "\n",
    "b = a\n",
    "b[ 0 ] = 42\n",
    "a[ -1 ] = -333\n",
    "print( \"The value of a is now: {0}\".format(a) )\n",
    "print( \"The value of b is: {0}\".format(b) )\n",
    "print( \"   \" )\n",
    "\n",
    "c = b[ 0 : 3 ]\n",
    "c[ 0 ] = 2456\n",
    "print( \"The value of b is: {0}\".format(b) )\n",
    "print( \"   \" )\n",
    "\n",
    "d = c.copy()\n",
    "print( \"The value of c is: {0}\".format(c) )\n",
    "print( \"   \" )\n",
    "\n",
    "d[-1] = 222\n",
    "print( \"The value of c is: {0}\".format(c) )\n",
    "print( \"The value of d is: {0}\".format(d) )\n",
    "print( \"   \" )\n",
    "\n"
   ]
  },
  {
   "cell_type": "markdown",
   "metadata": {},
   "source": [
    "You should answer to yourself the following questions:\n",
    "\n",
    "- What happens when you use the symbol = with lists?\n",
    "- What happens when you do the same with a spliced list? And with a copy?"
   ]
  }
 ],
 "metadata": {
  "kernelspec": {
   "display_name": "Python 3",
   "language": "python",
   "name": "python3"
  },
  "language_info": {
   "codemirror_mode": {
    "name": "ipython",
    "version": 3
   },
   "file_extension": ".py",
   "mimetype": "text/x-python",
   "name": "python",
   "nbconvert_exporter": "python",
   "pygments_lexer": "ipython3",
   "version": "3.7.2"
  }
 },
 "nbformat": 4,
 "nbformat_minor": 2
}
