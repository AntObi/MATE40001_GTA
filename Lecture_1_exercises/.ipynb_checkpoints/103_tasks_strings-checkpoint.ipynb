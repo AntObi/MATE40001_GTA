{
 "cells": [
  {
   "cell_type": "markdown",
   "metadata": {},
   "source": [
    "**IMPORTANT NOTE:**   \n",
    "In order to do some of these exercises, you might have to dig into the lecture notes in the relevant section.  \n",
    "\n",
    "In this notebook, we will explore the properties of the data type called **strings**.  \n",
    "These are described in Lecture notes 1.03.\n",
    "\n",
    "**Quick Summary:**\n",
    "A string is any alphanumerical sequence, which *must* be written *within double or single inverted commas* `\"\"` or `''`. Examples:\n",
    "\n",
    "- \"Hello\" \n",
    "- 'I Love IC'\n",
    "\n",
    "To assign a string value to a variable, you just need to type:  \n",
    "```Python\n",
    "variable_name = \"Whatever string you want including symbols and numbers\"   \n",
    "```\n",
    "\n",
    "Example:\n",
    "\n",
    "```Python\n",
    "today = \"Friday\"\n",
    "date = \"October 13th !\"\n",
    "```"
   ]
  },
  {
   "cell_type": "markdown",
   "metadata": {},
   "source": [
    "To start the exercises, select the next cell and run it first, the fill in the subsequent cells with the requested code"
   ]
  },
  {
   "cell_type": "code",
   "execution_count": null,
   "metadata": {},
   "outputs": [],
   "source": [
    "var = \"Replace this string with any value you want here\""
   ]
  },
  {
   "cell_type": "code",
   "execution_count": null,
   "metadata": {},
   "outputs": [],
   "source": [
    "# Write here below the command to retrieve the fourth letter \n",
    "# of the string above and print it and Run the interpreter to \n",
    "# check if this is correct!\n",
    "# You can do this in this very same cell because I have been \n",
    "# using the symbol \"#\" before these comments, so the Python \n",
    "# interpreter will ignore them! We will do exactly this from now on.\n",
    "\n"
   ]
  },
  {
   "cell_type": "code",
   "execution_count": null,
   "metadata": {},
   "outputs": [],
   "source": [
    "# Write the command to retrieve the last letter of the string \n",
    "# above and print it\n",
    "# HINT: You can use the fact that len( string_variable ) returns \n",
    "# the length of the string. Run the interpreter to check if \n",
    "# this is correct!\n",
    "\n",
    "\n"
   ]
  },
  {
   "cell_type": "markdown",
   "metadata": {},
   "source": [
    "Let's talk about formatting ( Lecture notes 1.03 )\n",
    "\n",
    "In the following cell, complete the print statement below *!it is incomplete as currently written!* so that when you run the Python interpreter it prints out exactly the string \n",
    "\n",
    "```Python\n",
    "\"pi and e up to the third and second decimal digits are: 3.142 and 2.71\"\n",
    "```"
   ]
  },
  {
   "cell_type": "code",
   "execution_count": null,
   "metadata": {},
   "outputs": [],
   "source": [
    "import math\n",
    "a = math.pi\n",
    "e = math.exp(1)\n",
    "b = 48921 \n",
    "\n",
    "print( \"pi and e up to the third and second decimal digits are:  [your code here] and [your code here]\".format( [ your code here] ) )"
   ]
  },
  {
   "cell_type": "code",
   "execution_count": null,
   "metadata": {},
   "outputs": [],
   "source": [
    "# Complete the print statement in this cell to print the \n",
    "# value of b in scientific format using 4 digits. Then run \n",
    "# the cell to check if it is correct!\n",
    "\n",
    "print( \"The value of b is \" )"
   ]
  },
  {
   "cell_type": "markdown",
   "metadata": {},
   "source": [
    "Use the documentation trick (See lecture notes) \n",
    "to retrieve the documentation for the following operations that can be run on strings and print it\n",
    "Make a note of the meaning of each of these commands (you might want to fill in the \n",
    "lecture notes in the corresponding pages)\n",
    "\n",
    "- .lstrip\n",
    "- .rstrip\n",
    "- .casefold \n",
    "- .find\n",
    "- .join\n",
    "- .lower\n",
    "- .split\n",
    "- .splitlines\n",
    "\n",
    "For this, you need first to declare S in the cell below as a string variable (choose whatever value you want\n",
    "or simply type `S = str()`)"
   ]
  },
  {
   "cell_type": "code",
   "execution_count": null,
   "metadata": {},
   "outputs": [],
   "source": [
    "S = \"Change here to Insert any value, then Press Run Above\""
   ]
  },
  {
   "cell_type": "code",
   "execution_count": null,
   "metadata": {},
   "outputs": [],
   "source": [
    "# S.lstrip\n"
   ]
  },
  {
   "cell_type": "code",
   "execution_count": null,
   "metadata": {},
   "outputs": [],
   "source": [
    "# S.rstrip\n"
   ]
  },
  {
   "cell_type": "code",
   "execution_count": null,
   "metadata": {},
   "outputs": [],
   "source": [
    "# S.casefold \n"
   ]
  },
  {
   "cell_type": "code",
   "execution_count": null,
   "metadata": {},
   "outputs": [],
   "source": [
    "# S.find\n"
   ]
  },
  {
   "cell_type": "code",
   "execution_count": null,
   "metadata": {},
   "outputs": [],
   "source": [
    "# S.join\n"
   ]
  },
  {
   "cell_type": "code",
   "execution_count": null,
   "metadata": {},
   "outputs": [],
   "source": [
    "# S.lower\n"
   ]
  },
  {
   "cell_type": "code",
   "execution_count": null,
   "metadata": {},
   "outputs": [],
   "source": [
    "# S.split\n"
   ]
  },
  {
   "cell_type": "code",
   "execution_count": null,
   "metadata": {},
   "outputs": [],
   "source": [
    "# S.splitlines\n"
   ]
  },
  {
   "cell_type": "markdown",
   "metadata": {},
   "source": [
    "Now first run Python in the cell below, then write the code to complete\n",
    "the task requested in the following cells. If you have understood how to use the string operations \n",
    "defined above, it should be fairly quick!"
   ]
  },
  {
   "cell_type": "code",
   "execution_count": null,
   "metadata": {},
   "outputs": [],
   "source": [
    "a = \"This is\"\n",
    "b = \"the end of the world\""
   ]
  },
  {
   "cell_type": "code",
   "execution_count": null,
   "metadata": {},
   "outputs": [],
   "source": [
    "# Write the command to print the string a in small letters\n",
    "\n"
   ]
  },
  {
   "cell_type": "code",
   "execution_count": null,
   "metadata": {},
   "outputs": [],
   "source": [
    "# Write the command to return the list of words present in \n",
    "# the string b\n",
    "\n"
   ]
  },
  {
   "cell_type": "code",
   "execution_count": null,
   "metadata": {},
   "outputs": [],
   "source": [
    "# Write the command to return the position in the string a \n",
    "# where the letter \"i\" first appears\n",
    "\n"
   ]
  },
  {
   "cell_type": "code",
   "execution_count": null,
   "metadata": {},
   "outputs": [],
   "source": [
    "# Write a command, using string operations, to return the \n",
    "# sentence \"the-end-of-the-world\" using the string b\n",
    "\n",
    "\n"
   ]
  },
  {
   "cell_type": "code",
   "execution_count": null,
   "metadata": {},
   "outputs": [],
   "source": [
    "# Write a command to print the string a removing the last \n",
    "# letter, IF the last letter is an \"s\"\n"
   ]
  }
 ],
 "metadata": {
  "kernelspec": {
   "display_name": "Python 3",
   "language": "python",
   "name": "python3"
  },
  "language_info": {
   "codemirror_mode": {
    "name": "ipython",
    "version": 3
   },
   "file_extension": ".py",
   "mimetype": "text/x-python",
   "name": "python",
   "nbconvert_exporter": "python",
   "pygments_lexer": "ipython3",
   "version": "3.7.2"
  }
 },
 "nbformat": 4,
 "nbformat_minor": 2
}
