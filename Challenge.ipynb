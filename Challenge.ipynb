{
 "cells": [
  {
   "cell_type": "code",
   "execution_count": 15,
   "id": "db4d5f6d-04c7-4057-a321-8ceecc54737e",
   "metadata": {},
   "outputs": [],
   "source": [
    "import numpy as np\n",
    "from numpy import random as rnd"
   ]
  },
  {
   "cell_type": "code",
   "execution_count": 11,
   "id": "1e321f22-1ffc-448e-9b81-92c5a157f8aa",
   "metadata": {},
   "outputs": [],
   "source": [
    "# Country class\n",
    "\n",
    "class Country():\n",
    "    def __init__(self, name, N, population):\n",
    "        self.name = name\n",
    "        self.population = population\n",
    "        self.N=N\n",
    "        \n",
    "        return\n",
    "        \n",
    "    def region(self):\n",
    "        return np.zeros((self.N, self.N))"
   ]
  },
  {
   "cell_type": "code",
   "execution_count": null,
   "id": "56a3c953-694a-42ff-bb40-790331b51a52",
   "metadata": {},
   "outputs": [],
   "source": [
    "# People class\n",
    "\n",
    "class People():\n",
    "    def __init__(self, vacc_status=False, infection_status=False, \n",
    "                 quarantine_status=False, age):\n",
    "        self.vacc_status = vacc_status\n",
    "        self.infection_status = infection_status\n",
    "        self.quarantine_status = quarantine_status\n",
    "        self.age = age\n",
    "        self.mobility = rnd.normal(mean, np.sqrt(var), size=int(N))\n",
    "        return\n",
    "    "
   ]
  },
  {
   "cell_type": "code",
   "execution_count": 12,
   "id": "5e8e6b53-3e5b-4777-81f1-2cadbf2f8301",
   "metadata": {},
   "outputs": [],
   "source": [
    "UK=Country(name=\"UK\", N = 5, population = 200)"
   ]
  },
  {
   "cell_type": "code",
   "execution_count": 13,
   "id": "5dff0445-a2f8-4e27-95ac-2b635deb74fa",
   "metadata": {},
   "outputs": [
    {
     "data": {
      "text/plain": [
       "'UK'"
      ]
     },
     "execution_count": 13,
     "metadata": {},
     "output_type": "execute_result"
    }
   ],
   "source": [
    "UK.name"
   ]
  },
  {
   "cell_type": "code",
   "execution_count": 14,
   "id": "1072f33c-eccf-4b98-833f-bbb1ffcb40d2",
   "metadata": {},
   "outputs": [
    {
     "data": {
      "text/plain": [
       "array([[0., 0., 0., 0., 0.],\n",
       "       [0., 0., 0., 0., 0.],\n",
       "       [0., 0., 0., 0., 0.],\n",
       "       [0., 0., 0., 0., 0.],\n",
       "       [0., 0., 0., 0., 0.]])"
      ]
     },
     "execution_count": 14,
     "metadata": {},
     "output_type": "execute_result"
    }
   ],
   "source": [
    "UK.region()"
   ]
  },
  {
   "cell_type": "code",
   "execution_count": 16,
   "id": "38be39a0-e2dc-4497-8db5-102e5e1bad19",
   "metadata": {},
   "outputs": [
    {
     "name": "stdout",
     "output_type": "stream",
     "text": [
      "5\n",
      "25\n"
     ]
    }
   ],
   "source": [
    "class you():\n",
    "    def __init__(self, M):\n",
    "        self.M=M\n",
    "        self.N=M*M\n",
    "        return\n",
    "    \n",
    "a=you(5)\n",
    "print(a.M)\n",
    "print(a.N)"
   ]
  },
  {
   "cell_type": "code",
   "execution_count": 17,
   "id": "454dbe15-f56c-42a7-9a67-e590646bb1c3",
   "metadata": {},
   "outputs": [
    {
     "data": {
      "text/plain": [
       "26.042271113753955"
      ]
     },
     "execution_count": 17,
     "metadata": {},
     "output_type": "execute_result"
    }
   ],
   "source": [
    "rnd.normal(30, np.sqrt(10))"
   ]
  },
  {
   "cell_type": "code",
   "execution_count": 18,
   "id": "6df55806-eeb3-4cfd-96be-1d89c02ee2b9",
   "metadata": {},
   "outputs": [],
   "source": [
    "from scipy.stats import norm"
   ]
  },
  {
   "cell_type": "code",
   "execution_count": 23,
   "id": "5b937411-9d58-421f-bf3b-7296ff2c63b7",
   "metadata": {},
   "outputs": [
    {
     "data": {
      "text/plain": [
       "0.03614447853363626"
      ]
     },
     "execution_count": 23,
     "metadata": {},
     "output_type": "execute_result"
    }
   ],
   "source": [
    "norm.pdf(x=25, loc=30, scale=np.sqrt(10))"
   ]
  },
  {
   "cell_type": "code",
   "execution_count": 25,
   "id": "740e2ac4-cc24-4afb-8ac4-e82e343230ac",
   "metadata": {},
   "outputs": [
    {
     "data": {
      "image/png": "[encoded data removed]",
      "text/plain": [
       "<Figure size 432x288 with 1 Axes>"
      ]
     },
     "metadata": {
      "needs_background": "light"
     },
     "output_type": "display_data"
    }
   ],
   "source": [
    "import matplotlib.pyplot as plt\n",
    "fig, ax = plt.subplots()\n",
    "x= np.arange(0,60,0.001)\n",
    "ax.set_title('N(30,$sqrt(10)^2$)')\n",
    "ax.set_xlabel('x')\n",
    "ax.set_ylabel('f(x)')\n",
    "ax.plot(x, norm.pdf(x, loc=30, scale=np.sqrt(10)))\n",
    "#ax.set_ylim(0,0.45)\n",
    "plt.show()"
   ]
  },
  {
   "cell_type": "code",
   "execution_count": null,
   "id": "09a10069-01ec-4d8a-9737-eed1ac396417",
   "metadata": {},
   "outputs": [],
   "source": []
  }
 ],
 "metadata": {
  "kernelspec": {
   "display_name": "Python 3",
   "language": "python",
   "name": "python3"
  },
  "language_info": {
   "codemirror_mode": {
    "name": "ipython",
    "version": 3
   },
   "file_extension": ".py",
   "mimetype": "text/x-python",
   "name": "python",
   "nbconvert_exporter": "python",
   "pygments_lexer": "ipython3",
   "version": "3.8.8"
  }
 },
 "nbformat": 4,
 "nbformat_minor": 5
}
